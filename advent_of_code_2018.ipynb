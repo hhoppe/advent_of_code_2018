{
  "nbformat": 4,
  "nbformat_minor": 0,
  "metadata": {
    "colab": {
      "name": "advent_of_code_2018.ipynb",
      "provenance": [],
      "collapsed_sections": [],
      "toc_visible": true,
      "include_colab_link": true
    },
    "kernelspec": {
      "name": "python3",
      "display_name": "Python 3"
    }
  },
  "cells": [
    {
      "cell_type": "markdown",
      "metadata": {
        "id": "view-in-github",
        "colab_type": "text"
      },
      "source": [
        "<a href=\"https://colab.research.google.com/github/hhoppe/advent_of_code_2018/blob/main/advent_of_code_2018.ipynb\" target=\"_parent\"><img src=\"https://colab.research.google.com/assets/colab-badge.svg\" alt=\"Open In Colab\"/></a>"
      ]
    },
    {
      "cell_type": "markdown",
      "metadata": {
        "id": "WXIjO0fEzNYw"
      },
      "source": [
        "<a name=\"top\"></a>\n",
        "# Advent of code 2018\n",
        "\n",
        "[[**Open the notebook in Colab**]](https://colab.research.google.com/github/hhoppe/advent_of_code_2018/blob/main/advent_of_code_2018.ipynb)\n",
        "\n",
        "IPython/Jupyter [notebook](https://github.com/hhoppe/advent_of_code_2018/blob/main/advent_of_code_2018.ipynb) by [Hugues Hoppe](http://hhoppe.com/) with solutions to the [2018 Advent of Code puzzles](https://adventofcode.com/2018).\n",
        "\n",
        "Mostly completed in November 2021.\n",
        "\n",
        "See my [**2020** Advent-of-Code notebook](https://github.com/hhoppe/advent_of_code_2020) for notes on how the code is structured."
      ]
    },
    {
      "cell_type": "markdown",
      "metadata": {
        "id": "BDeORtzZKKfw"
      },
      "source": [
        "<a name=\"preamble\"></a>\n",
        "## Preamble"
      ]
    },
    {
      "cell_type": "code",
      "source": [
        "!pip install -q advent-of-code-hhoppe hhoppe-utils mediapy"
      ],
      "metadata": {
        "id": "vDudc1-BYyUX"
      },
      "execution_count": 1,
      "outputs": []
    },
    {
      "cell_type": "code",
      "metadata": {
        "id": "U-m_rc8FSilP"
      },
      "source": [
        "import collections\n",
        "import dataclasses\n",
        "import functools\n",
        "import heapq\n",
        "import itertools\n",
        "import math\n",
        "import re\n",
        "import textwrap\n",
        "from typing import Any, Callable, Dict, List\n",
        "from typing import Optional, Set, Tuple, Union\n",
        "\n",
        "import advent_of_code_hhoppe\n",
        "import hhoppe_utils as hh\n",
        "import mediapy as media\n",
        "import numpy as np\n",
        "import scipy.optimize"
      ],
      "execution_count": 2,
      "outputs": []
    },
    {
      "cell_type": "code",
      "metadata": {
        "id": "f1xUeA9HtE1v"
      },
      "source": [
        "YEAR = 2018"
      ],
      "execution_count": 3,
      "outputs": []
    },
    {
      "cell_type": "code",
      "source": [
        "# (1) To obtain puzzle inputs and answers, we first try these paths/URLs:\n",
        "PROFILE = 'google.Hugues_Hoppe.965276'\n",
        "# PROFILE = 'github.hhoppe.1452460'\n",
        "ZIP_URL = f'https://github.com/hhoppe/advent_of_code_{YEAR}/raw/main/data/{PROFILE}.zip'\n",
        "!if [[ ! -d {PROFILE} ]]; then wget -q {ZIP_URL} && unzip -q {PROFILE}; fi\n",
        "INPUT_URL = f'{PROFILE}/{{year}}_{{day:02d}}_input.txt'\n",
        "ANSWER_URL = f'{PROFILE}/{{year}}_{{day:02d}}{{part_letter}}_answer.txt'"
      ],
      "metadata": {
        "id": "LGAUhyejd9d8"
      },
      "execution_count": 4,
      "outputs": []
    },
    {
      "cell_type": "code",
      "metadata": {
        "id": "PaaZaNmtnsDn"
      },
      "source": [
        "# (2) If URLs not found, we may try adventofcode.com using a session cookie:\n",
        "if 0:\n",
        "  # See https://github.com/wimglenn/advent-of-code-data.\n",
        "  !rm -f ~/.config/aocd/token*\n",
        "  # Fill-in the session cookie in the following:\n",
        "  !if [ '{PROFILE}' == 'google.Hugues_Hoppe.965276' ]; then mkdir -p ~/.config/aocd && echo 53616... >~/.config/aocd/token; fi\n",
        "  !if [ '{PROFILE}' == 'github.hhoppe.1452460' ]; then mkdir -p ~/.config/aocd; echo 53616... >~/.config/aocd/token; fi\n",
        "  !pip install -q advent-of-code-data\n",
        "  import aocd"
      ],
      "execution_count": 5,
      "outputs": []
    },
    {
      "cell_type": "code",
      "metadata": {
        "id": "SS2dbAs3TM7y"
      },
      "source": [
        "try:\n",
        "  import numba\n",
        "  using_numba = True\n",
        "  numba_njit = numba.njit\n",
        "except ModuleNotFoundError:\n",
        "  print('numba unavailable')\n",
        "  using_numba = False\n",
        "  def noop_decorator(*args: Any, **kwargs: Any) -> Any:\n",
        "    \"\"\"Function decorator that ignores any arguments and does nothing.\"\"\"\n",
        "    return (args[0] if len(args) == 1 and callable(args[0]) and not kwargs\n",
        "            else noop_decorator)\n",
        "  numba_njit = noop_decorator"
      ],
      "execution_count": 6,
      "outputs": []
    },
    {
      "cell_type": "code",
      "source": [
        "advent = advent_of_code_hhoppe.Advent(\n",
        "    year=YEAR, input_url=INPUT_URL, answer_url=ANSWER_URL)"
      ],
      "metadata": {
        "id": "kZkmJ2VD8U2X"
      },
      "execution_count": 7,
      "outputs": []
    },
    {
      "cell_type": "markdown",
      "source": [
        "### Helper functions"
      ],
      "metadata": {
        "id": "ajhE2hfz6ovp"
      }
    },
    {
      "cell_type": "code",
      "metadata": {
        "id": "6M3KdXtHK9Tn"
      },
      "source": [
        "check_eq = hh.check_eq"
      ],
      "execution_count": 8,
      "outputs": []
    },
    {
      "cell_type": "markdown",
      "metadata": {
        "id": "wan-EkJe6Hoj"
      },
      "source": [
        "### `Machine` used in several puzzles"
      ]
    },
    {
      "cell_type": "code",
      "metadata": {
        "id": "WHsF0ZRy6Grn"
      },
      "source": [
        "@dataclasses.dataclass\n",
        "class Machine:\n",
        "  num_registers: int = 6\n",
        "  registers = None\n",
        "  ip_register: Optional[int] = None\n",
        "  instructions = None\n",
        "  ip: int = 0\n",
        "\n",
        "  @dataclasses.dataclass\n",
        "  class Instruction:\n",
        "    operation: str\n",
        "    operands: List[int]\n",
        "\n",
        "  def __post_init__(self):\n",
        "    self.registers = [0] * self.num_registers\n",
        "\n",
        "    def assign(registers, operands, value):\n",
        "      output = operands[2]\n",
        "      assert 0 <= output < len(registers)\n",
        "      registers[output] = int(value)\n",
        "\n",
        "    self.operations = {\n",
        "        'addr': lambda r, o: assign(r, o, r[o[0]] + r[o[1]]),\n",
        "        'addi': lambda r, o: assign(r, o, r[o[0]] + o[1]),\n",
        "        'mulr': lambda r, o: assign(r, o, r[o[0]] * r[o[1]]),\n",
        "        'muli': lambda r, o: assign(r, o, r[o[0]] * o[1]),\n",
        "        'banr': lambda r, o: assign(r, o, r[o[0]] & r[o[1]]),\n",
        "        'bani': lambda r, o: assign(r, o, r[o[0]] & o[1]),\n",
        "        'borr': lambda r, o: assign(r, o, r[o[0]] | r[o[1]]),\n",
        "        'bori': lambda r, o: assign(r, o, r[o[0]] | o[1]),\n",
        "        'setr': lambda r, o: assign(r, o, r[o[0]]),\n",
        "        'seti': lambda r, o: assign(r, o, o[0]),\n",
        "        'gtir': lambda r, o: assign(r, o, o[0] > r[o[1]]),\n",
        "        'gtri': lambda r, o: assign(r, o, r[o[0]] > o[1]),\n",
        "        'gtrr': lambda r, o: assign(r, o, r[o[0]] > r[o[1]]),\n",
        "        'eqir': lambda r, o: assign(r, o, o[0] == r[o[1]]),\n",
        "        'eqri': lambda r, o: assign(r, o, r[o[0]] == o[1]),\n",
        "        'eqrr': lambda r, o: assign(r, o, r[o[0]] == r[o[1]]),\n",
        "    }\n",
        "\n",
        "  def read_instructions(self, s):\n",
        "    lines = s.strip('\\n').split('\\n')\n",
        "    if lines[0].startswith('#ip'):\n",
        "      self.ip_register = int(re.fullmatch('#ip (\\d+)', lines[0]).group(1))\n",
        "      lines = lines[1:]\n",
        "    self.instructions = []\n",
        "    for line in lines:\n",
        "      operation, *operands = line.split()\n",
        "      operands = tuple(map(int, operands))\n",
        "      assert operation in self.operations and len(operands) == 3\n",
        "      self.instructions.append(self.Instruction(operation, operands))\n",
        "\n",
        "  def run_instruction(self, verbose=False):\n",
        "    if self.ip_register is not None:\n",
        "      self.registers[self.ip_register] = self.ip\n",
        "    instruction = self.instructions[self.ip]\n",
        "    self.operations[instruction.operation](self.registers, instruction.operands)\n",
        "    if verbose:\n",
        "      print(self.ip, instruction.operation, instruction.operands,\n",
        "            self.registers)\n",
        "    if self.ip_register is not None:\n",
        "      self.ip = self.registers[self.ip_register] + 1\n",
        "    else:\n",
        "      self.ip += 1"
      ],
      "execution_count": 9,
      "outputs": []
    },
    {
      "cell_type": "markdown",
      "metadata": {
        "id": "BjAmIcq7zm2O"
      },
      "source": [
        "<a name=\"day1\"></a>\n",
        "## Day 1: Repeat in running sum"
      ]
    },
    {
      "cell_type": "markdown",
      "metadata": {
        "id": "rqUsuqjsVE4g"
      },
      "source": [
        "- Part 1: Find sum of list of numbers.\n",
        "\n",
        "- Part 2: Find value of running sum that first repeats."
      ]
    },
    {
      "cell_type": "code",
      "metadata": {
        "id": "o-Ye0TCN-bUe",
        "colab": {
          "base_uri": "https://localhost:8080/",
          "height": 302
        },
        "outputId": "cb446d22-8a0c-4eba-d16b-ff46ac70103b"
      },
      "source": [
        "puzzle = advent.puzzle(day=1)"
      ],
      "execution_count": 10,
      "outputs": [
        {
          "output_type": "display_data",
          "data": {
            "text/markdown": "For [day 1](https://adventofcode.com/2018/day/1), `puzzle.input` has 986 lines:",
            "text/plain": [
              "<IPython.core.display.Markdown object>"
            ]
          },
          "metadata": {}
        },
        {
          "output_type": "stream",
          "name": "stdout",
          "text": [
            "-1\n",
            "-7\n",
            "-5\n",
            "-16\n",
            "-2\n",
            "-11\n",
            "-17\n",
            "+14\n",
            " ...\n",
            "-7\n",
            "+10\n",
            "-6\n",
            "+125648\n"
          ]
        },
        {
          "output_type": "display_data",
          "data": {
            "text/markdown": "The stored answers are: `{1: '466', 2: '750'}`",
            "text/plain": [
              "<IPython.core.display.Markdown object>"
            ]
          },
          "metadata": {}
        }
      ]
    },
    {
      "cell_type": "code",
      "metadata": {
        "colab": {
          "base_uri": "https://localhost:8080/"
        },
        "id": "eeU02C1oVPjW",
        "outputId": "a58a2ab8-eb3f-480a-ab11-a272a89f12dc"
      },
      "source": [
        "def process1(s):\n",
        "  entries = map(int, s.replace(', ', '\\n').strip('\\n').split('\\n'))\n",
        "  return sum(entries)\n",
        "\n",
        "check_eq(process1('+1, +1, +1'), 3)\n",
        "check_eq(process1('+1, +1, -2'), 0)\n",
        "check_eq(process1('-1, -2, -3'), -6)\n",
        "puzzle.verify(1, process1)"
      ],
      "execution_count": 11,
      "outputs": [
        {
          "output_type": "stream",
          "name": "stdout",
          "text": [
            "(Part 1: 0.000 s)\n"
          ]
        }
      ]
    },
    {
      "cell_type": "code",
      "metadata": {
        "id": "2CNF3uj6_P7c",
        "colab": {
          "base_uri": "https://localhost:8080/"
        },
        "outputId": "65ebb462-787f-41c5-c003-43dea3de999d"
      },
      "source": [
        "def process2(s):\n",
        "  entries = map(int, s.replace(', ', '\\n').strip('\\n').split('\\n'))\n",
        "  total = 0\n",
        "  found = set()\n",
        "  for value in itertools.cycle(entries):\n",
        "    found.add(total)\n",
        "    total += value\n",
        "    if total in found:\n",
        "      return total\n",
        "  assert False\n",
        "\n",
        "check_eq(process2('+1, -1'), 0)\n",
        "check_eq(process2('+3, +3, +4, -2, -4'), 10)\n",
        "check_eq(process2('-6, +3, +8, +5, -6'), 5)\n",
        "check_eq(process2('+7, +7, -2, -7, -4'), 14)\n",
        "puzzle.verify(2, process2)"
      ],
      "execution_count": 12,
      "outputs": [
        {
          "output_type": "stream",
          "name": "stdout",
          "text": [
            "(Part 2: 0.037 s)\n"
          ]
        }
      ]
    },
    {
      "cell_type": "markdown",
      "metadata": {
        "id": "RoUuAFCFAOXZ"
      },
      "source": [
        "<a name=\"day2\"></a>\n",
        "## Day 2: Ids with repeated letters"
      ]
    },
    {
      "cell_type": "markdown",
      "metadata": {
        "id": "pg7lBTYQkprn"
      },
      "source": [
        "- Part 1: Count the ids that have a letter repeated twice, and the ids that have a letter repeated thrice.  Return the product of the counts.\n",
        "\n",
        "- Part 2: Find two ids that differ in just one letter, and return the id without the differing letter."
      ]
    },
    {
      "cell_type": "code",
      "metadata": {
        "colab": {
          "base_uri": "https://localhost:8080/",
          "height": 302
        },
        "id": "CAP_VQTWh9O2",
        "outputId": "cd3c3bd8-3493-49d2-96dc-a5438f28c4a9"
      },
      "source": [
        "puzzle = advent.puzzle(day=2)"
      ],
      "execution_count": 13,
      "outputs": [
        {
          "output_type": "display_data",
          "data": {
            "text/markdown": "For [day 2](https://adventofcode.com/2018/day/2), `puzzle.input` has 250 lines:",
            "text/plain": [
              "<IPython.core.display.Markdown object>"
            ]
          },
          "metadata": {}
        },
        {
          "output_type": "stream",
          "name": "stdout",
          "text": [
            "qysdgimlcaghpfozuwejmhrbvx\n",
            "qysdtiklcagnpfhzuwbjmhrtvx\n",
            "qysdtiflcsgnpfozuwejmhruvx\n",
            "qkshtiklnagnpfozuwejmhrbvx\n",
            "qysdtnklcagnpmozuwejmhrrvx\n",
            "qysdttkecagnpfozuwijmhrbvx\n",
            "qyedtiklcagnvfozuweymhrbvx\n",
            "qyzdtikzcagnpfozuwejmhqbvx\n",
            " ...\n",
            "qysdtiklcaknpfozuwejcwrbvx\n",
            "qysytiklcagnpfozdfejmhrbvx\n",
            "qysdtiklcagmpfozuwejmgrbox\n",
            "qysdtielcagnpfpzuwejhhrbvx\n"
          ]
        },
        {
          "output_type": "display_data",
          "data": {
            "text/markdown": "The stored answers are: `{1: '4980', 2: 'qysdtrkloagnfozuwujmhrbvx'}`",
            "text/plain": [
              "<IPython.core.display.Markdown object>"
            ]
          },
          "metadata": {}
        }
      ]
    },
    {
      "cell_type": "code",
      "metadata": {
        "colab": {
          "base_uri": "https://localhost:8080/"
        },
        "id": "NCofe-Ikh9O2",
        "outputId": "f55be3be-97b8-43e5-ef9a-01cc9777d90e"
      },
      "source": [
        "def process1(s):\n",
        "  sum_twice = sum_thrice = 0\n",
        "  for id in s.split():\n",
        "    counts = collections.Counter(id)\n",
        "    sum_twice += 2 in counts.values()\n",
        "    sum_thrice += 3 in counts.values()\n",
        "  return sum_twice * sum_thrice\n",
        "\n",
        "check_eq(process1('abcdef bababc abbcde abcccd aabcdd abcdee ababab'), 4 * 3)\n",
        "puzzle.verify(1, process1)"
      ],
      "execution_count": 14,
      "outputs": [
        {
          "output_type": "stream",
          "name": "stdout",
          "text": [
            "(Part 1: 0.002 s)\n"
          ]
        }
      ]
    },
    {
      "cell_type": "code",
      "metadata": {
        "colab": {
          "base_uri": "https://localhost:8080/"
        },
        "id": "Nlar3n9dh9O2",
        "outputId": "22c63811-480e-4de9-8442-62867ed6c1b1"
      },
      "source": [
        "def process2(s):\n",
        "  candidates = set()\n",
        "  for id in s.split():\n",
        "    for pos in range(len(id)):\n",
        "      id2 = id[:pos] + '*' + id[pos + 1:]\n",
        "      if id2 in candidates:\n",
        "        return id2.replace('*', '')\n",
        "      candidates.add(id2)\n",
        "  return None\n",
        "\n",
        "check_eq(process2('abcde fghij klmno pqrst fguij axcye wvxyz'), 'fgij')\n",
        "puzzle.verify(2, process2)"
      ],
      "execution_count": 15,
      "outputs": [
        {
          "output_type": "stream",
          "name": "stdout",
          "text": [
            "(Part 2: 0.006 s)\n"
          ]
        }
      ]
    },
    {
      "cell_type": "markdown",
      "metadata": {
        "id": "QLcB7dwClUpO"
      },
      "source": [
        "<a name=\"day3\"></a>\n",
        "## Day 3: Overlapping rectangles"
      ]
    },
    {
      "cell_type": "markdown",
      "metadata": {
        "id": "IIPeR5t6lUpP"
      },
      "source": [
        "- Part 1: Count the number of grid squares that are covered by at least two rectangles.\n",
        "\n",
        "- Part 2: Find the rectangle that does not overlap with any other rectangle."
      ]
    },
    {
      "cell_type": "code",
      "metadata": {
        "colab": {
          "base_uri": "https://localhost:8080/",
          "height": 302
        },
        "id": "CR5sGhWOlUpP",
        "outputId": "3b85f658-0933-4f50-be43-0879ec152673"
      },
      "source": [
        "puzzle = advent.puzzle(day=3)"
      ],
      "execution_count": 181,
      "outputs": [
        {
          "output_type": "display_data",
          "data": {
            "text/markdown": "For [day 3](https://adventofcode.com/2018/day/3), `puzzle.input` has 1265 lines:",
            "text/plain": [
              "<IPython.core.display.Markdown object>"
            ]
          },
          "metadata": {}
        },
        {
          "output_type": "stream",
          "name": "stdout",
          "text": [
            "#1 @ 871,327: 16x20\n",
            "#2 @ 676,717: 27x26\n",
            "#3 @ 245,818: 19x21\n",
            "#4 @ 89,306: 22x11\n",
            "#5 @ 451,712: 20x11\n",
            "#6 @ 322,299: 24x29\n",
            "#7 @ 161,304: 10x29\n",
            "#8 @ 746,459: 19x25\n",
            " ...\n",
            "#1262 @ 359,24: 15x22\n",
            "#1263 @ 49,668: 26x22\n",
            "#1264 @ 629,465: 10x9\n",
            "#1265 @ 429,317: 24x28\n"
          ]
        },
        {
          "output_type": "display_data",
          "data": {
            "text/markdown": "The stored answers are: `{1: '101565', 2: '656'}`",
            "text/plain": [
              "<IPython.core.display.Markdown object>"
            ]
          },
          "metadata": {}
        }
      ]
    },
    {
      "cell_type": "code",
      "metadata": {
        "colab": {
          "base_uri": "https://localhost:8080/"
        },
        "id": "BM-1fxyNlUpP",
        "outputId": "9466ba80-a19c-4f17-a401-0ba610ecef5c"
      },
      "source": [
        "def process1(s, part2=False, check_single_solution=False):\n",
        "  lines = s.strip('\\n').split('\\n')\n",
        "  pattern = r'#(\\d+) @ (\\d+),(\\d+): (\\d+)x(\\d+)'\n",
        "  grid = collections.defaultdict(int)\n",
        "  for line in lines:\n",
        "    claim, l, t, w, h = map(int, re.fullmatch(pattern, line).groups())\n",
        "    for y in range(t, t + h):\n",
        "      for x in range(l, l + w):\n",
        "        grid[y, x] += 1\n",
        "\n",
        "  if not part2:\n",
        "    return sum(value >= 2 for value in grid.values())\n",
        "\n",
        "  found = []\n",
        "  for line in lines:\n",
        "    claim, l, t, w, h = map(int, re.fullmatch(pattern, line).groups())\n",
        "    if all(grid[y, x] == 1 for y in range(t, t + h) for x in range(l, l + w)):\n",
        "      found.append(claim)\n",
        "      if not check_single_solution:\n",
        "        break\n",
        "  return (lambda x: x)(*found)\n",
        "\n",
        "\n",
        "check_eq(process1('#1 @ 1,3: 4x4\\n#2 @ 3,1: 4x4\\n#3 @ 5,5: 2x2'), 4)\n",
        "puzzle.verify(1, process1)  # ~310 ms.\n",
        "\n",
        "process2 = functools.partial(process1, part2=True)\n",
        "check_eq(process2('#1 @ 1,3: 4x4\\n#2 @ 3,1: 4x4\\n#3 @ 5,5: 2x2'), 3)\n",
        "puzzle.verify(2, process2)  # ~270 ms."
      ],
      "execution_count": 182,
      "outputs": [
        {
          "output_type": "stream",
          "name": "stdout",
          "text": [
            "(Part 1: 0.617 s)\n",
            "(Part 2: 0.545 s)\n"
          ]
        }
      ]
    },
    {
      "cell_type": "code",
      "source": [
        "def process1(s, part2=False, visualize=False):  # Faster with numpy.\n",
        "  lines = s.strip('\\n').split('\\n')\n",
        "  pattern = r'#(\\d+) @ (\\d+),(\\d+): (\\d+)x(\\d+)'\n",
        "  shape = (1000, 1000)\n",
        "  grid = np.full(shape, 0)\n",
        "  for line in lines:\n",
        "    claim, l, t, w, h = map(int, re.fullmatch(pattern, line).groups())\n",
        "    grid[t : t + h, l : l + w] += 1\n",
        "\n",
        "  if not part2:\n",
        "    return np.count_nonzero(grid >= 2)\n",
        "\n",
        "  claim = None\n",
        "  for line in lines:\n",
        "    claim, l, t, w, h = map(int, re.fullmatch(pattern, line).groups())\n",
        "    if np.all(grid[t : t + h, l : l + w] == 1):\n",
        "      break\n",
        "  \n",
        "  if visualize:\n",
        "    grid = media.to_rgb(grid * 1.0)\n",
        "    grid[t : t + h, l : l + w] = (0.7, 0.7, 0.0)\n",
        "    media.show_image(grid * 1.0)\n",
        "\n",
        "  return claim\n",
        "\n",
        "\n",
        "check_eq(process1('#1 @ 1,3: 4x4\\n#2 @ 3,1: 4x4\\n#3 @ 5,5: 2x2'), 4)\n",
        "puzzle.verify(1, process1)  # ~13 ms.\n",
        "\n",
        "process2 = functools.partial(process1, part2=True)\n",
        "check_eq(process2('#1 @ 1,3: 4x4\\n#2 @ 3,1: 4x4\\n#3 @ 5,5: 2x2'), 3)\n",
        "puzzle.verify(2, process2)  # ~21 ms.\n",
        "\n",
        "media.set_max_output_height(2000)\n",
        "_ = process2(puzzle.input, visualize=True)"
      ],
      "metadata": {
        "colab": {
          "base_uri": "https://localhost:8080/",
          "height": 1058
        },
        "id": "M6WKRhZCuTy7",
        "outputId": "6e9a9731-6f84-4cdf-aad3-a78cbc30ec32"
      },
      "execution_count": 192,
      "outputs": [
        {
          "output_type": "stream",
          "name": "stdout",
          "text": [
            "(Part 1: 0.018 s)\n",
            "(Part 2: 0.022 s)\n"
          ]
        },
        {
          "output_type": "display_data",
          "data": {
            "text/html": [
              "<table class=\"show_images\" style=\"border-spacing:0px;\"><tr><td style=\"padding:1px;\"><img width=\"1000\" height=\"1000\" style=\"image-rendering:pixelated; object-fit:cover;\" src=\"data:image/png;base64,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\"/></td></tr></table>"
            ],
            "text/plain": [
              "<IPython.core.display.HTML object>"
            ]
          },
          "metadata": {}
        }
      ]
    },
    {
      "cell_type": "markdown",
      "metadata": {
        "id": "TEyJWDMOpYMR"
      },
      "source": [
        "<a name=\"day4\"></a>\n",
        "## Day 4: Guard sleep patterns"
      ]
    },
    {
      "cell_type": "markdown",
      "metadata": {
        "id": "7LJTYp3npYMR"
      },
      "source": [
        "- Part 1: Find the guard that has the most minutes asleep.  What minute does that guard spend asleep the most?\n",
        "\n",
        "- Part 2: Which guard is most frequently asleep on the same minute?"
      ]
    },
    {
      "cell_type": "code",
      "metadata": {
        "id": "fcrElAcupYMR",
        "colab": {
          "base_uri": "https://localhost:8080/",
          "height": 302
        },
        "outputId": "29c8beef-3133-4c0e-9b86-fae5b0e2cf48"
      },
      "source": [
        "puzzle = advent.puzzle(day=4)"
      ],
      "execution_count": 19,
      "outputs": [
        {
          "output_type": "display_data",
          "data": {
            "text/markdown": "For [day 4](https://adventofcode.com/2018/day/4), `puzzle.input` has 1028 lines:",
            "text/plain": [
              "<IPython.core.display.Markdown object>"
            ]
          },
          "metadata": {}
        },
        {
          "output_type": "stream",
          "name": "stdout",
          "text": [
            "[1518-06-25 23:58] Guard #1069 begins shift\n",
            "[1518-09-16 00:24] falls asleep\n",
            "[1518-04-06 00:56] wakes up\n",
            "[1518-11-04 00:48] wakes up\n",
            "[1518-04-24 00:19] falls asleep\n",
            "[1518-06-02 23:59] Guard #1697 begins shift\n",
            "[1518-08-06 00:00] Guard #947 begins shift\n",
            "[1518-11-01 00:41] falls asleep\n",
            " ...\n",
            "[1518-09-10 23:50] Guard #2039 begins shift\n",
            "[1518-08-16 23:54] Guard #277 begins shift\n",
            "[1518-06-10 00:48] wakes up\n",
            "[1518-09-24 00:47] wakes up\n"
          ]
        },
        {
          "output_type": "display_data",
          "data": {
            "text/markdown": "The stored answers are: `{1: '39584', 2: '55053'}`",
            "text/plain": [
              "<IPython.core.display.Markdown object>"
            ]
          },
          "metadata": {}
        }
      ]
    },
    {
      "cell_type": "code",
      "metadata": {
        "id": "3jETfhLgqulR"
      },
      "source": [
        "s1 = \"\"\"\n",
        "[1518-11-01 00:00] Guard #10 begins shift\n",
        "[1518-11-01 00:05] falls asleep\n",
        "[1518-11-01 00:25] wakes up\n",
        "[1518-11-01 00:30] falls asleep\n",
        "[1518-11-01 00:55] wakes up\n",
        "[1518-11-01 23:58] Guard #99 begins shift\n",
        "[1518-11-02 00:40] falls asleep\n",
        "[1518-11-02 00:50] wakes up\n",
        "[1518-11-03 00:05] Guard #10 begins shift\n",
        "[1518-11-03 00:24] falls asleep\n",
        "[1518-11-03 00:29] wakes up\n",
        "[1518-11-04 00:02] Guard #99 begins shift\n",
        "[1518-11-04 00:36] falls asleep\n",
        "[1518-11-04 00:46] wakes up\n",
        "[1518-11-05 00:03] Guard #99 begins shift\n",
        "[1518-11-05 00:45] falls asleep\n",
        "[1518-11-05 00:55] wakes up\n",
        "\"\"\""
      ],
      "execution_count": 20,
      "outputs": []
    },
    {
      "cell_type": "code",
      "metadata": {
        "colab": {
          "base_uri": "https://localhost:8080/"
        },
        "id": "5FP10UJApYMR",
        "outputId": "74f09567-b2c6-4d33-d66b-7c58a0045538"
      },
      "source": [
        "def process1(s, part2=False):\n",
        "  lines = s.strip('\\n').split('\\n')\n",
        "  lines = sorted(lines)\n",
        "  num_dates = sum('Guard' in line for line in lines)\n",
        "  asleep = np.zeros((num_dates, 60))\n",
        "  date_guard = np.empty(num_dates, dtype=int)\n",
        "  row = -1\n",
        "  for line in lines:\n",
        "    minute, = map(int, re.search(r' \\d\\d:(\\d\\d)', line).groups())\n",
        "    if 'Guard' in line:\n",
        "      guard, = map(int, re.search(r' Guard #(\\d+) begins shift', line).groups())\n",
        "      row += 1\n",
        "      date_guard[row] = guard\n",
        "    elif 'falls asleep' in line:\n",
        "      asleep_minute = minute\n",
        "    elif 'wakes up' in line:\n",
        "      asleep[row][asleep_minute:minute] = 1\n",
        "    else:\n",
        "      raise AssertionError()\n",
        "\n",
        "  guards = set(date_guard)\n",
        "\n",
        "  if not part2:\n",
        "    total_sleep = {guard: asleep[date_guard == guard].sum() for guard in guards}\n",
        "    guard_most_sleep = max(total_sleep, key=total_sleep.get)\n",
        "    minute_sleep = asleep[date_guard == guard_most_sleep].sum(axis=0)\n",
        "    minute_most_sleep = minute_sleep.argmax()\n",
        "    return guard_most_sleep * minute_most_sleep\n",
        "\n",
        "  guard_sleep_by_minute = {guard: asleep[date_guard == guard].sum(axis=0)\n",
        "                           for guard in guards}\n",
        "  guard_max_sleep_by_minute = {\n",
        "      guard: array.max() for guard, array in guard_sleep_by_minute.items()\n",
        "  }\n",
        "  guard = max(guard_max_sleep_by_minute, key=guard_max_sleep_by_minute.get)\n",
        "  minute = guard_sleep_by_minute[guard].argmax()\n",
        "  return guard * minute\n",
        "\n",
        "\n",
        "check_eq(process1(s1), 10 * 24)\n",
        "puzzle.verify(1, process1)\n",
        "\n",
        "process2 = functools.partial(process1, part2=True)\n",
        "check_eq(process2(s1), 99 * 45)\n",
        "puzzle.verify(2, process2)"
      ],
      "execution_count": 21,
      "outputs": [
        {
          "output_type": "stream",
          "name": "stdout",
          "text": [
            "(Part 1: 0.007 s)\n",
            "(Part 2: 0.012 s)\n"
          ]
        }
      ]
    },
    {
      "cell_type": "markdown",
      "metadata": {
        "id": "cfmndoS7Q-b1"
      },
      "source": [
        "<a name=\"day5\"></a>\n",
        "## Day 5: Polymer string simplification"
      ]
    },
    {
      "cell_type": "markdown",
      "metadata": {
        "id": "svFyIYvdQ-b1"
      },
      "source": [
        "- Part 1: Find the length of the string after successively removing all 'bB' and 'Cc' letter pairs.\n",
        "\n",
        "- Part 2: Do the same after allowing all instances of a single letter to be initially removed."
      ]
    },
    {
      "cell_type": "code",
      "metadata": {
        "id": "E6zf5botQ-b1",
        "colab": {
          "base_uri": "https://localhost:8080/",
          "height": 93
        },
        "outputId": "3b81066f-a64b-4dd0-90b2-174326fa468a"
      },
      "source": [
        "puzzle = advent.puzzle(day=5)"
      ],
      "execution_count": 22,
      "outputs": [
        {
          "output_type": "display_data",
          "data": {
            "text/markdown": "For [day 5](https://adventofcode.com/2018/day/5), `puzzle.input` has a single line of 120 characters:",
            "text/plain": [
              "<IPython.core.display.Markdown object>"
            ]
          },
          "metadata": {}
        },
        {
          "output_type": "stream",
          "name": "stdout",
          "text": [
            "cgGfFBbCHhxxXBEebrnNRuUMYMmyyYqTtoOQyYmDbBeYdDDdykKENnVvIidztTxXZmcCOoKkSsMxhHqQ ... hHIZziMAamvKkVdTDddpPDNnQqmMXFfYjJy\n"
          ]
        },
        {
          "output_type": "display_data",
          "data": {
            "text/markdown": "The stored answers are: `{1: '9386', 2: '4876'}`",
            "text/plain": [
              "<IPython.core.display.Markdown object>"
            ]
          },
          "metadata": {}
        }
      ]
    },
    {
      "cell_type": "code",
      "source": [
        "def process1(s, part2=False):  # Slow.\n",
        "\n",
        "  def simplify_polymer(s):\n",
        "    pairs = [chr(ord('a') + i) + chr(ord('A') + i) for i in range(26)]\n",
        "    pairs += [chr(ord('A') + i) + chr(ord('a') + i) for i in range(26)]\n",
        "    regex = re.compile('|'.join(pairs))\n",
        "    s_old = None\n",
        "    while s != s_old:\n",
        "      s_old = s\n",
        "      s = regex.sub('', s)\n",
        "    return s\n",
        "\n",
        "  def remove_elem(s, i):\n",
        "    return s.replace(chr(ord('A') + i), '').replace(chr(ord('a') + i), '')\n",
        "\n",
        "  s = s.strip()\n",
        "  if not part2:\n",
        "    return len(simplify_polymer(s))\n",
        "\n",
        "  return min(len(simplify_polymer(remove_elem(s, i))) for i in range(26))\n",
        "\n",
        "\n",
        "check_eq(process1('dabAcCaCBAcCcaDA'), 10)\n",
        "# puzzle.verify(1, process1)  # ~3 s.\n",
        "\n",
        "process2 = functools.partial(process1, part2=True)\n",
        "check_eq(process2('dabAcCaCBAcCcaDA'), 4)\n",
        "# puzzle.verify(2, process2)  # ~80 s."
      ],
      "metadata": {
        "id": "yQ9mgWMnjvZe"
      },
      "execution_count": 23,
      "outputs": []
    },
    {
      "cell_type": "code",
      "metadata": {
        "id": "Db_DYuB6Q-b1",
        "colab": {
          "base_uri": "https://localhost:8080/"
        },
        "outputId": "aadf270f-75cf-409c-d468-675619783cde"
      },
      "source": [
        "def process1(s, part2=False):  # Faster, using stack and numba.\n",
        "\n",
        "  @numba_njit(cache=True)\n",
        "  def simplify_polymer(s):\n",
        "    l = []\n",
        "    for ch in s:\n",
        "      if l and abs(ord(ch) - ord(l[-1])) == 32:\n",
        "        l.pop()\n",
        "      else:\n",
        "        l.append(ch)\n",
        "    return ''.join(l)\n",
        "\n",
        "  def remove_elem(s, i):\n",
        "    return s.replace(chr(ord('A') + i), '').replace(chr(ord('a') + i), '')\n",
        "\n",
        "  s = s.strip()\n",
        "  if not part2:\n",
        "    return len(simplify_polymer(s))\n",
        "\n",
        "  return min(len(simplify_polymer(remove_elem(s, i))) for i in range(26))\n",
        "\n",
        "\n",
        "check_eq(process1('dabAcCaCBAcCcaDA'), 10)\n",
        "puzzle.verify(1, process1)\n",
        "\n",
        "process2 = functools.partial(process1, part2=True)\n",
        "check_eq(process2('dabAcCaCBAcCcaDA'), 4)\n",
        "puzzle.verify(2, process2)  # ~270 ms with numba (~440 ms without numba)"
      ],
      "execution_count": 24,
      "outputs": [
        {
          "output_type": "stream",
          "name": "stdout",
          "text": [
            "(Part 1: 0.021 s)\n",
            "(Part 2: 0.269 s)\n"
          ]
        }
      ]
    },
    {
      "cell_type": "code",
      "source": [
        "def process1(s, part2=False):  # Fastest; nested loops in numba.\n",
        "\n",
        "  @numba_njit(cache=True)\n",
        "  def length_of_simplified_polymer(codes):\n",
        "    l = []\n",
        "    for code in codes:\n",
        "      if l and abs(code - l[-1]) == 32:\n",
        "        l.pop()\n",
        "      else:\n",
        "        l.append(code)\n",
        "    return len(l)\n",
        "\n",
        "  @numba_njit(cache=True)\n",
        "  def min_length_after_removing_any_one_letter_pair(codes):\n",
        "    min_length = 10**8\n",
        "    for omit in range(26):\n",
        "      l = []\n",
        "      for code in codes:\n",
        "        if code != omit and code != omit + 32:\n",
        "          if l and abs(code - l[-1]) == 32:\n",
        "            l.pop()\n",
        "          else:\n",
        "            l.append(code)\n",
        "      min_length = min(min_length, len(l))\n",
        "    return min_length\n",
        "\n",
        "  # Convert string to list of codes, each in 0..25 or 32..57 .\n",
        "  codes = np.array([ord(ch) - ord('A') for ch in s.strip()], dtype=np.int32)\n",
        "  if not part2:\n",
        "    return length_of_simplified_polymer(codes)\n",
        "\n",
        "  return min_length_after_removing_any_one_letter_pair(codes)\n",
        "\n",
        "\n",
        "check_eq(process1('dabAcCaCBAcCcaDA'), 10)\n",
        "puzzle.verify(1, process1)\n",
        "\n",
        "process2 = functools.partial(process1, part2=True)\n",
        "check_eq(process2('dabAcCaCBAcCcaDA'), 4)\n",
        "puzzle.verify(2, process2)  # ~43 ms."
      ],
      "metadata": {
        "colab": {
          "base_uri": "https://localhost:8080/"
        },
        "id": "GbFeIntEiYN1",
        "outputId": "4ba6ff8c-e850-4b76-cf86-785d30081517"
      },
      "execution_count": 25,
      "outputs": [
        {
          "output_type": "stream",
          "name": "stdout",
          "text": [
            "(Part 1: 0.020 s)\n",
            "(Part 2: 0.044 s)\n"
          ]
        }
      ]
    },
    {
      "cell_type": "markdown",
      "metadata": {
        "id": "b09e2l96W1NA"
      },
      "source": [
        "<a name=\"day6\"></a>\n",
        "## Day 6: Voronoi areas"
      ]
    },
    {
      "cell_type": "markdown",
      "metadata": {
        "id": "OEVkjkKDW1NB"
      },
      "source": [
        "- Part 1: What is the size of the largest area that isn't infinite?\n",
        "\n",
        "- Part 2: What is the size of the region containing all locations which have a total distance to all given coordinates of less than 10000?"
      ]
    },
    {
      "cell_type": "code",
      "metadata": {
        "id": "1ity5cPAW1NB",
        "colab": {
          "base_uri": "https://localhost:8080/",
          "height": 302
        },
        "outputId": "20fc147d-8467-4a08-dad4-b60de7c5d29e"
      },
      "source": [
        "puzzle = advent.puzzle(day=6)"
      ],
      "execution_count": 26,
      "outputs": [
        {
          "output_type": "display_data",
          "data": {
            "text/markdown": "For [day 6](https://adventofcode.com/2018/day/6), `puzzle.input` has 50 lines:",
            "text/plain": [
              "<IPython.core.display.Markdown object>"
            ]
          },
          "metadata": {}
        },
        {
          "output_type": "stream",
          "name": "stdout",
          "text": [
            "353, 177\n",
            "233, 332\n",
            "178, 231\n",
            "351, 221\n",
            "309, 151\n",
            "105, 289\n",
            "91, 236\n",
            "321, 206\n",
            " ...\n",
            "277, 173\n",
            "286, 44\n",
            "242, 150\n",
            "120, 230\n"
          ]
        },
        {
          "output_type": "display_data",
          "data": {
            "text/markdown": "The stored answers are: `{1: '4829', 2: '46966'}`",
            "text/plain": [
              "<IPython.core.display.Markdown object>"
            ]
          },
          "metadata": {}
        }
      ]
    },
    {
      "cell_type": "code",
      "metadata": {
        "id": "YqJgwPZPXvFn"
      },
      "source": [
        "s1 = \"\"\"\n",
        "1, 1\n",
        "1, 6\n",
        "8, 3\n",
        "3, 4\n",
        "5, 5\n",
        "8, 9\n",
        "\"\"\""
      ],
      "execution_count": 27,
      "outputs": []
    },
    {
      "cell_type": "code",
      "metadata": {
        "id": "mnZM6oxPW1NB",
        "colab": {
          "base_uri": "https://localhost:8080/",
          "height": 398
        },
        "outputId": "f893143b-67db-4e5d-951b-e53b280d66a5"
      },
      "source": [
        "def process1(s, part2=False, max_sum=10_000, visualize=False):\n",
        "  yxs = []\n",
        "  for line in s.strip('\\n').split('\\n'):\n",
        "    x, y = map(int, line.split(','))\n",
        "    yxs.append((y, x))\n",
        "  shape = np.max(yxs, axis=0) + 1\n",
        "\n",
        "  def manhattan_from(yx):\n",
        "    indices = np.indices(shape, dtype=np.int32)\n",
        "    return abs(indices[0] - yx[0]) + abs(indices[1] - yx[1])\n",
        "\n",
        "  all_manhattans = np.array([manhattan_from(yx) for yx in yxs])\n",
        "\n",
        "  if not part2:\n",
        "    closest = all_manhattans.argmin(axis=0)\n",
        "    # min_manhattan = all_manhattans.min(axis=0)  # Same but a bit slower.\n",
        "    min_manhattan = np.take_along_axis(all_manhattans, closest[None], axis=0)[0]\n",
        "    count_min = np.count_nonzero(all_manhattans == min_manhattan, axis=0)\n",
        "    closest[count_min > 1] = -1  # Disqualify equidistant locations.\n",
        "    unbounded = (set(closest[0]) | set(closest[-1]) |\n",
        "                 set(closest[:, 0]) | set(closest[:, -1]))\n",
        "    counts = collections.Counter(closest.flat)\n",
        "    count, i = max((c, i) for i, c in counts.items()\n",
        "                   if i not in unbounded | {-1})\n",
        "    if visualize:\n",
        "      np.random.seed(0)\n",
        "      cmap = np.uint8(np.random.choice(range(30, 150), (len(yxs) + 1, 3)))\n",
        "      image = cmap[closest + 1]\n",
        "      unb = (closest[..., None] == np.array(list(unbounded))).sum(axis=-1) > 0\n",
        "      image[unb] += 105\n",
        "      image[closest == -1] = (255, 255, 255)\n",
        "      image[closest == i] = (255, 0, 0)\n",
        "      media.show_image(image, height=max(40, shape[0]))\n",
        "    return count\n",
        "\n",
        "  sum_manhattans = all_manhattans.sum(axis=0)\n",
        "  return np.count_nonzero(sum_manhattans < max_sum)\n",
        "\n",
        "check_eq(process1(s1), 17)\n",
        "puzzle.verify(1, process1)\n",
        "\n",
        "_ = process1(puzzle.input, visualize=True)"
      ],
      "execution_count": 28,
      "outputs": [
        {
          "output_type": "stream",
          "name": "stdout",
          "text": [
            "(Part 1: 0.131 s)\n"
          ]
        },
        {
          "output_type": "display_data",
          "data": {
            "text/html": [
              "<table class=\"show_images\" style=\"border-spacing:0px;\"><tr><td style=\"padding:1px;\"><img width=\"355\" height=\"357\" style=\"image-rendering:pixelated; object-fit:cover;\" src=\"data:image/png;base64,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\"/></td></tr></table>"
            ],
            "text/plain": [
              "<IPython.core.display.HTML object>"
            ]
          },
          "metadata": {}
        }
      ]
    },
    {
      "cell_type": "code",
      "metadata": {
        "id": "GGK_KrSdW1NB",
        "colab": {
          "base_uri": "https://localhost:8080/"
        },
        "outputId": "d6156f95-2b57-47c9-9c95-1f2605f88d97"
      },
      "source": [
        "process2 = functools.partial(process1, part2=True)\n",
        "check_eq(process2(s1, max_sum=32), 16)\n",
        "puzzle.verify(2, process2)"
      ],
      "execution_count": 29,
      "outputs": [
        {
          "output_type": "stream",
          "name": "stdout",
          "text": [
            "(Part 2: 0.067 s)\n"
          ]
        }
      ]
    },
    {
      "cell_type": "markdown",
      "metadata": {
        "id": "PPamDEl54j2n"
      },
      "source": [
        "<a name=\"day7\"></a>\n",
        "## Day 7: Tasks with dependencies"
      ]
    },
    {
      "cell_type": "markdown",
      "metadata": {
        "id": "JhykXvbz4j2n"
      },
      "source": [
        "- Part 1: In what order should the steps in your instructions be completed?\n",
        "\n",
        "- Part 2: With 5 workers and the 60+ second step durations described above, how long will it take to complete all of the steps?"
      ]
    },
    {
      "cell_type": "code",
      "metadata": {
        "id": "UlLCi4O_4j2n",
        "colab": {
          "base_uri": "https://localhost:8080/",
          "height": 302
        },
        "outputId": "fb7166d5-a622-4b3f-a8c2-8639c2ccdedf"
      },
      "source": [
        "puzzle = advent.puzzle(day=7)"
      ],
      "execution_count": 30,
      "outputs": [
        {
          "output_type": "display_data",
          "data": {
            "text/markdown": "For [day 7](https://adventofcode.com/2018/day/7), `puzzle.input` has 101 lines:",
            "text/plain": [
              "<IPython.core.display.Markdown object>"
            ]
          },
          "metadata": {}
        },
        {
          "output_type": "stream",
          "name": "stdout",
          "text": [
            "Step H must be finished before step C can begin.\n",
            "Step R must be finished before step S can begin.\n",
            "Step F must be finished before step M can begin.\n",
            "Step S must be finished before step Z can begin.\n",
            "Step X must be finished before step Z can begin.\n",
            "Step Q must be finished before step G can begin.\n",
            "Step M must be finished before step Z can begin.\n",
            "Step G must be finished before step V can begin.\n",
            " ...\n",
            "Step F must be finished before step C can begin.\n",
            "Step B must be finished before step L can begin.\n",
            "Step O must be finished before step T can begin.\n",
            "Step S must be finished before step O can begin.\n"
          ]
        },
        {
          "output_type": "display_data",
          "data": {
            "text/markdown": "The stored answers are: `{1: 'FHMEQGIRSXNWZBCLOTUADJPKVY', 2: '917'}`",
            "text/plain": [
              "<IPython.core.display.Markdown object>"
            ]
          },
          "metadata": {}
        }
      ]
    },
    {
      "cell_type": "code",
      "metadata": {
        "id": "zjkvIGzi4j2n"
      },
      "source": [
        "s1 = \"\"\"\n",
        "Step C must be finished before step A can begin.\n",
        "Step C must be finished before step F can begin.\n",
        "Step A must be finished before step B can begin.\n",
        "Step A must be finished before step D can begin.\n",
        "Step B must be finished before step E can begin.\n",
        "Step D must be finished before step E can begin.\n",
        "Step F must be finished before step E can begin.\n",
        "\"\"\""
      ],
      "execution_count": 31,
      "outputs": []
    },
    {
      "cell_type": "code",
      "metadata": {
        "id": "l7WUruWh-yCg",
        "colab": {
          "base_uri": "https://localhost:8080/"
        },
        "outputId": "0e9a3721-6e5a-4967-9ef7-b6db9ad781c4"
      },
      "source": [
        "def process1(s, part2=False, num_workers=5, cost_base=60):\n",
        "  dependencies = collections.defaultdict(set)\n",
        "  nodes = set()\n",
        "  for line in s.strip('\\n').split('\\n'):\n",
        "    pattern = r'Step (.) must be finished before step (.) can begin\\.'\n",
        "    node1, node2 = re.fullmatch(pattern, line).groups()\n",
        "    nodes |= {node1, node2}\n",
        "    dependencies[node2].add(node1)\n",
        "  nodelist = sorted(nodes)\n",
        "\n",
        "  def get_next_node():\n",
        "    for node in nodelist:\n",
        "      if not dependencies[node]:\n",
        "        nodelist.remove(node)\n",
        "        return node\n",
        "    return None\n",
        "\n",
        "  def finish_node(node):\n",
        "    for set_ in dependencies.values():\n",
        "      set_ -= {node}\n",
        "\n",
        "  if not part2:\n",
        "    result = []\n",
        "    while nodelist:\n",
        "      node = get_next_node()\n",
        "      result.append(node)\n",
        "      finish_node(node)\n",
        "    return ''.join(result)\n",
        "\n",
        "  worker_node = [None] * num_workers\n",
        "  worker_time = [0] * num_workers\n",
        "  time = 0\n",
        "  while True:\n",
        "    for worker in range(num_workers):\n",
        "      if worker_node[worker]:\n",
        "        worker_time[worker] -= 1\n",
        "        if not worker_time[worker]:\n",
        "          finish_node(worker_node[worker])\n",
        "          worker_node[worker] = None\n",
        "    if not nodelist and not any(worker_node):\n",
        "      break\n",
        "    for worker in range(num_workers):\n",
        "      if not worker_node[worker]:\n",
        "        node = get_next_node()\n",
        "        if node:\n",
        "          worker_node[worker] = node\n",
        "          worker_time[worker] = cost_base + 1 + ord(node) - ord('A')\n",
        "    time += 1\n",
        "  return time\n",
        "\n",
        "\n",
        "check_eq(process1(s1), 'CABDFE')\n",
        "puzzle.verify(1, process1)\n",
        "\n",
        "process2 = functools.partial(process1, part2=True)\n",
        "check_eq(process2(s1, num_workers=2, cost_base=0), 15)\n",
        "puzzle.verify(2, process2)"
      ],
      "execution_count": 32,
      "outputs": [
        {
          "output_type": "stream",
          "name": "stdout",
          "text": [
            "(Part 1: 0.000 s)\n",
            "(Part 2: 0.004 s)\n"
          ]
        }
      ]
    },
    {
      "cell_type": "markdown",
      "metadata": {
        "id": "TpHJlvWK5G9P"
      },
      "source": [
        "<a name=\"day8\"></a>\n",
        "## Day 8: Tree from preorder traversal"
      ]
    },
    {
      "cell_type": "markdown",
      "metadata": {
        "id": "VLBxGZP85G9P"
      },
      "source": [
        "- Part 1: What is the sum of all metadata entries?\n",
        "\n",
        "- Part 2: What is the computed value of the root node?"
      ]
    },
    {
      "cell_type": "code",
      "metadata": {
        "id": "oW4UC4jz5G9P",
        "colab": {
          "base_uri": "https://localhost:8080/",
          "height": 93
        },
        "outputId": "692d6fa4-df92-4163-e0bb-1d8ca9b43696"
      },
      "source": [
        "puzzle = advent.puzzle(day=8)"
      ],
      "execution_count": 33,
      "outputs": [
        {
          "output_type": "display_data",
          "data": {
            "text/markdown": "For [day 8](https://adventofcode.com/2018/day/8), `puzzle.input` has a single line of 120 characters:",
            "text/plain": [
              "<IPython.core.display.Markdown object>"
            ]
          },
          "metadata": {}
        },
        {
          "output_type": "stream",
          "name": "stdout",
          "text": [
            "7 11 7 2 5 4 3 4 1 5 0 6 7 5 5 8 1 4 1 1 1 1 1 1 9 0 8 4 8 6 4 1 1 3 6 3 3 2 2 1 ... 2 4 6 1 7 4 6 3 6 9 7 7 5 4 6 7 4 2\n"
          ]
        },
        {
          "output_type": "display_data",
          "data": {
            "text/markdown": "The stored answers are: `{1: '36027', 2: '23960'}`",
            "text/plain": [
              "<IPython.core.display.Markdown object>"
            ]
          },
          "metadata": {}
        }
      ]
    },
    {
      "cell_type": "code",
      "metadata": {
        "id": "xcz8kV0C5G9Q",
        "colab": {
          "base_uri": "https://localhost:8080/"
        },
        "outputId": "62b4964a-8982-4ef7-a772-0d34af1ddbff"
      },
      "source": [
        "def process1(s, part2=False):\n",
        "\n",
        "  @dataclasses.dataclass\n",
        "  class TreeNode:\n",
        "    children: List['TreeNode']\n",
        "    metadatas: List[int]\n",
        "\n",
        "  values = map(int, s.split())\n",
        "\n",
        "  def parse_tree():\n",
        "    node = TreeNode([], [])\n",
        "    num_children = next(values)\n",
        "    num_metadatas = next(values)\n",
        "    for _ in range(num_children):\n",
        "      node.children.append(parse_tree())\n",
        "    for _ in range(num_metadatas):\n",
        "      node.metadatas.append(next(values))\n",
        "    return node\n",
        "\n",
        "  tree = parse_tree()\n",
        "  assert next(values, None) is None\n",
        "\n",
        "  def sum_metadata(node):\n",
        "    return sum(sum_metadata(n) for n in node.children) + sum(node.metadatas)\n",
        "\n",
        "  if not part2:\n",
        "    return sum_metadata(tree)\n",
        "\n",
        "  def node_value(node):\n",
        "    if not node.children:\n",
        "      return sum(node.metadatas)\n",
        "    return sum(node_value(node.children[child_index - 1])\n",
        "               for child_index in node.metadatas\n",
        "               if 1 <= child_index <= len(node.children))\n",
        "\n",
        "  return node_value(tree)\n",
        "\n",
        "check_eq(process1('2 3 0 3 10 11 12 1 1 0 1 99 2 1 1 2'), 138)\n",
        "puzzle.verify(1, process1)\n",
        "\n",
        "process2 = functools.partial(process1, part2=True)\n",
        "check_eq(process2('2 3 0 3 10 11 12 1 1 0 1 99 2 1 1 2'), 66)\n",
        "puzzle.verify(2, process2)"
      ],
      "execution_count": 34,
      "outputs": [
        {
          "output_type": "stream",
          "name": "stdout",
          "text": [
            "(Part 1: 0.011 s)\n",
            "(Part 2: 0.010 s)\n"
          ]
        }
      ]
    },
    {
      "cell_type": "markdown",
      "metadata": {
        "id": "sxoK4yMs5Hww"
      },
      "source": [
        "<a name=\"day9\"></a>\n",
        "## Day 9: Circle of marbles"
      ]
    },
    {
      "cell_type": "markdown",
      "metadata": {
        "id": "Hff1PUPY5Hww"
      },
      "source": [
        "- Part 1: What is the winning Elf's score?\n",
        "\n",
        "- Part 2: What would the new winning Elf's score be if the number of the last marble were 100 times larger?"
      ]
    },
    {
      "cell_type": "code",
      "metadata": {
        "id": "Poc8623d5Hww",
        "colab": {
          "base_uri": "https://localhost:8080/",
          "height": 93
        },
        "outputId": "8a16b894-3a9a-4023-cf39-61ea7d9c06dd"
      },
      "source": [
        "puzzle = advent.puzzle(day=9)"
      ],
      "execution_count": 35,
      "outputs": [
        {
          "output_type": "display_data",
          "data": {
            "text/markdown": "For [day 9](https://adventofcode.com/2018/day/9), `puzzle.input` has a single line of 46 characters:",
            "text/plain": [
              "<IPython.core.display.Markdown object>"
            ]
          },
          "metadata": {}
        },
        {
          "output_type": "stream",
          "name": "stdout",
          "text": [
            "479 players; last marble is worth 71035 points\n"
          ]
        },
        {
          "output_type": "display_data",
          "data": {
            "text/markdown": "The stored answers are: `{1: '367634', 2: '3020072891'}`",
            "text/plain": [
              "<IPython.core.display.Markdown object>"
            ]
          },
          "metadata": {}
        }
      ]
    },
    {
      "cell_type": "code",
      "metadata": {
        "id": "CUCJk5mt5Hwx",
        "colab": {
          "base_uri": "https://localhost:8080/"
        },
        "outputId": "0b56dbf5-ae26-44a0-cb95-2fbcb3d9a967"
      },
      "source": [
        "def process1(s, part2=False):\n",
        "  pattern = r'(\\d+) players; last marble is worth (\\d+) points'\n",
        "  num_players, last_marble = map(int, re.fullmatch(pattern, s.strip()).groups())\n",
        "  if part2:\n",
        "    last_marble *= 100\n",
        "  marbles = collections.deque([0])\n",
        "  scores = [0] * num_players\n",
        "  # Note that numba does not support deque; there is a feature request:\n",
        "  # https://githubmemory.com/repo/numba/numba/issues/7417\n",
        "  for marble in range(1, last_marble + 1):\n",
        "    if marble % 23 == 0:\n",
        "      marbles.rotate(7)\n",
        "      scores[marble % num_players] += marble + marbles.popleft()\n",
        "    else:\n",
        "      marbles.rotate(-2)\n",
        "      marbles.appendleft(marble)\n",
        "\n",
        "  return max(scores)\n",
        "\n",
        "\n",
        "check_eq(process1('10 players; last marble is worth 1618 points'), 8317)\n",
        "check_eq(process1('13 players; last marble is worth 7999 points'), 146373)\n",
        "check_eq(process1('17 players; last marble is worth 1104 points'), 2764)\n",
        "check_eq(process1('21 players; last marble is worth 6111 points'), 54718)\n",
        "check_eq(process1('30 players; last marble is worth 5807 points'), 37305)\n",
        "puzzle.verify(1, process1)  # ~0.02 s\n",
        "\n",
        "process2 = functools.partial(process1, part2=True)\n",
        "# puzzle.verify(2, process2)  # ~2.0 s"
      ],
      "execution_count": 36,
      "outputs": [
        {
          "output_type": "stream",
          "name": "stdout",
          "text": [
            "(Part 1: 0.046 s)\n"
          ]
        }
      ]
    },
    {
      "cell_type": "code",
      "source": [
        "def process1(s, part2=False):  # Slightly faster with quick inner loop.\n",
        "  pattern = r'(\\d+) players; last marble is worth (\\d+) points'\n",
        "  num_players, last_marble = map(int, re.fullmatch(pattern, s.strip()).groups())\n",
        "  if part2:\n",
        "    last_marble *= 100\n",
        "  marbles = collections.deque([0])\n",
        "  scores = [0] * num_players\n",
        "  marble = 1\n",
        "  while marble < last_marble - 23:\n",
        "    for marble in range(marble, marble + 22):\n",
        "      marbles.rotate(-1)\n",
        "      marbles.append(marble)\n",
        "    marble += 1\n",
        "    marbles.rotate(7)\n",
        "    scores[marble % num_players] += marble + marbles.pop()\n",
        "    marbles.rotate(-1)\n",
        "    marble += 1\n",
        "\n",
        "  for marble in range(marble, last_marble + 1):\n",
        "    if marble % 23 == 0:\n",
        "      marbles.rotate(7)\n",
        "      scores[marble % num_players] += marble + marbles.pop()\n",
        "      marbles.rotate(-1)\n",
        "    else:\n",
        "      marbles.rotate(-1)\n",
        "      marbles.append(marble)\n",
        "\n",
        "  return max(scores)\n",
        "\n",
        "\n",
        "check_eq(process1('10 players; last marble is worth 1618 points'), 8317)\n",
        "check_eq(process1('13 players; last marble is worth 7999 points'), 146373)\n",
        "check_eq(process1('17 players; last marble is worth 1104 points'), 2764)\n",
        "check_eq(process1('21 players; last marble is worth 6111 points'), 54718)\n",
        "check_eq(process1('30 players; last marble is worth 5807 points'), 37305)\n",
        "puzzle.verify(1, process1)\n",
        "\n",
        "process2 = functools.partial(process1, part2=True)\n",
        "# puzzle.verify(2, process2)  # ~1.8 s."
      ],
      "metadata": {
        "colab": {
          "base_uri": "https://localhost:8080/"
        },
        "id": "_tbOokXQD-7p",
        "outputId": "834838c1-30f3-4f10-e367-21ba69c71215"
      },
      "execution_count": 37,
      "outputs": [
        {
          "output_type": "stream",
          "name": "stdout",
          "text": [
            "(Part 1: 0.036 s)\n"
          ]
        }
      ]
    },
    {
      "cell_type": "code",
      "source": [
        "def process1(s, part2=False):  # Fastest.  Singly-linked list is sufficient!\n",
        "  pattern = r'(\\d+) players; last marble is worth (\\d+) points'\n",
        "  num_players, last_marble = map(int, re.fullmatch(pattern, s.strip()).groups())\n",
        "  if part2:\n",
        "    last_marble *= 100\n",
        "\n",
        "  @numba_njit(cache=True)\n",
        "  def func(num_players, last_marble):\n",
        "    scores = [0] * num_players\n",
        "    # \"array[marble1] == marble2\" indicates that marble2 is next after marble1.\n",
        "    array = np.empty(last_marble + 23, dtype=np.int32)\n",
        "    array[0] = 1\n",
        "    array[1] = 0\n",
        "    marble = 2\n",
        "\n",
        "    while True:\n",
        "      for marble in range(marble, marble + 21):  # e.g., [2, ..., 22]\n",
        "        marble1 = array[marble - 1]\n",
        "        marble2 = array[marble1]\n",
        "        array[marble1] = marble\n",
        "        array[marble] = marble2\n",
        "      marble += 1  # e.g., 23\n",
        "      popped = array[marble - 5]  # e.g., 9 = next(18)\n",
        "      if marble > last_marble:\n",
        "        break\n",
        "      scores[marble % num_players] += marble + popped\n",
        "      array[marble - 5] = marble - 4  # Remove popped.\n",
        "      next19 = array[marble - 4]\n",
        "      array[marble + 1] = array[next19]  # e.g., next(24) = next(next(19))\n",
        "      array[next19] = marble + 1  # e.g., next(next(19)) = 24\n",
        "      marble += 2  # e.g., 25 == 2 (mod 23)\n",
        "\n",
        "    return max(scores)\n",
        "\n",
        "  return func(num_players, last_marble)\n",
        "\n",
        "\n",
        "check_eq(process1('10 players; last marble is worth 1618 points'), 8317)\n",
        "check_eq(process1('13 players; last marble is worth 7999 points'), 146373)\n",
        "check_eq(process1('17 players; last marble is worth 1104 points'), 2764)\n",
        "check_eq(process1('21 players; last marble is worth 6111 points'), 54718)\n",
        "check_eq(process1('30 players; last marble is worth 5807 points'), 37305)\n",
        "puzzle.verify(1, process1)  # ~6 ms  (~50 ms without numba)\n",
        "\n",
        "process2 = functools.partial(process1, part2=True)\n",
        "puzzle.verify(2, process2)  # ~38 ms (~5100 ms without numba)"
      ],
      "metadata": {
        "colab": {
          "base_uri": "https://localhost:8080/"
        },
        "id": "ekyyU_CQq_gC",
        "outputId": "777bb50c-baff-4bd8-be9d-2635f8d14151"
      },
      "execution_count": 38,
      "outputs": [
        {
          "output_type": "stream",
          "name": "stdout",
          "text": [
            "(Part 1: 0.011 s)\n",
            "(Part 2: 0.062 s)\n"
          ]
        }
      ]
    },
    {
      "cell_type": "markdown",
      "metadata": {
        "id": "8FN-706X5ImY"
      },
      "source": [
        "<a name=\"day10\"></a>\n",
        "## Day 10: Message from moving points"
      ]
    },
    {
      "cell_type": "markdown",
      "metadata": {
        "id": "SJbeGnBK5ImZ"
      },
      "source": [
        "- Part 1: What message will eventually appear in the sky?\n",
        "\n",
        "- Part 2: how many seconds would they have needed to wait for that message to appear?"
      ]
    },
    {
      "cell_type": "code",
      "metadata": {
        "id": "RVgttL8I5ImZ",
        "colab": {
          "base_uri": "https://localhost:8080/",
          "height": 302
        },
        "outputId": "f3f18bd0-3b36-46fd-b5f3-1f6675ecbd8d"
      },
      "source": [
        "puzzle = advent.puzzle(day=10)"
      ],
      "execution_count": 194,
      "outputs": [
        {
          "output_type": "display_data",
          "data": {
            "text/markdown": "For [day 10](https://adventofcode.com/2018/day/10), `puzzle.input` has 383 lines:",
            "text/plain": [
              "<IPython.core.display.Markdown object>"
            ]
          },
          "metadata": {}
        },
        {
          "output_type": "stream",
          "name": "stdout",
          "text": [
            "position=< 20247,  40241> velocity=<-2, -4>\n",
            "position=< 10184, -29948> velocity=<-1,  3>\n",
            "position=< 50313, -39966> velocity=<-5,  4>\n",
            "position=<-19870, -19921> velocity=< 2,  2>\n",
            "position=< 10224, -49995> velocity=<-1,  5>\n",
            "position=<-19904,  20191> velocity=< 2, -2>\n",
            "position=< 50300,  -9887> velocity=<-5,  1>\n",
            "position=<-29924, -29942> velocity=< 3,  3>\n",
            " ...\n",
            "position=< -9838,  30214> velocity=< 1, -3>\n",
            "position=< 50305,  50269> velocity=<-5, -5>\n",
            "position=<-49933,  -9891> velocity=< 5,  1>\n",
            "position=< 50321,  30215> velocity=<-5, -3>\n"
          ]
        },
        {
          "output_type": "display_data",
          "data": {
            "text/markdown": "The stored answers are: `{1: 'FPRBRRZA', 2: '10027'}`",
            "text/plain": [
              "<IPython.core.display.Markdown object>"
            ]
          },
          "metadata": {}
        }
      ]
    },
    {
      "cell_type": "code",
      "metadata": {
        "id": "8pzBTHtH5ImZ"
      },
      "source": [
        "s1 = \"\"\"\n",
        "position=< 9,  1> velocity=< 0,  2>\n",
        "position=< 7,  0> velocity=<-1,  0>\n",
        "position=< 3, -2> velocity=<-1,  1>\n",
        "position=< 6, 10> velocity=<-2, -1>\n",
        "position=< 2, -4> velocity=< 2,  2>\n",
        "position=<-6, 10> velocity=< 2, -2>\n",
        "position=< 1,  8> velocity=< 1, -1>\n",
        "position=< 1,  7> velocity=< 1,  0>\n",
        "position=<-3, 11> velocity=< 1, -2>\n",
        "position=< 7,  6> velocity=<-1, -1>\n",
        "position=<-2,  3> velocity=< 1,  0>\n",
        "position=<-4,  3> velocity=< 2,  0>\n",
        "position=<10, -3> velocity=<-1,  1>\n",
        "position=< 5, 11> velocity=< 1, -2>\n",
        "position=< 4,  7> velocity=< 0, -1>\n",
        "position=< 8, -2> velocity=< 0,  1>\n",
        "position=<15,  0> velocity=<-2,  0>\n",
        "position=< 1,  6> velocity=< 1,  0>\n",
        "position=< 8,  9> velocity=< 0, -1>\n",
        "position=< 3,  3> velocity=<-1,  1>\n",
        "position=< 0,  5> velocity=< 0, -1>\n",
        "position=<-2,  2> velocity=< 2,  0>\n",
        "position=< 5, -2> velocity=< 1,  2>\n",
        "position=< 1,  4> velocity=< 2,  1>\n",
        "position=<-2,  7> velocity=< 2, -2>\n",
        "position=< 3,  6> velocity=<-1, -1>\n",
        "position=< 5,  0> velocity=< 1,  0>\n",
        "position=<-6,  0> velocity=< 2,  0>\n",
        "position=< 5,  9> velocity=< 1, -2>\n",
        "position=<14,  7> velocity=<-2,  0>\n",
        "position=<-3,  6> velocity=< 2, -1>\n",
        "\"\"\""
      ],
      "execution_count": 195,
      "outputs": []
    },
    {
      "cell_type": "code",
      "metadata": {
        "id": "jHjLI3QxZbup"
      },
      "source": [
        "# \"Support for 10-pixel-tall characters (2018 Day 10) is coming soon.\"\n",
        "if 0:  # https://pypi.org/project/advent-of-code-ocr/\n",
        "  !pip -q install advent-of-code-ocr\n",
        "  import advent_of_code_ocr"
      ],
      "execution_count": 196,
      "outputs": []
    },
    {
      "cell_type": "code",
      "metadata": {
        "id": "ZVV620PV5ImZ",
        "colab": {
          "base_uri": "https://localhost:8080/"
        },
        "outputId": "0adb917e-32f2-4b20-cb50-d5ad7bbf2593"
      },
      "source": [
        "def process1(s, part2=False):  # Slow.\n",
        "  positions, velocities = [], []\n",
        "  for line in s.strip('\\n').split('\\n'):\n",
        "    pattern = r'position=< *(\\S+), *(\\S+)> velocity=< *(\\S+), *(\\S+)>'\n",
        "    x, y, dx, dy = map(int, re.fullmatch(pattern, line).groups())\n",
        "    positions.append([y, x])\n",
        "    velocities.append([dy, dx])\n",
        "  positions, velocities = np.array(positions), np.array(velocities)\n",
        "\n",
        "  for index in itertools.count():\n",
        "    shape = positions.ptp(axis=0) + 1\n",
        "    if shape[0] == 8 or (shape[0] == 10 and shape[1] > 30):\n",
        "      break\n",
        "    positions += velocities\n",
        "\n",
        "  if part2:\n",
        "    return index\n",
        "\n",
        "  grid = hh.grid_from_indices(positions, dtype=np.uint8)\n",
        "  import hashlib\n",
        "  hashed = hashlib.md5(''.join(map(str, grid.flat)).encode()).hexdigest()\n",
        "  # print(hashed)\n",
        "  return {\n",
        "      '05d005c2fd38c74568ab697305825ff6': 'FPRBRRZA',  # google.Hugues_Hoppe.965276\n",
        "      '7a115ac723c75059c742c8bb21d5ee1c': 'ERCXLAJL',  # github.hhoppe.1452460\n",
        "  }[hashed] if shape[1] > 30 else 'HI'\n",
        "\n",
        "check_eq(process1(s1), 'HI')\n",
        "puzzle.verify(1, process1)  # ~230 ms.\n",
        "\n",
        "process2 = functools.partial(process1, part2=True)\n",
        "check_eq(process2(s1), 3)\n",
        "puzzle.verify(2, process2)  # ~230 ms."
      ],
      "execution_count": 197,
      "outputs": [
        {
          "output_type": "stream",
          "name": "stdout",
          "text": [
            "(Part 1: 0.229 s)\n",
            "(Part 2: 0.227 s)\n"
          ]
        }
      ]
    },
    {
      "cell_type": "code",
      "source": [
        "def process1(s, part2=False, visualize=False):  # Quick initial jump.\n",
        "  positions, velocities = [], []\n",
        "  for line in s.strip('\\n').split('\\n'):\n",
        "    pattern = r'position=< *(\\S+), *(\\S+)> velocity=< *(\\S+), *(\\S+)>'\n",
        "    x, y, dx, dy = map(int, re.fullmatch(pattern, line).groups())\n",
        "    positions.append([y, x])\n",
        "    velocities.append([dy, dx])\n",
        "  positions, velocities = np.array(positions), np.array(velocities)\n",
        "  all_positions = []\n",
        "\n",
        "  leftmost, rightmost = positions[:, 1].argmin(), positions[:, 1].argmax()\n",
        "  index = max(\n",
        "      (positions[rightmost, 1] - positions[leftmost, 1]) // abs(\n",
        "          velocities[leftmost, 1] - velocities[rightmost, 1]) - 20, 0)\n",
        "  positions += velocities * index\n",
        "\n",
        "  while True:\n",
        "    if visualize:\n",
        "      all_positions.extend([(index, y, x) for y, x in positions])\n",
        "    shape = positions.ptp(axis=0) + 1\n",
        "    if shape[0] == 8 or (shape[0] == 10 and shape[1] > 30):\n",
        "      break\n",
        "    positions += velocities\n",
        "    index += 1\n",
        "\n",
        "  if part2:\n",
        "    return index\n",
        "\n",
        "  grid = hh.grid_from_indices(positions, dtype=np.uint8)\n",
        "  if visualize:\n",
        "    media.show_image(np.pad(grid, 1), height=50, border=True)\n",
        "    if media.video_is_available():\n",
        "      video = hh.grid_from_indices(all_positions, dtype=float)\n",
        "      video = list(video) + [video[-1]] * 4\n",
        "      media.show_video(video, codec='gif', fps=5)\n",
        "  import hashlib\n",
        "  hashed = hashlib.md5(''.join(map(str, grid.flat)).encode()).hexdigest()\n",
        "  # print(hashed)\n",
        "  return {\n",
        "      '05d005c2fd38c74568ab697305825ff6': 'FPRBRRZA',  # google.Hugues_Hoppe.965276\n",
        "      '7a115ac723c75059c742c8bb21d5ee1c': 'ERCXLAJL',  # github.hhoppe.1452460\n",
        "  }[hashed] if shape[1] > 30 else 'HI'\n",
        "\n",
        "check_eq(process1(s1), 'HI')\n",
        "puzzle.verify(1, process1)  # ~3 ms.\n",
        "\n",
        "process2 = functools.partial(process1, part2=True)\n",
        "check_eq(process2(s1), 3)\n",
        "puzzle.verify(2, process2)  # ~3 ms.\n",
        "\n",
        "_ = process1(puzzle.input, visualize=True)"
      ],
      "metadata": {
        "colab": {
          "base_uri": "https://localhost:8080/",
          "height": 267
        },
        "id": "huda5QkYDJgF",
        "outputId": "989b6a74-8a0c-4b12-b3c4-bdae314abb21"
      },
      "execution_count": 208,
      "outputs": [
        {
          "output_type": "stream",
          "name": "stdout",
          "text": [
            "(Part 1: 0.003 s)\n",
            "(Part 2: 0.004 s)\n"
          ]
        },
        {
          "output_type": "display_data",
          "data": {
            "text/html": [
              "<table class=\"show_images\" style=\"border-spacing:0px;\"><tr><td style=\"padding:1px;\"><img width=\"267\" height=\"50\" style=\"border:1px solid black; image-rendering:pixelated; object-fit:cover;\" src=\"data:image/png;base64,iVBORw0KGgoAAAANSUhEUgAAAEAAAAAMCAIAAABdkSyeAAAAh0lEQVR4nNWT0QrAIAhFr6P//2X3EIhMJy4p3H3rpKJ1BX4uAsDMT0oOn/A811dyq4mT4HI57uZBGzb3cnN6ipnl4YloztB9AN20qyFxgqzhzvNk906VTzw2sQ1LLsMbZCMULSRGLMZb/vb2pDRJxx3IOgdAfYB9n5DUWMgJFC/lWp1iqe66AaIfsMNoe7XvAAAAAElFTkSuQmCC\"/></td></tr></table>"
            ],
            "text/plain": [
              "<IPython.core.display.HTML object>"
            ]
          },
          "metadata": {}
        },
        {
          "output_type": "display_data",
          "data": {
            "text/html": [
              "<table class=\"show_videos\" style=\"border-spacing:0px;\"><tr><td style=\"padding:1px;\"><img width=\"201\" height=\"150\" style=\"image-rendering:pixelated; object-fit:cover;\" src=\"data:image/gif;base64,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\"/></td></tr></table>"
            ],
            "text/plain": [
              "<IPython.core.display.HTML object>"
            ]
          },
          "metadata": {}
        }
      ]
    },
    {
      "cell_type": "markdown",
      "metadata": {
        "id": "eCgYmpDP5I-g"
      },
      "source": [
        "<a name=\"day11\"></a>\n",
        "## Day 11: Grid square with largest sum"
      ]
    },
    {
      "cell_type": "markdown",
      "metadata": {
        "id": "SQBtmZRk5I-g"
      },
      "source": [
        "- Part 1: What is the `X,Y` coordinate of the top-left fuel cell of the 3x3 square with the largest total power?\n",
        "\n",
        "- Part 2: What is the `X,Y,size` identifier of the square with the largest total power?"
      ]
    },
    {
      "cell_type": "code",
      "metadata": {
        "id": "NrpbpX9Z5I-g",
        "colab": {
          "base_uri": "https://localhost:8080/",
          "height": 93
        },
        "outputId": "002b3bf2-2d58-4bf3-a1d7-569366a81daf"
      },
      "source": [
        "puzzle = advent.puzzle(day=11)"
      ],
      "execution_count": 44,
      "outputs": [
        {
          "output_type": "display_data",
          "data": {
            "text/markdown": "For [day 11](https://adventofcode.com/2018/day/11), `puzzle.input` has a single line of 4 characters:",
            "text/plain": [
              "<IPython.core.display.Markdown object>"
            ]
          },
          "metadata": {}
        },
        {
          "output_type": "stream",
          "name": "stdout",
          "text": [
            "9005\n"
          ]
        },
        {
          "output_type": "display_data",
          "data": {
            "text/markdown": "The stored answers are: `{1: '20,32', 2: '235,287,13'}`",
            "text/plain": [
              "<IPython.core.display.Markdown object>"
            ]
          },
          "metadata": {}
        }
      ]
    },
    {
      "cell_type": "code",
      "metadata": {
        "id": "9thWA1jA5I-h",
        "colab": {
          "base_uri": "https://localhost:8080/",
          "height": 658
        },
        "outputId": "c840098a-d741-440a-8b34-288b0159b240"
      },
      "source": [
        "def process1(s, part2=False, visualize=False):\n",
        "\n",
        "  def power_level(yx, serial_number):\n",
        "    rack_id = yx[1] + 10\n",
        "    return ((rack_id * yx[0] + serial_number) * rack_id // 100) % 10 - 5\n",
        "\n",
        "  check_eq(power_level([5, 3], serial_number=8), 4)\n",
        "  check_eq(power_level([79, 122], serial_number=57), -5)\n",
        "  check_eq(power_level([196, 217], serial_number=39), 0)\n",
        "  check_eq(power_level([153, 101], serial_number=71), 4)\n",
        "\n",
        "  serial_number = int(s)\n",
        "  indices = np.indices((300, 300), np.int32)\n",
        "  power = power_level(indices + 1, serial_number=serial_number)\n",
        "  integral = np.pad(power, [[1, 0], [1, 0]]).cumsum(axis=0).cumsum(axis=1)\n",
        "\n",
        "  def get_yx_largest(size):\n",
        "    if 0:  # Slower.\n",
        "      import scipy.signal\n",
        "      box = np.full((size, size), 1, dtype=np.int32)\n",
        "      result = scipy.signal.convolve2d(power, box, mode='valid')\n",
        "    else:\n",
        "      result = (integral[size:, size:] - integral[size:, :-size]\n",
        "                - integral[:-size, size:] + integral[:-size, :-size])\n",
        "    yx_largest = np.unravel_index(result.argmax(), result.shape)\n",
        "    return yx_largest, result[yx_largest]\n",
        "\n",
        "  if not part2:\n",
        "    yx_largest = get_yx_largest(size=3)[0]\n",
        "    return f'{yx_largest[1] + 1},{yx_largest[0] + 1}'\n",
        "\n",
        "  results = {size: get_yx_largest(size) for size in range(1, 301)}\n",
        "  best_size = max(results, key=lambda size: results[size][1])\n",
        "  yx_largest, _ = results[best_size]\n",
        "\n",
        "  if visualize:\n",
        "    image = media.to_rgb(power * 1.0, cmap='bwr')\n",
        "    image[yx_largest[0] : yx_largest[0] + best_size,\n",
        "          yx_largest[1] : yx_largest[1] + best_size] *= 0.7\n",
        "    media.show_image(image, height= image.shape[0] * 2)\n",
        "\n",
        "  return f'{yx_largest[1] + 1},{yx_largest[0] + 1},{best_size}'\n",
        "\n",
        "\n",
        "check_eq(process1('18'), '33,45')\n",
        "check_eq(process1('42'), '21,61')\n",
        "puzzle.verify(1, process1)  # ~3 ms.\n",
        "\n",
        "process2 = functools.partial(process1, part2=True)\n",
        "check_eq(process2('18'), '90,269,16')\n",
        "check_eq(process2('42'), '232,251,12')\n",
        "puzzle.verify(2, process2)  # ~70 ms.\n",
        "_ = process2(puzzle.input, visualize=True)"
      ],
      "execution_count": 45,
      "outputs": [
        {
          "output_type": "stream",
          "name": "stdout",
          "text": [
            "(Part 1: 0.006 s)\n",
            "(Part 2: 0.112 s)\n"
          ]
        },
        {
          "output_type": "display_data",
          "data": {
            "text/html": [
              "<table class=\"show_images\" style=\"border-spacing:0px;\"><tr><td style=\"padding:1px;\"><img width=\"600\" height=\"600\" style=\"image-rendering:pixelated; object-fit:cover;\" src=\"data:image/png;base64,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\"/></td></tr></table>"
            ],
            "text/plain": [
              "<IPython.core.display.HTML object>"
            ]
          },
          "metadata": {}
        }
      ]
    },
    {
      "cell_type": "markdown",
      "metadata": {
        "id": "uOT9u6aX5JIw"
      },
      "source": [
        "<a name=\"day12\"></a>\n",
        "## Day 12: Cellular automaton in 1D"
      ]
    },
    {
      "cell_type": "markdown",
      "metadata": {
        "id": "3CdsF_4M5JIw"
      },
      "source": [
        "- Part 1: After 20 generations, what is the sum of the numbers of all pots which contain a plant?\n",
        "\n",
        "- Part 2: After fifty billion (50000000000) generations, what is the sum of the numbers of all pots which contain a plant?"
      ]
    },
    {
      "cell_type": "code",
      "metadata": {
        "id": "1zYcYG865JIw",
        "colab": {
          "base_uri": "https://localhost:8080/",
          "height": 302
        },
        "outputId": "8169afa6-ad5b-4fe5-d4c7-5defbc45fb2d"
      },
      "source": [
        "puzzle = advent.puzzle(day=12)"
      ],
      "execution_count": 46,
      "outputs": [
        {
          "output_type": "display_data",
          "data": {
            "text/markdown": "For [day 12](https://adventofcode.com/2018/day/12), `puzzle.input` has 34 lines:",
            "text/plain": [
              "<IPython.core.display.Markdown object>"
            ]
          },
          "metadata": {}
        },
        {
          "output_type": "stream",
          "name": "stdout",
          "text": [
            "initial state: ###.#..#..##.##.###.#.....#.#.###.#.####....#.##..#.#.#..#....##..#.##...#.###.#.#..#..####.#.##.#\n",
            "\n",
            "#.... => .\n",
            "#.##. => #\n",
            "..#.. => .\n",
            "#.#.# => .\n",
            ".#.## => #\n",
            "...## => #\n",
            " ...\n",
            ".#..# => #\n",
            ".#### => .\n",
            "##### => #\n",
            "##.## => #\n"
          ]
        },
        {
          "output_type": "display_data",
          "data": {
            "text/markdown": "The stored answers are: `{1: '2909', 2: '2500000001175'}`",
            "text/plain": [
              "<IPython.core.display.Markdown object>"
            ]
          },
          "metadata": {}
        }
      ]
    },
    {
      "cell_type": "code",
      "metadata": {
        "id": "l-ZR6Gd_5JIx"
      },
      "source": [
        "s1 = \"\"\"\n",
        "initial state: #..#.#..##......###...###\n",
        "\n",
        "...## => #\n",
        "..#.. => #\n",
        ".#... => #\n",
        ".#.#. => #\n",
        ".#.## => #\n",
        ".##.. => #\n",
        ".#### => #\n",
        "#.#.# => #\n",
        "#.### => #\n",
        "##.#. => #\n",
        "##.## => #\n",
        "###.. => #\n",
        "###.# => #\n",
        "####. => #\n",
        "\"\"\""
      ],
      "execution_count": 47,
      "outputs": []
    },
    {
      "cell_type": "code",
      "metadata": {
        "id": "Ok084n625JIx",
        "colab": {
          "base_uri": "https://localhost:8080/",
          "height": 358
        },
        "outputId": "981fe683-4b4f-4532-8de1-8e4b2f85c284"
      },
      "source": [
        "def sliding_window(iterable, n):\n",
        "  # sliding_window('ABCDEFG', 4) -> ABCD BCDE CDEF DEFG\n",
        "  it = iter(iterable)\n",
        "  window = collections.deque(itertools.islice(it, n), maxlen=n)\n",
        "  if len(window) == n:\n",
        "    yield tuple(window)\n",
        "  for x in it:\n",
        "    window.append(x)\n",
        "    yield tuple(window)\n",
        "\n",
        "\n",
        "def process1(s, num_generations=20, pad_len=25, part2=False, visualize=False):\n",
        "  lines = s.strip('\\n').split('\\n')\n",
        "  assert lines[0].startswith('initial state: ') and not lines[1]\n",
        "  state = lines[0][15:]\n",
        "  rules = {''.join(key): '.' for key in itertools.product('.#', repeat=5)}\n",
        "  for line in lines[2:]:\n",
        "    key, value = line.split(' => ')\n",
        "    rules[key] = value\n",
        "  state = '.' * pad_len + state + '.' * pad_len\n",
        "  sum_pots = []\n",
        "  grid = np.full((num_generations, len(state)), '.')\n",
        "\n",
        "  for index in range(num_generations):\n",
        "    if visualize:\n",
        "      grid[index] = list(state)\n",
        "    state = ('..' + ''.join(rules[''.join(window)]\n",
        "                            for window in sliding_window(state, 5)) + '..')\n",
        "    sum_pots.append(sum(i - pad_len for i, ch in enumerate(state) if ch == '#'))\n",
        "\n",
        "  if visualize:\n",
        "    media.show_image(grid == '#', height=grid.shape[0] * 2)\n",
        "    # For my input, after ~110 generations, it has converged to a constant\n",
        "    # pattern that is translating rightward by 1 space every generation.\n",
        "\n",
        "  if not part2:\n",
        "    return sum_pots[-1]\n",
        "\n",
        "  diff = np.diff(sum_pots[-10:])\n",
        "  # print(f'Converged diff = {diff[-1]}')\n",
        "  assert np.all(diff == diff[-1])\n",
        "  remaining_generations = 50000000000 - num_generations\n",
        "  return sum_pots[-1] + diff[-1] * remaining_generations\n",
        "\n",
        "\n",
        "check_eq(process1(s1), 325)\n",
        "puzzle.verify(1, process1)  # ~2 ms.\n",
        "\n",
        "process2 = functools.partial(\n",
        "    process1, part2=True, pad_len=200, num_generations=150)\n",
        "puzzle.verify(2, process2)  # ~50 ms.\n",
        "_ = process2(puzzle.input, visualize=True)"
      ],
      "execution_count": 48,
      "outputs": [
        {
          "output_type": "stream",
          "name": "stdout",
          "text": [
            "(Part 1: 0.004 s)\n",
            "(Part 2: 0.092 s)\n"
          ]
        },
        {
          "output_type": "display_data",
          "data": {
            "text/html": [
              "<table class=\"show_images\" style=\"border-spacing:0px;\"><tr><td style=\"padding:1px;\"><img width=\"996\" height=\"300\" style=\"image-rendering:pixelated; object-fit:cover;\" src=\"data:image/png;base64,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\"/></td></tr></table>"
            ],
            "text/plain": [
              "<IPython.core.display.HTML object>"
            ]
          },
          "metadata": {}
        }
      ]
    },
    {
      "cell_type": "markdown",
      "metadata": {
        "id": "N5o2zh3O5JQZ"
      },
      "source": [
        "<a name=\"day13\"></a>\n",
        "## Day 13: Carts on tracks"
      ]
    },
    {
      "cell_type": "markdown",
      "metadata": {
        "id": "JfxKPuxP5JQZ"
      },
      "source": [
        "- Part 1: What is the `x,y` location of the first crash?\n",
        "\n",
        "- Part 2: What is the location of the last cart at the end of the first tick where it is the only cart left?"
      ]
    },
    {
      "cell_type": "code",
      "metadata": {
        "id": "OZCo8iKK5JQZ",
        "colab": {
          "base_uri": "https://localhost:8080/",
          "height": 302
        },
        "outputId": "9eace7ed-0e5e-4aef-91b7-0648c4f04740"
      },
      "source": [
        "puzzle = advent.puzzle(day=13)"
      ],
      "execution_count": 115,
      "outputs": [
        {
          "output_type": "display_data",
          "data": {
            "text/markdown": "For [day 13](https://adventofcode.com/2018/day/13), `puzzle.input` has 150 lines:",
            "text/plain": [
              "<IPython.core.display.Markdown object>"
            ]
          },
          "metadata": {}
        },
        {
          "output_type": "stream",
          "name": "stdout",
          "text": [
            "                                  /----------------------------\\                 ...                                    \n",
            "  /-------------------------------+----------------------------+---------------- ...                                    \n",
            "  |                               |                            |                 ... ---------------------\\             \n",
            "  |               /---------------+----------------------------+---------------- ...                      |             \n",
            "  |  /------------+------------\\  |                            |                 ... ---------------\\     |             \n",
            "  |  |            |            |  |                            |                 ...          /-----+---\\ |             \n",
            "  |  |        /---+------------+--+-------------------------\\  |/--------------- ...          |     |   | |             \n",
            "  |  |        |   |        /---+--+-------------------------+--++--------------- ... --\\      |  /--+---+-+------\\      \n",
            " ...\n",
            "           |       \\---+-----------------+------/                     |  |     | ...                       |     |      \n",
            "           |           |                 |                            \\--+-----/ ... ----------------------+-----/      \n",
            "           \\-----------+-----------------+-------------------------------+------ ...                       |            \n",
            "                       \\-----------------/                               \\------ ... ----------------------/            \n"
          ]
        },
        {
          "output_type": "display_data",
          "data": {
            "text/markdown": "The stored answers are: `{1: '80,100', 2: '16,99'}`",
            "text/plain": [
              "<IPython.core.display.Markdown object>"
            ]
          },
          "metadata": {}
        }
      ]
    },
    {
      "cell_type": "code",
      "metadata": {
        "id": "G928AeaL5JQZ"
      },
      "source": [
        "s1 = r\"\"\"\n",
        "/->-\\        EOL\n",
        "|   |  /----\\\n",
        "| /-+--+-\\  |\n",
        "| | |  | v  |\n",
        "\\-+-/  \\-+--/\n",
        "  \\------/   EOL\n",
        "\"\"\".replace('EOL', '')"
      ],
      "execution_count": 116,
      "outputs": []
    },
    {
      "cell_type": "code",
      "metadata": {
        "id": "_Q8AxpQd5JQZ",
        "colab": {
          "base_uri": "https://localhost:8080/",
          "height": 526
        },
        "outputId": "172f3248-52d9-4119-c8dd-5303c4991148"
      },
      "source": [
        "def process1(s, part2=False, verbose=False, visualize=False):\n",
        "\n",
        "  @dataclasses.dataclass\n",
        "  class Cart:\n",
        "    yx: Tuple[int, int]\n",
        "    direction: str  # '<', '>', 'v', or '^'.\n",
        "    next_turn: int = 0  # Three states: 0=left, 1=straight, 2=right.\n",
        "\n",
        "  grid = hh.grid_from_string(s)\n",
        "  carts = []\n",
        "  for ch in '<>v^':\n",
        "    for yx in zip(*np.nonzero(grid == ch)):\n",
        "      grid[yx] = {'<': '-', '>': '-', 'v': '|', '^': '|'}[ch]\n",
        "      carts.append(Cart(yx, ch))\n",
        "\n",
        "  def text_from_grid():\n",
        "    grid2 = grid.copy()\n",
        "    for cart in carts:\n",
        "      grid2[cart.yx] = cart.direction\n",
        "    return hh.string_from_grid(grid2)\n",
        "\n",
        "  check_eq(text_from_grid(), s.strip('\\n'))\n",
        "\n",
        "  def show():\n",
        "    video = images + images[-1:] * 10\n",
        "    media.show_video(video, codec='gif', fps=20, height=grid.shape[0] * 3)\n",
        "\n",
        "  images = []\n",
        "  for iteration in itertools.count():\n",
        "    assert len(carts) >= 2\n",
        "    if visualize:\n",
        "      cmap = {' ': (250,) * 3, '+': (140, 140, 140),\n",
        "              **{ch: (180,)* 3 for ch in r'|-\\/'}}\n",
        "      image = np.array([cmap[e] for e in grid.ravel()], dtype=np.uint8)\n",
        "      image = image.reshape(*grid.shape, 3)\n",
        "      for cart in carts:\n",
        "        image[cart.yx] = (0, 100, 0)\n",
        "      images.append(image)\n",
        "    if verbose:\n",
        "      print(text_from_grid())\n",
        "    for cart in sorted(carts, key=lambda cart: cart.yx):\n",
        "      if cart.yx[0] == -1:\n",
        "        continue\n",
        "      dyx = {'<': (0, -1), '>': (0, 1),\n",
        "             '^': (-1, 0), 'v': (1, 0)}[cart.direction]\n",
        "      new_yx = tuple(np.array(cart.yx) + dyx)\n",
        "      cart2 = next((cart2 for cart2 in carts if cart2.yx == new_yx), None)\n",
        "      if cart2:  # Collison.\n",
        "        if not part2:\n",
        "          if visualize:\n",
        "            return show()\n",
        "          else:\n",
        "            print(f'first collision at iteration={iteration}')\n",
        "            return f'{new_yx[1]},{new_yx[0]}'\n",
        "        for crashed_cart in [cart, cart2]:\n",
        "          crashed_cart.yx = (-1, -1)\n",
        "        continue\n",
        "      ch = grid[new_yx]\n",
        "      assert ch in '/\\\\+-|', ord(ch)\n",
        "      if ch in '/\\\\':\n",
        "        cart.direction = {\n",
        "            '</': 'v', '<\\\\': '^', '>/': '^', '>\\\\': 'v',\n",
        "            '^/': '>', '^\\\\': '<', 'v/': '<', 'v\\\\': '>',\n",
        "        }[cart.direction + ch]\n",
        "      elif ch == '+':\n",
        "        if cart.next_turn in (0, 2):\n",
        "          cart.direction = {\n",
        "              '<0': 'v', '<2': '^', '>0': '^', '>2': 'v',\n",
        "              '^0': '<', '^2': '>', 'v0': '>', 'v2': '<',\n",
        "          }[cart.direction + str(cart.next_turn)]\n",
        "        cart.next_turn = (cart.next_turn + 1) % 3\n",
        "      cart.yx = new_yx\n",
        "    carts = [cart for cart in carts if cart.yx[0] != -1]\n",
        "    if part2 and len(carts) == 1:\n",
        "      print(f'Only one cart left at iteration={iteration}')\n",
        "      return f'{carts[0].yx[1]},{carts[0].yx[0]}'\n",
        "\n",
        "\n",
        "check_eq(process1(s1), '7,3')\n",
        "puzzle.verify(1, process1)\n",
        "if media.video_is_available():\n",
        "  process1(puzzle.input, visualize=True)"
      ],
      "execution_count": 117,
      "outputs": [
        {
          "output_type": "stream",
          "name": "stdout",
          "text": [
            "first collision at iteration=13\n",
            "first collision at iteration=135\n",
            "(Part 1: 0.034 s)\n"
          ]
        },
        {
          "output_type": "display_data",
          "data": {
            "text/html": [
              "<table class=\"show_videos\" style=\"border-spacing:0px;\"><tr><td style=\"padding:1px;\"><img width=\"450\" height=\"450\" style=\"image-rendering:pixelated; object-fit:cover;\" src=\"data:image/gif;base64,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\"/></td></tr></table>"
            ],
            "text/plain": [
              "<IPython.core.display.HTML object>"
            ]
          },
          "metadata": {}
        }
      ]
    },
    {
      "cell_type": "code",
      "metadata": {
        "id": "pifDWkQUVjI5"
      },
      "source": [
        "s2 = r\"\"\"\n",
        "/>-<\\  EOL\n",
        "|   |  EOL\n",
        "| /<+-\\\n",
        "| | | v\n",
        "\\>+</ |\n",
        "  |   ^\n",
        "  \\<->/\n",
        "\"\"\".replace('EOL', '')"
      ],
      "execution_count": 118,
      "outputs": []
    },
    {
      "cell_type": "code",
      "metadata": {
        "id": "mAJL6HVv5JQa",
        "colab": {
          "base_uri": "https://localhost:8080/"
        },
        "outputId": "ee1c35d5-f27b-402e-cc48-319e375c4c00"
      },
      "source": [
        "process2 = functools.partial(process1, part2=True)\n",
        "check_eq(process2(s2), '6,4')\n",
        "puzzle.verify(2, process2)  # ~660 ms."
      ],
      "execution_count": 119,
      "outputs": [
        {
          "output_type": "stream",
          "name": "stdout",
          "text": [
            "Only one cart left at iteration=2\n",
            "Only one cart left at iteration=16987\n",
            "(Part 2: 0.663 s)\n"
          ]
        }
      ]
    },
    {
      "cell_type": "markdown",
      "metadata": {
        "id": "1kwHgpky5JXI"
      },
      "source": [
        "<a name=\"day14\"></a>\n",
        "## Day 14: Combining recipes"
      ]
    },
    {
      "cell_type": "markdown",
      "metadata": {
        "id": "Xx7AbOpI5JXI"
      },
      "source": [
        "- Part 1: What are the scores of the ten recipes immediately after the number of recipes in your puzzle input?\n",
        "\n",
        "- Part 2: How many recipes appear on the scoreboard to the left of the score sequence in your puzzle input?"
      ]
    },
    {
      "cell_type": "code",
      "metadata": {
        "id": "YPxu9PcF5JXI",
        "colab": {
          "base_uri": "https://localhost:8080/",
          "height": 93
        },
        "outputId": "b917d34a-a6a5-4f60-a6a3-9814fd662bda"
      },
      "source": [
        "puzzle = advent.puzzle(day=14)"
      ],
      "execution_count": 54,
      "outputs": [
        {
          "output_type": "display_data",
          "data": {
            "text/markdown": "For [day 14](https://adventofcode.com/2018/day/14), `puzzle.input` has a single line of 6 characters:",
            "text/plain": [
              "<IPython.core.display.Markdown object>"
            ]
          },
          "metadata": {}
        },
        {
          "output_type": "stream",
          "name": "stdout",
          "text": [
            "702831\n"
          ]
        },
        {
          "output_type": "display_data",
          "data": {
            "text/markdown": "The stored answers are: `{1: '1132413111', 2: '20340232'}`",
            "text/plain": [
              "<IPython.core.display.Markdown object>"
            ]
          },
          "metadata": {}
        }
      ]
    },
    {
      "cell_type": "code",
      "metadata": {
        "id": "EGyzB8sI5JXI",
        "colab": {
          "base_uri": "https://localhost:8080/"
        },
        "outputId": "9ee7dbb7-b2c6-4d21-a6f6-23d27722695f"
      },
      "source": [
        "def process1(s):  # Slow: 0.9 s.\n",
        "  num_recipes = int(s)\n",
        "  recipes = [3, 7]\n",
        "  indices = [0, 1]\n",
        "\n",
        "  while len(recipes) < num_recipes + 10:\n",
        "    currents = [recipes[index] for index in indices]\n",
        "    total = sum(currents)\n",
        "    digits = [1, total - 10] if total >= 10 else [total]\n",
        "    recipes.extend(digits)\n",
        "    indices = [(index + 1 + recipes[index]) % len(recipes) for index in indices]\n",
        "\n",
        "  return ''.join(map(str, recipes[num_recipes:num_recipes + 10]))\n",
        "\n",
        "\n",
        "check_eq(process1('9'), '5158916779')\n",
        "check_eq(process1('5'), '0124515891')\n",
        "check_eq(process1('18'), '9251071085')\n",
        "check_eq(process1('2018'), '5941429882')\n",
        "puzzle.verify(1, process1)  # ~820 ms."
      ],
      "execution_count": 55,
      "outputs": [
        {
          "output_type": "stream",
          "name": "stdout",
          "text": [
            "(Part 1: 2.157 s)\n"
          ]
        }
      ]
    },
    {
      "cell_type": "code",
      "source": [
        "def process1(s):  # Fast using numba.\n",
        "  num_recipes = int(s)\n",
        "\n",
        "  @numba_njit(cache=True)\n",
        "  def func(num_recipes):\n",
        "    recipes = np.full(num_recipes + 11, 1, dtype=np.uint8)\n",
        "    num = 2\n",
        "    recipes[0] = 3\n",
        "    recipes[1] = 7\n",
        "    index0, index1 = 0, 1\n",
        "    while num < num_recipes + 10:\n",
        "      current0, current1 = recipes[index0], recipes[index1]\n",
        "      total = current0 + current1\n",
        "      if total >= 10:\n",
        "        recipes[num + 1] = total - 10\n",
        "        num += 2\n",
        "      else:\n",
        "        recipes[num] = total\n",
        "        num += 1\n",
        "      index0 += 1 + current0\n",
        "      if index0 >= num:\n",
        "        index0 %= num\n",
        "      index1 += 1 + current1\n",
        "      if index1 >= num:\n",
        "        index1 %= num\n",
        "    return recipes[num_recipes:num_recipes + 10]\n",
        "\n",
        "  return ''.join(map(str, func(num_recipes)))\n",
        "\n",
        "\n",
        "check_eq(process1('9'), '5158916779')\n",
        "check_eq(process1('5'), '0124515891')\n",
        "check_eq(process1('18'), '9251071085')\n",
        "check_eq(process1('2018'), '5941429882')\n",
        "puzzle.verify(1, process1)  # ~8 ms."
      ],
      "metadata": {
        "colab": {
          "base_uri": "https://localhost:8080/"
        },
        "id": "7A3W0II4oFlJ",
        "outputId": "4cfc58ea-6aa7-493b-a485-b6bb18e89398"
      },
      "execution_count": 56,
      "outputs": [
        {
          "output_type": "stream",
          "name": "stdout",
          "text": [
            "(Part 1: 0.031 s)\n"
          ]
        }
      ]
    },
    {
      "cell_type": "code",
      "metadata": {
        "id": "fcotfUr55JXJ"
      },
      "source": [
        "def process2(s):  # Slow.\n",
        "  pattern = list(map(int, s.strip()))\n",
        "  recipes = [3, 7]\n",
        "  indices = [0, 1]\n",
        "\n",
        "  while True:\n",
        "    currents = [recipes[index] for index in indices]\n",
        "    total = sum(currents)\n",
        "    digits = [1, total - 10] if total >= 10 else [total]\n",
        "    for digit in digits:\n",
        "      recipes.append(digit)\n",
        "      if recipes[-len(pattern):] == pattern:\n",
        "        return len(recipes) - len(pattern)\n",
        "    indices = [(index + 1 + recipes[index]) % len(recipes) for index in indices]\n",
        "\n",
        "check_eq(process2('92510'), 18)\n",
        "check_eq(process2('59414'), 2018)\n",
        "# puzzle.verify(2, process2)  # ~30 s."
      ],
      "execution_count": 57,
      "outputs": []
    },
    {
      "cell_type": "code",
      "source": [
        "def process2(s):  # Fast using numba.\n",
        "  pattern = np.array([int(ch) for ch in s.strip()], dtype=np.uint8)\n",
        "\n",
        "  @numba_njit(cache=True)\n",
        "  def func(pattern):\n",
        "    len_pattern = len(pattern)\n",
        "    max_recipes = 100_000_000\n",
        "    recipes = np.empty(max_recipes, dtype=np.uint8)\n",
        "    num = 2\n",
        "    recipes[0] = 3\n",
        "    recipes[1] = 7\n",
        "    index0, index1 = 0, 1\n",
        "\n",
        "    def matches():\n",
        "      if num < len_pattern:\n",
        "        return False\n",
        "      for i in range(len_pattern):\n",
        "        if recipes[num - len_pattern + i] != pattern[i]:\n",
        "          return False\n",
        "      return True\n",
        "\n",
        "    while True:\n",
        "      assert num + 2 < max_recipes\n",
        "      current0, current1 = recipes[index0], recipes[index1]\n",
        "      total = current0 + current1\n",
        "      if total >= 10:\n",
        "        recipes[num] = 1\n",
        "        num += 1\n",
        "        if matches():\n",
        "          break\n",
        "        recipes[num] = total - 10\n",
        "        num += 1\n",
        "        if matches():\n",
        "          break\n",
        "      else:\n",
        "        recipes[num] = total\n",
        "        num += 1\n",
        "        if matches():\n",
        "          break\n",
        "      index0 = (index0 + 1 + current0) % num\n",
        "      index1 = (index1 + 1 + current1) % num\n",
        "    return num - len_pattern\n",
        "\n",
        "  return func(pattern)\n",
        "\n",
        "\n",
        "check_eq(process2('51589'), 9)\n",
        "check_eq(process2('01245'), 5)\n",
        "check_eq(process2('92510'), 18)\n",
        "check_eq(process2('59414'), 2018)\n",
        "puzzle.verify(2, process2)  # ~360 ms."
      ],
      "metadata": {
        "colab": {
          "base_uri": "https://localhost:8080/"
        },
        "id": "NSUpD-Ryfww9",
        "outputId": "027c9ef2-517f-4ec2-b8d3-52eab28f544a"
      },
      "execution_count": 58,
      "outputs": [
        {
          "output_type": "stream",
          "name": "stdout",
          "text": [
            "(Part 2: 0.531 s)\n"
          ]
        }
      ]
    },
    {
      "cell_type": "code",
      "source": [
        "def process2(s):  # Faster by generating batches.\n",
        "  pattern = np.array([int(ch) for ch in s.strip()], dtype=np.uint8)\n",
        "\n",
        "  @numba_njit(cache=True)\n",
        "  def func(pattern):\n",
        "    max_recipes = 100_000_000\n",
        "    recipes = np.empty(max_recipes, dtype=np.uint8)\n",
        "    num = 2\n",
        "    recipes[0] = 3\n",
        "    recipes[1] = 7\n",
        "    index0, index1 = 0, 1\n",
        "    batch_size = 1000\n",
        "\n",
        "    while True:\n",
        "      assert num + batch_size * 2 < max_recipes\n",
        "      prev_num = max(num - len(pattern) + 1, 0)\n",
        "\n",
        "      # Generate batch.\n",
        "      for _ in range(batch_size):\n",
        "        current0, current1 = recipes[index0], recipes[index1]\n",
        "        total = current0 + current1\n",
        "        if total >= 10:\n",
        "          recipes[num] = 1\n",
        "          recipes[num + 1] = total - 10\n",
        "          num += 2\n",
        "        else:\n",
        "          recipes[num] = total\n",
        "          num += 1\n",
        "        index0 += 1 + current0\n",
        "        if index0 >= num:\n",
        "          index0 %= num\n",
        "        index1 += 1 + current1\n",
        "        if index1 >= num:\n",
        "          index1 %= num\n",
        "\n",
        "      # Find pattern in new batch results.\n",
        "      sequence = recipes[prev_num:num]\n",
        "      n = len(sequence)\n",
        "      m = len(pattern)\n",
        "      for i in range(n - m + 1):\n",
        "        for j in range(m):\n",
        "          if sequence[i + j] != pattern[j]:\n",
        "            break\n",
        "        else:\n",
        "          return prev_num + i\n",
        "\n",
        "  return func(pattern)\n",
        "\n",
        "\n",
        "check_eq(process2('51589'), 9)\n",
        "check_eq(process2('01245'), 5)\n",
        "check_eq(process2('92510'), 18)\n",
        "check_eq(process2('59414'), 2018)\n",
        "puzzle.verify(2, process2)  # ~190 ms."
      ],
      "metadata": {
        "colab": {
          "base_uri": "https://localhost:8080/"
        },
        "id": "Eic7HEIsKTXM",
        "outputId": "718e1d8d-08f6-40c5-c1a6-cdb0dcb73be3"
      },
      "execution_count": 59,
      "outputs": [
        {
          "output_type": "stream",
          "name": "stdout",
          "text": [
            "(Part 2: 0.269 s)\n"
          ]
        }
      ]
    },
    {
      "cell_type": "code",
      "source": [
        "def process2(s):  # Try using Knuth–Morris–Pratt (KMP); not a win for 6-subseq.\n",
        "  pattern = np.array([int(ch) for ch in s.strip()], dtype=np.uint8)\n",
        "\n",
        "  @numba_njit(cache=True)\n",
        "  def func(pattern):\n",
        "\n",
        "    # Precompute offsets for Knuth–Morris–Pratt (KMP) subsequence search; see\n",
        "    # https://www.py4u.net/discuss/12693; Boyer-Moore string-search algorithm?\n",
        "    def kmp_offsets(subseq):\n",
        "      m = len(subseq)\n",
        "      offsets = np.zeros(m, dtype=np.int64)\n",
        "      j = 1\n",
        "      k = 0\n",
        "      while j < m:\n",
        "        if subseq[j] == subseq[k]:\n",
        "          k += 1\n",
        "          offsets[j] = k\n",
        "          j += 1\n",
        "        else:\n",
        "          if k != 0:\n",
        "            k = offsets[k - 1]\n",
        "          else:\n",
        "            offsets[j] = 0\n",
        "            j += 1\n",
        "      return offsets\n",
        "\n",
        "    max_recipes = 100_000_000\n",
        "    recipes = np.empty(max_recipes, dtype=np.uint8)\n",
        "    num = 2\n",
        "    recipes[0] = 3\n",
        "    recipes[1] = 7\n",
        "    index0, index1 = 0, 1\n",
        "    batch_size = 1000\n",
        "    offsets = kmp_offsets(pattern)\n",
        "\n",
        "    while True:\n",
        "      assert num + batch_size * 2 < max_recipes\n",
        "      prev_num = max(num - len(pattern) + 1, 0)\n",
        "\n",
        "      # Generate batch.\n",
        "      for _ in range(batch_size):\n",
        "        current0, current1 = recipes[index0], recipes[index1]\n",
        "        total = current0 + current1\n",
        "        if total >= 10:\n",
        "          recipes[num] = 1\n",
        "          recipes[num + 1] = total - 10\n",
        "          num += 2\n",
        "        else:\n",
        "          recipes[num] = total\n",
        "          num += 1\n",
        "        index0 += 1 + current0\n",
        "        if index0 >= num:\n",
        "          index0 %= num\n",
        "        index1 += 1 + current1\n",
        "        if index1 >= num:\n",
        "          index1 %= num\n",
        "\n",
        "      # Find pattern in new batch results using KMP.\n",
        "      seq = recipes[prev_num:num]\n",
        "      subseq = pattern\n",
        "      m = len(subseq)\n",
        "      n = len(seq)\n",
        "      i = j = 0\n",
        "      while i < n:\n",
        "        if seq[i] == subseq[j]:\n",
        "          i += 1\n",
        "          j += 1\n",
        "        if j == m:\n",
        "          return prev_num + (i - j)\n",
        "          j = offsets[j - 1]\n",
        "        elif i < n and seq[i] != subseq[j]:\n",
        "          if j != 0:\n",
        "            j = offsets[j - 1]\n",
        "          else:\n",
        "            i += 1\n",
        "\n",
        "  return func(pattern)\n",
        "\n",
        "\n",
        "check_eq(process2('51589'), 9)\n",
        "check_eq(process2('01245'), 5)\n",
        "check_eq(process2('92510'), 18)\n",
        "check_eq(process2('59414'), 2018)\n",
        "puzzle.verify(2, process2)  # ~250 ms is slower than naive algorithm."
      ],
      "metadata": {
        "id": "mqF4vxmAXDEN",
        "colab": {
          "base_uri": "https://localhost:8080/"
        },
        "outputId": "6828f942-9912-4bd8-8e7f-27bf54cefba5"
      },
      "execution_count": 60,
      "outputs": [
        {
          "output_type": "stream",
          "name": "stdout",
          "text": [
            "(Part 2: 0.415 s)\n"
          ]
        }
      ]
    },
    {
      "cell_type": "code",
      "source": [
        "def process2(s):  # Fastest, using Boyer-Moore-Horspool.\n",
        "  pattern = np.array([int(ch) for ch in s.strip()], dtype=np.uint8)\n",
        "\n",
        "  @numba_njit(cache=True)\n",
        "  def func(pattern):\n",
        "\n",
        "    # Precompute skips for Boyer-Moore-Horspool algorithm; see\n",
        "    # https://en.wikipedia.org/wiki/Boyer%E2%80%93Moore%E2%80%93Horspool_algorithm\n",
        "    def boyer_moore_horspool_skip_table(subseq, alphabet_size):\n",
        "      table = np.full(alphabet_size, len(subseq))\n",
        "      for i in range(len(subseq) - 1):\n",
        "        table[subseq[i]] = len(subseq) - 1 - i\n",
        "      return table\n",
        "\n",
        "    max_recipes = 100_000_000\n",
        "    recipes = np.empty(max_recipes, dtype=np.uint8)\n",
        "    num = 2\n",
        "    recipes[0] = 3\n",
        "    recipes[1] = 7\n",
        "    index0, index1 = 0, 1\n",
        "    batch_size = 1000\n",
        "    skip_table = boyer_moore_horspool_skip_table(pattern, 10)\n",
        "\n",
        "    while True:\n",
        "      assert num + batch_size * 2 < max_recipes\n",
        "      prev_num = max(num - len(pattern) + 1, 0)\n",
        "\n",
        "      # Generate batch.\n",
        "      for _ in range(batch_size):\n",
        "        current0, current1 = recipes[index0], recipes[index1]\n",
        "        total = current0 + current1\n",
        "        if total >= 10:\n",
        "          recipes[num] = 1\n",
        "          recipes[num + 1] = total - 10\n",
        "          num += 2\n",
        "        else:\n",
        "          recipes[num] = total\n",
        "          num += 1\n",
        "        index0 += 1 + current0\n",
        "        if index0 >= num:\n",
        "          index0 %= num\n",
        "        index1 += 1 + current1\n",
        "        if index1 >= num:\n",
        "          index1 %= num\n",
        "\n",
        "      # Find pattern in new batch results using Boyer-Moore-Horspool.\n",
        "      seq = recipes[prev_num:num]\n",
        "      subseq = pattern\n",
        "      m = len(subseq)\n",
        "      n = len(seq)\n",
        "      i = 0\n",
        "      # while i + m <= n:\n",
        "      #   for j in range(m - 1, -1, -1):\n",
        "      #     if seq[i + j] != subseq[j]:\n",
        "      #       i += skip_table[seq[i + m - 1]]  # optimize??\n",
        "      #       break\n",
        "      #   else:\n",
        "      #     return prev_num + i\n",
        "      while i + m <= n:\n",
        "        j = m - 1\n",
        "        e = e_last = seq[i + j]\n",
        "        while True:\n",
        "          if e != subseq[j]:\n",
        "            i += skip_table[e_last]\n",
        "            break\n",
        "          if j == 0:\n",
        "            return prev_num + i\n",
        "          j -= 1\n",
        "          e = seq[i + j]\n",
        "\n",
        "  return func(pattern)\n",
        "\n",
        "\n",
        "check_eq(process2('51589'), 9)\n",
        "check_eq(process2('01245'), 5)\n",
        "check_eq(process2('92510'), 18)\n",
        "check_eq(process2('59414'), 2018)\n",
        "puzzle.verify(2, process2)  # ~170 ms."
      ],
      "metadata": {
        "colab": {
          "base_uri": "https://localhost:8080/"
        },
        "id": "jsKZ-6EkoKiu",
        "outputId": "4ed2e7a5-7185-40bb-ca52-13c4f28c138d"
      },
      "execution_count": 61,
      "outputs": [
        {
          "output_type": "stream",
          "name": "stdout",
          "text": [
            "(Part 2: 0.180 s)\n"
          ]
        }
      ]
    },
    {
      "cell_type": "markdown",
      "metadata": {
        "id": "4wUYcfty5Jdv"
      },
      "source": [
        "<a name=\"day15\"></a>\n",
        "## Day 15: Combat simulation"
      ]
    },
    {
      "cell_type": "markdown",
      "metadata": {
        "id": "v72G9Z6X5Jdw"
      },
      "source": [
        "- Part 1: What is the outcome of the combat described in your puzzle input?\n",
        "\n",
        "- Part 2: After increasing the Elves' attack power until it is just barely enough for them to win without any Elves dying, what is the outcome of the combat described in your puzzle input?"
      ]
    },
    {
      "cell_type": "code",
      "metadata": {
        "id": "PbR2MRSD5Jdw",
        "colab": {
          "base_uri": "https://localhost:8080/",
          "height": 302
        },
        "outputId": "3f932fdd-9722-4514-c4d9-b0049d5dba3c"
      },
      "source": [
        "puzzle = advent.puzzle(day=15)"
      ],
      "execution_count": 62,
      "outputs": [
        {
          "output_type": "display_data",
          "data": {
            "text/markdown": "For [day 15](https://adventofcode.com/2018/day/15), `puzzle.input` has 32 lines:",
            "text/plain": [
              "<IPython.core.display.Markdown object>"
            ]
          },
          "metadata": {}
        },
        {
          "output_type": "stream",
          "name": "stdout",
          "text": [
            "################################\n",
            "#########.######################\n",
            "#########..#####################\n",
            "#########..G####################\n",
            "########....#GG#################\n",
            "########G......#################\n",
            "########........################\n",
            "###.####...#....################\n",
            " ...\n",
            "####...###..#..#######.......###\n",
            "####...###############.#########\n",
            "#####..#########################\n",
            "################################\n"
          ]
        },
        {
          "output_type": "display_data",
          "data": {
            "text/markdown": "The stored answers are: `{1: '269430', 2: '55160'}`",
            "text/plain": [
              "<IPython.core.display.Markdown object>"
            ]
          },
          "metadata": {}
        }
      ]
    },
    {
      "cell_type": "code",
      "metadata": {
        "id": "u-pqzTtl5Jdw"
      },
      "source": [
        "s1 = \"\"\"\n",
        "#######\n",
        "#.G...#\n",
        "#...EG#\n",
        "#.#.#G#\n",
        "#..G#E#\n",
        "#.....#\n",
        "#######\n",
        "\"\"\"\n",
        "\n",
        "s10 = \"\"\"\n",
        "#######\n",
        "#G..#E#\n",
        "#E#E.E#\n",
        "#G.##.#\n",
        "#...#E#\n",
        "#...E.#\n",
        "#######\n",
        "\"\"\"\n",
        "\n",
        "s11 = \"\"\"\n",
        "#######\n",
        "#E..EG#\n",
        "#.#G.E#\n",
        "#E.##E#\n",
        "#G..#.#\n",
        "#..E#.#\n",
        "#######\n",
        "\"\"\"\n",
        "\n",
        "s12 = \"\"\"\n",
        "#######\n",
        "#E.G#.#\n",
        "#.#G..#\n",
        "#G.#.G#\n",
        "#G..#.#\n",
        "#...E.#\n",
        "#######\n",
        "\"\"\"\n",
        "\n",
        "s13 = \"\"\"\n",
        "#######\n",
        "#.E...#\n",
        "#.#..G#\n",
        "#.###.#\n",
        "#E#G#G#\n",
        "#...#G#\n",
        "#######\n",
        "\"\"\"\n",
        "\n",
        "s14 = \"\"\"\n",
        "#########\n",
        "#G......#\n",
        "#.E.#...#\n",
        "#..##..G#\n",
        "#...##..#\n",
        "#...#...#\n",
        "#.G...G.#\n",
        "#.....G.#\n",
        "#########\n",
        "\"\"\""
      ],
      "execution_count": 63,
      "outputs": []
    },
    {
      "cell_type": "code",
      "source": [
        "def simulate_combat(s, verbose=False, visualize=False,\n",
        "                    elf_attack_power=3, fail_if_elf_dies=False):\n",
        "\n",
        "  @dataclasses.dataclass\n",
        "  class Unit:\n",
        "    yx: Tuple[int, int]\n",
        "    ch: str  # 'E' (Elf) or 'G' (Goblin).\n",
        "    hit_points: int = 200\n",
        "\n",
        "  show = hh.show if verbose else lambda *a, **k: None\n",
        "  grid = hh.grid_from_string(s)\n",
        "  units = [Unit(yx, ch) for ch in 'GE' for yx in zip(*np.nonzero(grid == ch))]\n",
        "\n",
        "  def get_opponents(unit):\n",
        "    return (u for u in units if u.ch != unit.ch)\n",
        "\n",
        "  def manhattan(yx1, yx2):\n",
        "    return abs(yx1[0] - yx2[0]) + abs(yx1[1] - yx2[1])\n",
        "\n",
        "  def get_adjacent_opponents(unit):\n",
        "    return [u for u in get_opponents(unit) if manhattan(u.yx, unit.yx) == 1]\n",
        "\n",
        "  def empty_adjacent_yxs(yx):\n",
        "    y, x = yx\n",
        "    for yx2 in ((y - 1, x), (y, x - 1), (y, x + 1), (y + 1, x)):\n",
        "      # Bounds checking is unnecessary because maze is surrounded by walls.\n",
        "      if grid[yx2] == '.':\n",
        "        yield yx2\n",
        "\n",
        "  def adjacent_towards_opponent(grid, unit_yx, inrange):\n",
        "    # BFS from unit until yx in inrange; record all others at same distance.\n",
        "    next_queue = [unit.yx]\n",
        "    visited = set()\n",
        "    nearests = set()\n",
        "    for nearest_distance in itertools.count():\n",
        "      if nearests or not next_queue:\n",
        "        break\n",
        "      queue, next_queue = next_queue, []\n",
        "      for yx in queue:\n",
        "        for yx2 in empty_adjacent_yxs(yx):\n",
        "          if yx2 not in visited:\n",
        "            visited.add(yx2)\n",
        "            next_queue.append(yx2)\n",
        "            if yx2 in inrange:\n",
        "              nearests.add(yx2)\n",
        "    if not nearests:\n",
        "      return None  # No path to opponent.\n",
        "    nearest = min(nearests)\n",
        "\n",
        "    # BFS from nearest to unit; find unit neighbor with shortest distance.\n",
        "    next_queue = [nearest]\n",
        "    distances = {nearest: 0}\n",
        "    for distance in range(nearest_distance - 1):\n",
        "      queue, next_queue = next_queue, []\n",
        "      for yx in queue:\n",
        "        for yx2 in empty_adjacent_yxs(yx):\n",
        "          if yx2 not in distances:\n",
        "            if distance + manhattan(yx2, unit.yx) <= nearest_distance:  # A*\n",
        "              distances[yx2] = distance + 1\n",
        "              next_queue.append(yx2)\n",
        "    return min(empty_adjacent_yxs(unit.yx),\n",
        "               key=lambda yx: (distances.get(yx, math.inf), yx))\n",
        "\n",
        "  images = []\n",
        "  for round in itertools.count():\n",
        "    if visualize:\n",
        "      cmap = {'.': (250,) * 3, '#': (0, 0, 0),\n",
        "              'E': (255, 0, 0), 'G': (0, 190, 0)}\n",
        "      image = np.array([cmap[e] for e in grid.ravel()], dtype=np.uint8)\n",
        "      image = image.reshape(*grid.shape, 3)\n",
        "      images.append(image)\n",
        "    hit_points = [u.hit_points for u in sorted(units, key=lambda u: u.yx)]\n",
        "    show('\\nBegin round', round, hit_points)\n",
        "    show('' + hh.string_from_grid(grid))\n",
        "    incomplete_round = False\n",
        "    for unit in sorted(units, key=lambda unit: unit.yx):\n",
        "      if unit not in units:  # If already deleted, skip it.\n",
        "        continue\n",
        "      if len(set(u.ch for u in units)) == 1:\n",
        "        incomplete_round = True  # Unit cannot attack, so end of combat.\n",
        "        break\n",
        "\n",
        "      # Find nearest attacker-adjacent position and try to move towards it.\n",
        "      adjacent_opponents = get_adjacent_opponents(unit)\n",
        "      if not adjacent_opponents:\n",
        "        inrange = {yx for u in get_opponents(unit)\n",
        "                   for yx in empty_adjacent_yxs(u.yx)}\n",
        "        if not inrange:  # No accessible opponent.\n",
        "          continue\n",
        "        best_adjacent = adjacent_towards_opponent(grid, unit.yx, inrange)\n",
        "        if best_adjacent is None:\n",
        "          continue\n",
        "        check_eq(grid[unit.yx], unit.ch)\n",
        "        check_eq(grid[best_adjacent], '.')\n",
        "        check_eq(manhattan(best_adjacent, unit.yx), 1)\n",
        "        grid[unit.yx] = '.'\n",
        "        grid[best_adjacent] = unit.ch\n",
        "        unit.yx = best_adjacent\n",
        "        adjacent_opponents = get_adjacent_opponents(unit)\n",
        "\n",
        "      # Find adjacent opponent with lowest hit points and attack it.\n",
        "      if adjacent_opponents:\n",
        "        opponent = min(adjacent_opponents, key=lambda u: (u.hit_points, u.yx))\n",
        "        attack_power = elf_attack_power if unit.ch == 'E' else 3\n",
        "        opponent.hit_points -= attack_power\n",
        "        if opponent.hit_points <= 0:\n",
        "          check_eq(grid[opponent.yx], opponent.ch)\n",
        "          grid[opponent.yx] = '.'\n",
        "          units.remove(opponent)\n",
        "          if fail_if_elf_dies and opponent.ch == 'E':\n",
        "            return None\n",
        "    if incomplete_round:\n",
        "      break\n",
        "\n",
        "  if visualize:\n",
        "    media.show_video(images, codec='gif', fps=10, height=grid.shape[0] * 5)\n",
        "    return None\n",
        "  num_rounds = round\n",
        "  hit_points = [u.hit_points for u in sorted(units, key=lambda u: u.yx)]\n",
        "  sum_points = sum(hit_points)\n",
        "  show(num_rounds, sum_points, hit_points)\n",
        "  show('' + hh.string_from_grid(grid))\n",
        "  return num_rounds * sum_points\n",
        "\n",
        "process1 = simulate_combat\n",
        "\n",
        "check_eq(process1(s1), 27730)\n",
        "check_eq(process1(s10), 36334)\n",
        "check_eq(process1(s11), 39514)\n",
        "check_eq(process1(s12), 27755)\n",
        "check_eq(process1(s13), 28944)\n",
        "check_eq(process1(s14), 18740)\n",
        "\n",
        "puzzle.verify(1, process1)  # ~0.8 s."
      ],
      "metadata": {
        "colab": {
          "base_uri": "https://localhost:8080/"
        },
        "id": "x9A6ZPSW888x",
        "outputId": "95822ca6-60d8-4eed-c6a4-ae8983862c84"
      },
      "execution_count": 64,
      "outputs": [
        {
          "output_type": "stream",
          "name": "stdout",
          "text": [
            "(Part 1: 0.873 s)\n"
          ]
        }
      ]
    },
    {
      "cell_type": "code",
      "source": [
        "def simulate_combat(s, visualize=False, elf_attack_power=3,\n",
        "                    fail_if_elf_dies=False):  # Using numba; optimized.\n",
        "\n",
        "  @dataclasses.dataclass\n",
        "  class Unit:\n",
        "    yx: Tuple[int, int]\n",
        "    ch: str  # 'E' (Elf) or 'G' (Goblin).\n",
        "    hit_points: int = 200\n",
        "\n",
        "  grid = hh.grid_from_string(s)\n",
        "  units = [Unit(yx, ch) for ch in 'GE' for yx in zip(*np.nonzero(grid == ch))]\n",
        "\n",
        "  def get_opponents(unit):\n",
        "    return (u for u in units if u.ch != unit.ch)\n",
        "\n",
        "  def manhattan(yx1, yx2):\n",
        "    return abs(yx1[0] - yx2[0]) + abs(yx1[1] - yx2[1])\n",
        "\n",
        "  def get_adjacent_opponents(unit):\n",
        "    return [u for u in get_opponents(unit) if manhattan(u.yx, unit.yx) == 1]\n",
        "\n",
        "  def empty_adjacent_yxs(yx):\n",
        "    y, x = yx\n",
        "    for yx2 in ((y - 1, x), (y, x - 1), (y, x + 1), (y + 1, x)):\n",
        "      # Bounds checking is unnecessary because maze is surrounded by walls.\n",
        "      if grid[yx2] == '.':\n",
        "        yield yx2\n",
        "\n",
        "  # Passing a `set` into numba is ok but deprecated; frozenset is not supported.\n",
        "  import warnings\n",
        "  warnings_context = warnings.catch_warnings()\n",
        "  warnings_context.__enter__()\n",
        "  warnings.simplefilter(\n",
        "      'ignore', category=numba.core.errors.NumbaPendingDeprecationWarning)\n",
        "\n",
        "  @numba_njit(cache=True)\n",
        "  def adjacent_towards_opponent(grid, unit_yx, inrange):\n",
        "    # BFS from unit until yx in inrange; record all others at same distance.\n",
        "    next_queue = [unit_yx]\n",
        "    visited = set()\n",
        "    nearests = set()\n",
        "    for nearest_distance in range(10**8):\n",
        "      if nearests or not next_queue:\n",
        "        break\n",
        "      queue, next_queue = next_queue, []\n",
        "      for yx in queue:\n",
        "        y, x = yx\n",
        "        for yx2 in ((y - 1, x), (y, x - 1), (y, x + 1), (y + 1, x)):\n",
        "          if grid[yx2] == '.' and yx2 not in visited:\n",
        "            visited.add(yx2)\n",
        "            next_queue.append(yx2)\n",
        "            if yx2 in inrange:\n",
        "              nearests.add(yx2)\n",
        "    if not nearests:\n",
        "      return None  # No path to opponent.\n",
        "    nearest = min(nearests)\n",
        "\n",
        "    # BFS from nearest to unit; find unit neighbor with shortest distance.\n",
        "    next_queue = [nearest]\n",
        "    distances = {nearest: 0}\n",
        "    for distance in range(nearest_distance - 1):\n",
        "      queue, next_queue = next_queue, []\n",
        "      for yx in queue:\n",
        "        y, x = yx\n",
        "        for yx2 in ((y - 1, x), (y, x - 1), (y, x + 1), (y + 1, x)):\n",
        "          if grid[yx2] == '.' and yx2 not in distances:\n",
        "            remaining = abs(unit_yx[0] - yx2[0]) + abs(unit_yx[1] - yx2[1])\n",
        "            if distance + remaining <= nearest_distance:  # A*.\n",
        "              distances[yx2] = distance + 1\n",
        "              next_queue.append(yx2)\n",
        "\n",
        "    y, x = unit_yx\n",
        "    best = 10**8, (-1, -1)\n",
        "    for yx2 in ((y - 1, x), (y, x - 1), (y, x + 1), (y + 1, x)):\n",
        "      if grid[yx2] == '.' and yx2 in distances and (distances[yx2], yx2) < best:\n",
        "        best = distances[yx2], yx2\n",
        "    return best[1]\n",
        "\n",
        "  images = []\n",
        "  for round in itertools.count():\n",
        "    if visualize:\n",
        "      cmap = {'.': (250,) * 3, '#': (0, 0, 0),\n",
        "              'E': (255, 0, 0), 'G': (0, 190, 0)}\n",
        "      image = np.array([cmap[e] for e in grid.ravel()], dtype=np.uint8)\n",
        "      image = image.reshape(*grid.shape, 3)\n",
        "      images.append(image)\n",
        "    hit_points = [u.hit_points for u in sorted(units, key=lambda u: u.yx)]\n",
        "    # hh.show('\\nBegin round', round, hit_points)\n",
        "    # hh.show('' + hh.string_from_grid(grid))\n",
        "    incomplete_round = False\n",
        "    for unit in sorted(units, key=lambda unit: unit.yx):\n",
        "      if unit not in units:  # If already deleted, skip it.\n",
        "        continue\n",
        "      if len(set(u.ch for u in units)) == 1:\n",
        "        incomplete_round = True  # Unit cannot attack, so end of combat.\n",
        "        break\n",
        "\n",
        "      # Find nearest attacker-adjacent position and try to move towards it.\n",
        "      adjacent_opponents = get_adjacent_opponents(unit)\n",
        "      if not adjacent_opponents:\n",
        "        inrange = {yx for u in get_opponents(unit)\n",
        "                   for yx in empty_adjacent_yxs(u.yx)}\n",
        "        if not inrange:  # No accessible opponent.\n",
        "          continue\n",
        "        best_adjacent = adjacent_towards_opponent(grid, unit.yx, inrange)\n",
        "        if best_adjacent is None:\n",
        "          continue\n",
        "        # check_eq(grid[unit.yx], unit.ch)\n",
        "        # check_eq(grid[best_adjacent], '.')\n",
        "        # check_eq(manhattan(best_adjacent, unit.yx), 1)\n",
        "        grid[unit.yx] = '.'\n",
        "        grid[best_adjacent] = unit.ch\n",
        "        unit.yx = best_adjacent\n",
        "        adjacent_opponents = get_adjacent_opponents(unit)\n",
        "\n",
        "      # Find adjacent opponent with lowest hit points and attack it.\n",
        "      if adjacent_opponents:\n",
        "        opponent = min(adjacent_opponents, key=lambda u: (u.hit_points, u.yx))\n",
        "        attack_power = elf_attack_power if unit.ch == 'E' else 3\n",
        "        opponent.hit_points -= attack_power\n",
        "        if opponent.hit_points <= 0:\n",
        "          # check_eq(grid[opponent.yx], opponent.ch)\n",
        "          grid[opponent.yx] = '.'\n",
        "          units.remove(opponent)\n",
        "          if fail_if_elf_dies and opponent.ch == 'E':\n",
        "            return None\n",
        "    if incomplete_round:\n",
        "      break\n",
        "\n",
        "  warnings_context.__exit__()\n",
        "  if visualize:\n",
        "    media.show_video(images, codec='gif', fps=10, height=grid.shape[0] * 5)\n",
        "    return None\n",
        "  num_rounds = round\n",
        "  hit_points = [u.hit_points for u in sorted(units, key=lambda u: u.yx)]\n",
        "  sum_points = sum(hit_points)\n",
        "  # hh.show(num_rounds, sum_points, hit_points)\n",
        "  # hh.show('' + hh.string_from_grid(grid))\n",
        "  return num_rounds * sum_points\n",
        "\n",
        "process1 = simulate_combat\n",
        "\n",
        "check_eq(process1(s1), 27730)\n",
        "check_eq(process1(s10), 36334)\n",
        "check_eq(process1(s11), 39514)\n",
        "check_eq(process1(s12), 27755)\n",
        "check_eq(process1(s13), 28944)\n",
        "check_eq(process1(s14), 18740)\n",
        "\n",
        "puzzle.verify(1, process1)  # ~210 ms.\n",
        "if media.video_is_available():\n",
        "  process1(puzzle.input, visualize=True)"
      ],
      "metadata": {
        "colab": {
          "base_uri": "https://localhost:8080/",
          "height": 201
        },
        "id": "SpT2MXyl33ou",
        "outputId": "6b9c4cc1-b6d0-4182-d6af-106224f8fabe"
      },
      "execution_count": 65,
      "outputs": [
        {
          "output_type": "stream",
          "name": "stdout",
          "text": [
            "(Part 1: 0.224 s)\n"
          ]
        },
        {
          "output_type": "display_data",
          "data": {
            "text/html": [
              "<table class=\"show_videos\" style=\"border-spacing:0px;\"><tr><td style=\"padding:1px;\"><img width=\"160\" height=\"160\" style=\"image-rendering:pixelated; object-fit:cover;\" src=\"data:image/gif;base64,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\"/></td></tr></table>"
            ],
            "text/plain": [
              "<IPython.core.display.HTML object>"
            ]
          },
          "metadata": {}
        }
      ]
    },
    {
      "cell_type": "code",
      "metadata": {
        "id": "aCKKMOUK5Jdw",
        "colab": {
          "base_uri": "https://localhost:8080/"
        },
        "outputId": "1e5ce1b6-1fb3-4994-ca3e-bb4908bb910d"
      },
      "source": [
        "def process2(s):  # Brute-force search of increasing attack power.\n",
        "  for elf_attack_power in itertools.count(3):\n",
        "    result = simulate_combat(\n",
        "        s, elf_attack_power=elf_attack_power, fail_if_elf_dies=True)\n",
        "    if result:\n",
        "      print(f'Found solution at elf_attack_power={elf_attack_power}')\n",
        "      return result\n",
        "\n",
        "check_eq(process2(s1), 4988)\n",
        "check_eq(process2(s11), 31284)\n",
        "check_eq(process2(s12), 3478)\n",
        "check_eq(process2(s13), 6474)\n",
        "check_eq(process2(s14), 1140)\n",
        "\n",
        "# puzzle.verify(2, process2)  # Slow; ~1.6 s."
      ],
      "execution_count": 66,
      "outputs": [
        {
          "output_type": "stream",
          "name": "stdout",
          "text": [
            "Found solution at elf_attack_power=15\n",
            "Found solution at elf_attack_power=4\n",
            "Found solution at elf_attack_power=15\n",
            "Found solution at elf_attack_power=12\n",
            "Found solution at elf_attack_power=34\n"
          ]
        }
      ]
    },
    {
      "cell_type": "code",
      "source": [
        "def process2(s):  # Faster bisection search.\n",
        "  current = 10\n",
        "  low = high = None\n",
        "  results = {}\n",
        "  while True:\n",
        "    results[current] = result = simulate_combat(\n",
        "        s, elf_attack_power=current, fail_if_elf_dies=True)\n",
        "    if result:  # We should try to decrease current.\n",
        "      high = current\n",
        "      if low is None:\n",
        "        current = current // 2\n",
        "      elif low < current - 1:\n",
        "        current = (low + high) // 2\n",
        "      else:\n",
        "        break\n",
        "    else:  # We need to increase current.\n",
        "      low = current\n",
        "      if high is None:\n",
        "        current = current * 2\n",
        "      elif current < high - 1:\n",
        "        current = (low + high) // 2\n",
        "      else:\n",
        "        current = current + 1\n",
        "        break\n",
        "  print(f'Found solution at elf_attack_power={current}')\n",
        "  return results[current]\n",
        "\n",
        "check_eq(process2(s1), 4988)\n",
        "check_eq(process2(s11), 31284)\n",
        "check_eq(process2(s12), 3478)\n",
        "check_eq(process2(s13), 6474)\n",
        "check_eq(process2(s14), 1140)\n",
        "\n",
        "puzzle.verify(2, process2)  # ~670 ms.\n",
        "# (elf_attack_power = 19; num_rounds = 40)"
      ],
      "metadata": {
        "colab": {
          "base_uri": "https://localhost:8080/"
        },
        "id": "bfldwhfnJcxE",
        "outputId": "cb3adda7-cb97-4d20-b33d-b86ba77811f5"
      },
      "execution_count": 67,
      "outputs": [
        {
          "output_type": "stream",
          "name": "stdout",
          "text": [
            "Found solution at elf_attack_power=15\n",
            "Found solution at elf_attack_power=4\n",
            "Found solution at elf_attack_power=15\n",
            "Found solution at elf_attack_power=12\n",
            "Found solution at elf_attack_power=34\n",
            "Found solution at elf_attack_power=19\n",
            "(Part 2: 0.690 s)\n"
          ]
        }
      ]
    },
    {
      "cell_type": "markdown",
      "metadata": {
        "id": "CWRhgnUi5JlH"
      },
      "source": [
        "<a name=\"day16\"></a>\n",
        "## Day 16: Inferring opcodes"
      ]
    },
    {
      "cell_type": "markdown",
      "metadata": {
        "id": "4_Hidc7w5JlH"
      },
      "source": [
        "- Part 1: How many samples in your puzzle input behave like three or more opcodes?\n",
        "\n",
        "- Part 2: What value is contained in register 0 after executing the test program?"
      ]
    },
    {
      "cell_type": "code",
      "metadata": {
        "id": "bf8kHpTU5JlI",
        "colab": {
          "base_uri": "https://localhost:8080/",
          "height": 302
        },
        "outputId": "a891588f-b21a-460a-f59c-0f9daa02b111"
      },
      "source": [
        "puzzle = advent.puzzle(day=16)"
      ],
      "execution_count": 68,
      "outputs": [
        {
          "output_type": "display_data",
          "data": {
            "text/markdown": "For [day 16](https://adventofcode.com/2018/day/16), `puzzle.input` has 4190 lines:",
            "text/plain": [
              "<IPython.core.display.Markdown object>"
            ]
          },
          "metadata": {}
        },
        {
          "output_type": "stream",
          "name": "stdout",
          "text": [
            "Before: [1, 0, 2, 1]\n",
            "2 3 2 0\n",
            "After:  [1, 0, 2, 1]\n",
            "\n",
            "Before: [1, 0, 2, 2]\n",
            "11 3 2 1\n",
            "After:  [1, 0, 2, 2]\n",
            "\n",
            " ...\n",
            "5 2 3 2\n",
            "5 2 1 2\n",
            "13 3 2 3\n",
            "2 3 3 0\n"
          ]
        },
        {
          "output_type": "display_data",
          "data": {
            "text/markdown": "The stored answers are: `{1: '677', 2: '540'}`",
            "text/plain": [
              "<IPython.core.display.Markdown object>"
            ]
          },
          "metadata": {}
        }
      ]
    },
    {
      "cell_type": "code",
      "metadata": {
        "id": "JpY8IL0P5JlI"
      },
      "source": [
        "s1 = \"\"\"\n",
        "Before: [3, 2, 1, 1]\n",
        "9 2 1 2\n",
        "After:  [3, 2, 2, 1]\n",
        "\"\"\""
      ],
      "execution_count": 69,
      "outputs": []
    },
    {
      "cell_type": "code",
      "metadata": {
        "colab": {
          "base_uri": "https://localhost:8080/"
        },
        "id": "6UfDtkTQ6T1_",
        "outputId": "ddc9511f-bda4-4de1-c764-68630c671fa1"
      },
      "source": [
        "def process1(s, part2=False):\n",
        "  s1, s2 = s.split('\\n\\n\\n')\n",
        "  machine = Machine(num_registers=4)\n",
        "  num_operations = len(machine.operations)\n",
        "  candidates = {op: set(range(num_operations)) for op in machine.operations}\n",
        "  num_compatible_with_3_or_more = 0\n",
        "  examples = s1.strip('\\n').split('\\n\\n')\n",
        "  for example in examples:\n",
        "    lines = example.split('\\n')\n",
        "    check_eq(len(lines), 3)\n",
        "    before = list(map(int, lines[0][9:-1].split(',')))\n",
        "    codes = list(map(int, lines[1].split()))\n",
        "    after = list(map(int, lines[2][9:-1].split(',')))\n",
        "    check_eq(len(codes), 4)\n",
        "    opcode, *operands = codes\n",
        "    assert 0 <= opcode < num_operations\n",
        "    num_compatible = 0\n",
        "    for operation in machine.operations:\n",
        "      registers = before.copy()\n",
        "      machine.operations[operation](registers, operands)\n",
        "      if registers == after:\n",
        "        num_compatible += 1\n",
        "      else:\n",
        "        candidates[operation] -= {opcode}\n",
        "    num_compatible_with_3_or_more += num_compatible >= 3\n",
        "\n",
        "  if not part2:\n",
        "    return num_compatible_with_3_or_more\n",
        "\n",
        "  operation_from_opcode = {}\n",
        "  while candidates:\n",
        "    operation = next(op for op, set_ in candidates.items() if len(set_) == 1)\n",
        "    opcode, = candidates.pop(operation)\n",
        "    operation_from_opcode[opcode] = operation\n",
        "    for set_ in candidates.values():\n",
        "      set_ -= {opcode}\n",
        "  print(operation_from_opcode)\n",
        "\n",
        "  machine = Machine(num_registers=4)\n",
        "  for line in s2.strip('\\n').split('\\n'):\n",
        "    codes = list(map(int, line.split()))\n",
        "    check_eq(len(codes), 4)\n",
        "    opcode, *operands = codes\n",
        "    operation = operation_from_opcode[opcode]\n",
        "    machine.operations[operation](machine.registers, operands)\n",
        "\n",
        "  return machine.registers[0]\n",
        "\n",
        "\n",
        "check_eq(process1(s1 + '\\n\\n\\n'), 1)\n",
        "puzzle.verify(1, process1)\n",
        "\n",
        "process2 = functools.partial(process1, part2=True)\n",
        "puzzle.verify(2, process2)"
      ],
      "execution_count": 70,
      "outputs": [
        {
          "output_type": "stream",
          "name": "stdout",
          "text": [
            "(Part 1: 0.019 s)\n",
            "{4: 'bori', 7: 'borr', 13: 'addr', 10: 'addi', 5: 'muli', 14: 'mulr', 2: 'setr', 15: 'seti', 6: 'bani', 0: 'banr', 8: 'gtir', 12: 'eqri', 1: 'eqrr', 11: 'gtri', 3: 'eqir', 9: 'gtrr'}\n",
            "(Part 2: 0.027 s)\n"
          ]
        }
      ]
    },
    {
      "cell_type": "markdown",
      "metadata": {
        "id": "E94hBQZ75Jro"
      },
      "source": [
        "<a name=\"day17\"></a>\n",
        "## Day 17: Water falling over reservoirs"
      ]
    },
    {
      "cell_type": "markdown",
      "metadata": {
        "id": "WVQTy19I5Jro"
      },
      "source": [
        "- Part 1: How many tiles can the water reach within the range of y values in your scan?\n",
        "\n",
        "- Part 2: How many water tiles are left after the water spring stops producing water and all remaining water not at rest has drained?"
      ]
    },
    {
      "cell_type": "code",
      "metadata": {
        "id": "PRm1g-dk5Jrp",
        "colab": {
          "base_uri": "https://localhost:8080/",
          "height": 302
        },
        "outputId": "cce37569-c362-4c78-e516-1699ae8e33d0"
      },
      "source": [
        "puzzle = advent.puzzle(day=17)"
      ],
      "execution_count": 71,
      "outputs": [
        {
          "output_type": "display_data",
          "data": {
            "text/markdown": "For [day 17](https://adventofcode.com/2018/day/17), `puzzle.input` has 2130 lines:",
            "text/plain": [
              "<IPython.core.display.Markdown object>"
            ]
          },
          "metadata": {}
        },
        {
          "output_type": "stream",
          "name": "stdout",
          "text": [
            "x=360, y=75..98\n",
            "x=579, y=819..844\n",
            "y=1262, x=362..366\n",
            "x=573, y=1593..1621\n",
            "y=1546, x=508..510\n",
            "x=284, y=1687..1696\n",
            "y=1793, x=383..386\n",
            "x=506, y=254..256\n",
            " ...\n",
            "x=443, y=587..600\n",
            "x=509, y=504..507\n",
            "x=300, y=1481..1490\n",
            "x=628, y=1443..1445\n"
          ]
        },
        {
          "output_type": "display_data",
          "data": {
            "text/markdown": "The stored answers are: `{1: '35707', 2: '29293'}`",
            "text/plain": [
              "<IPython.core.display.Markdown object>"
            ]
          },
          "metadata": {}
        }
      ]
    },
    {
      "cell_type": "code",
      "metadata": {
        "id": "CA3MtMpr5Jrp"
      },
      "source": [
        "s1 = \"\"\"\n",
        "x=495, y=2..7\n",
        "y=7, x=495..501\n",
        "x=501, y=3..7\n",
        "x=498, y=2..4\n",
        "x=506, y=1..2\n",
        "x=498, y=10..13\n",
        "x=504, y=10..13\n",
        "y=13, x=498..504\n",
        "\"\"\""
      ],
      "execution_count": 72,
      "outputs": []
    },
    {
      "cell_type": "code",
      "metadata": {
        "id": "3FlasV3urhhd",
        "colab": {
          "base_uri": "https://localhost:8080/",
          "height": 504
        },
        "outputId": "c6111524-dd75-4664-bd70-76b1b8864c2c"
      },
      "source": [
        "def process1(s, part2=False, visualize=False):\n",
        "  grid = {}\n",
        "\n",
        "  for line in s.strip('\\n').split('\\n'):\n",
        "    pattern = r'[xy]=(\\d+), [xy]=(\\d+)\\.\\.(\\d+)'\n",
        "    x, y0, y1 = map(int, re.fullmatch(pattern, line).groups())\n",
        "    for y in range(y0, y1 + 1):\n",
        "      yx = (y, x) if line[0] == 'x' else (x, y)\n",
        "      grid[yx[0], yx[1]] = '#'\n",
        "  ymin, ymax = min(y for y, x in grid), max(y for y, x in grid)\n",
        "\n",
        "  def encode(yx): return -yx[0], yx[1]\n",
        "  def decode(yx): return -yx[0], yx[1]\n",
        "  yx = 0, 500\n",
        "  sources = [encode(yx)]  # heap\n",
        "  grid[yx] = '|'\n",
        "\n",
        "  while sources:\n",
        "    yx = decode(sources[0])\n",
        "    check_eq(grid[yx], '|')\n",
        "    if yx[0] == ymax:\n",
        "      heapq.heappop(sources)\n",
        "      continue\n",
        "    y1x = yx[0] + 1, yx[1]\n",
        "    ch = grid.get(y1x, '.')\n",
        "    if ch == '|':\n",
        "      heapq.heappop(sources)\n",
        "      continue\n",
        "    if ch == '.':\n",
        "      grid[y1x] = '|'\n",
        "      heapq.heappush(sources, encode(y1x))\n",
        "      continue\n",
        "    assert ch in '~#'\n",
        "    heapq.heappop(sources)\n",
        "    bounded = []\n",
        "    for dx in (-1, 1):\n",
        "      yx2 = yx\n",
        "      while True:\n",
        "        yx2 = yx2[0], yx2[1] + dx\n",
        "        ch2 = grid.get(yx2, '.')\n",
        "        assert ch2 != '~'\n",
        "        if ch2 == '#':\n",
        "          bounded.append(yx2[1])\n",
        "          break\n",
        "        grid[yx2] = '|'\n",
        "        y1x2 = yx2[0] + 1, yx2[1]\n",
        "        if ch2 == '.' and y1x2 not in grid:\n",
        "          heapq.heappush(sources, encode(yx2))\n",
        "        if grid.get(y1x2, '.') not in '~#':\n",
        "          break\n",
        "    if len(bounded) == 2:\n",
        "      for x in range(bounded[0] + 1, bounded[1]):\n",
        "        grid[yx[0], x] = '~'\n",
        "\n",
        "  if visualize:\n",
        "    cmap = {'.': (250,) * 3, '#': (0, 0, 0),\n",
        "            '~': (0, 0, 255), '|': (150, 150, 255)}\n",
        "    image = hh.image_from_yx_map(grid, '.', cmap, pad=1).transpose(1, 0, 2)\n",
        "    media.show_image(image, title='(transposed)', border=True)\n",
        "    return None\n",
        "\n",
        "  desired = '~' if part2 else '~|'\n",
        "  return sum(1 for yx in grid if ymin <= yx[0] <= ymax and grid[yx] in desired)\n",
        "\n",
        "check_eq(process1(s1), 57)\n",
        "puzzle.verify(1, process1)\n",
        "process1(puzzle.input, visualize=True)\n",
        "\n",
        "process2 = functools.partial(process1, part2=True)\n",
        "check_eq(process2(s1), 29)\n",
        "puzzle.verify(2, process2)"
      ],
      "execution_count": 73,
      "outputs": [
        {
          "output_type": "stream",
          "name": "stdout",
          "text": [
            "(Part 1: 0.124 s)\n"
          ]
        },
        {
          "output_type": "display_data",
          "data": {
            "text/html": [
              "<table class=\"show_images\" style=\"border-spacing:0px;\"><tr><td style=\"padding:1px;\"><div style=\"display:flex; align-items:left;\">\n",
              "      <div style=\"display:flex; flex-direction:column; align-items:center;\">\n",
              "      <div>(transposed)</div><div><img width=\"1844\" height=\"426\" style=\"border:1px solid black; image-rendering:pixelated; object-fit:cover;\" src=\"data:image/png;base64,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\"/></div></div></div></td></tr></table>"
            ],
            "text/plain": [
              "<IPython.core.display.HTML object>"
            ]
          },
          "metadata": {}
        },
        {
          "output_type": "stream",
          "name": "stdout",
          "text": [
            "(Part 2: 0.121 s)\n"
          ]
        }
      ]
    },
    {
      "cell_type": "markdown",
      "metadata": {
        "id": "TGWEbHn_5JyP"
      },
      "source": [
        "<a name=\"day18\"></a>\n",
        "## Day 18: Cellular automaton"
      ]
    },
    {
      "cell_type": "markdown",
      "metadata": {
        "id": "WSIQC3h65JyP"
      },
      "source": [
        "- Part 1: What will the total resource value of the lumber collection area be after 10 minutes?\n",
        "\n",
        "- Part 2: What will the total resource value of the lumber collection area be after 1000000000 minutes?"
      ]
    },
    {
      "cell_type": "code",
      "metadata": {
        "id": "CC4A5NO85JyP",
        "colab": {
          "base_uri": "https://localhost:8080/",
          "height": 302
        },
        "outputId": "d2782ee2-a2d8-4a57-9302-f026d5ee57db"
      },
      "source": [
        "puzzle = advent.puzzle(day=18)"
      ],
      "execution_count": 74,
      "outputs": [
        {
          "output_type": "display_data",
          "data": {
            "text/markdown": "For [day 18](https://adventofcode.com/2018/day/18), `puzzle.input` has 50 lines:",
            "text/plain": [
              "<IPython.core.display.Markdown object>"
            ]
          },
          "metadata": {}
        },
        {
          "output_type": "stream",
          "name": "stdout",
          "text": [
            "|..|#.#|..|#|.##.#..|.#....|.||.#..##...#.#|...|..\n",
            "|#.||.|...|#.....#|#.#..##|...##....|...#.#|..|.#.\n",
            "|..|.#.#..|.###..#.|...##|.||...|#...|##..|.....#.\n",
            ".|..#.#...#|.....#|.#.....#.##.#.....||..|.||#....\n",
            "#...|..||..|.#|...#.|.#..||....#..#|.....|#.....#.\n",
            "..|..#.#|.....|.#.|....#...#.#.#|#.#|#....|..#..#.\n",
            "#....|......||..#.#.#|...#....#.|||.|#....|||.##..\n",
            ".|.#...|#.#|#|.|....|.||#.|.#||..##.|....#||...|..\n",
            " ...\n",
            "..|#....|..||..|#|.#.#|#.|#..||||.|..|..|.....#.#|\n",
            "##.......##|...#.|......##..#.|...#.#|#..|...|..#.\n",
            "|##.#...#.....#.#.|.........#.#|...#...|........||\n",
            "|.......|........#.##..#.#.#..#..#|.|#|.||#|||...|\n"
          ]
        },
        {
          "output_type": "display_data",
          "data": {
            "text/markdown": "The stored answers are: `{1: '574200', 2: '211653'}`",
            "text/plain": [
              "<IPython.core.display.Markdown object>"
            ]
          },
          "metadata": {}
        }
      ]
    },
    {
      "cell_type": "code",
      "metadata": {
        "id": "2v1bAFcQ5JyQ"
      },
      "source": [
        "s1 = \"\"\"\n",
        ".#.#...|#.\n",
        ".....#|##|\n",
        ".|..|...#.\n",
        "..|#.....#\n",
        "#.#|||#|#|\n",
        "...#.||...\n",
        ".|....|...\n",
        "||...#|.#|\n",
        "|.||||..|.\n",
        "...#.|..|.\n",
        "\"\"\""
      ],
      "execution_count": 75,
      "outputs": []
    },
    {
      "cell_type": "code",
      "metadata": {
        "id": "Dk_ZRDrA5JyQ",
        "colab": {
          "base_uri": "https://localhost:8080/"
        },
        "outputId": "ec910b4d-4b79-48d5-9274-e3f294a7f08c"
      },
      "source": [
        "def process1(s, num_minutes=10, part2=False, visualize=False):\n",
        "  grid = hh.grid_from_string(s)\n",
        "\n",
        "  def evolve_grid():\n",
        "    grid2 = np.pad(grid, 1, constant_values='.')\n",
        "    yxs = set(itertools.product((-1, 0, 1), repeat=2)) - {(0, 0)}\n",
        "    neighbors = np.array([np.roll(grid2, yx, (0, 1))[1:-1, 1:-1] for yx in yxs])\n",
        "    num_adjacent_trees = (neighbors == '|').sum(axis=0)\n",
        "    num_adjacent_lumberyards = (neighbors == '#').sum(axis=0)\n",
        "    old_grid = grid.copy()\n",
        "    grid[(old_grid == '.') & (num_adjacent_trees >= 3)] = '|'\n",
        "    grid[(old_grid == '|') & (num_adjacent_lumberyards >= 3)] = '#'\n",
        "    grid[(old_grid == '#') & ((num_adjacent_trees < 1) |\n",
        "                              (num_adjacent_lumberyards < 1))] = '.'\n",
        "\n",
        "  def resource_value():\n",
        "    num_trees = np.count_nonzero(grid == '|')\n",
        "    num_lumberyards = np.count_nonzero(grid == '#')\n",
        "    return num_trees * num_lumberyards\n",
        "\n",
        "  if not part2:\n",
        "    for minute in range(num_minutes):\n",
        "      evolve_grid()\n",
        "    return resource_value()\n",
        "\n",
        "  # Detect a repeating cycle to speed up the evolution.\n",
        "  images = []\n",
        "  configs = {}  # hashed_grid -> remaining minute it first appeared.\n",
        "  remaining_minutes = 1_000_000_000\n",
        "  period = None\n",
        "  for minute in itertools.count():\n",
        "    if visualize:\n",
        "      cmap = {'.': (200, 0, 0), '|': (0, 200, 0), '#': (0, 0, 200)}\n",
        "      image = np.array([cmap[e] for e in grid.ravel()], dtype=np.uint8)\n",
        "      image = image.reshape(*grid.shape, 3)\n",
        "      images.append(image)\n",
        "    config = ''.join(grid.flat)\n",
        "    if config in configs and not period:\n",
        "      period = configs[config] - remaining_minutes\n",
        "      remaining_minutes = remaining_minutes % period\n",
        "      # print(f'At minute {minute}, found cycle with period {period}.')\n",
        "    if not remaining_minutes:\n",
        "      break\n",
        "    configs[config] = remaining_minutes\n",
        "    evolve_grid()\n",
        "    remaining_minutes -= 1\n",
        "\n",
        "  if visualize:\n",
        "    videos = {\n",
        "        'Start': images[:50],\n",
        "        f'Cycling period={period}': images[-period:],\n",
        "    }\n",
        "    media.show_videos(videos, codec='gif', fps=10, height=grid.shape[0] * 3)\n",
        "    return None\n",
        "  return resource_value()\n",
        "\n",
        "\n",
        "check_eq(process1(s1), 1147)  # ~10 ms.\n",
        "# process1(puzzle.input, num_minutes=400)\n",
        "puzzle.verify(1, process1)\n",
        "\n",
        "process2 = functools.partial(process1, part2=True)\n",
        "puzzle.verify(2, process2)  # ~710 ms."
      ],
      "execution_count": 76,
      "outputs": [
        {
          "output_type": "stream",
          "name": "stdout",
          "text": [
            "(Part 1: 0.010 s)\n",
            "(Part 2: 0.704 s)\n"
          ]
        }
      ]
    },
    {
      "cell_type": "code",
      "source": [
        "if media.video_is_available():\n",
        "  process2(puzzle.input, visualize=True)"
      ],
      "metadata": {
        "colab": {
          "base_uri": "https://localhost:8080/",
          "height": 191
        },
        "id": "18wikBcJskE3",
        "outputId": "e17673f2-3eb0-4c9c-f028-c5948b0777b3"
      },
      "execution_count": 77,
      "outputs": [
        {
          "output_type": "display_data",
          "data": {
            "text/html": [
              "<table class=\"show_videos\" style=\"border-spacing:0px;\"><tr><td style=\"padding:1px;\"><div style=\"display:flex; align-items:left;\">\n",
              "      <div style=\"display:flex; flex-direction:column; align-items:center;\">\n",
              "      <div>Start</div><div><img width=\"150\" height=\"150\" style=\"image-rendering:pixelated; object-fit:cover;\" src=\"data:image/gif;base64,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\"/></div></div></div></td><td style=\"padding:1px;\"><div style=\"display:flex; align-items:left;\">\n",
              "      <div style=\"display:flex; flex-direction:column; align-items:center;\">\n",
              "      <div>Cycling period=28</div><div><img width=\"150\" height=\"150\" style=\"image-rendering:pixelated; object-fit:cover;\" src=\"data:image/gif;base64,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\"/></div></div></div></td></tr></table>"
            ],
            "text/plain": [
              "<IPython.core.display.HTML object>"
            ]
          },
          "metadata": {}
        }
      ]
    },
    {
      "cell_type": "markdown",
      "metadata": {
        "id": "YrHD3dva5J3g"
      },
      "source": [
        "<a name=\"day19\"></a>\n",
        "## Day 19: CPU with instruction pointer"
      ]
    },
    {
      "cell_type": "markdown",
      "metadata": {
        "id": "IX1tHDqW5J3g"
      },
      "source": [
        "- Part 1: What value is left in register 0 when the background process halts?\n",
        "\n",
        "- Part 2: What value is left in register 0 when register 0 is started with the value 1?"
      ]
    },
    {
      "cell_type": "code",
      "metadata": {
        "id": "qS3ZM4gt5J3g",
        "colab": {
          "base_uri": "https://localhost:8080/",
          "height": 302
        },
        "outputId": "7d623933-dd8a-4f4b-84f5-e5530efb8b33"
      },
      "source": [
        "puzzle = advent.puzzle(day=19)"
      ],
      "execution_count": 78,
      "outputs": [
        {
          "output_type": "display_data",
          "data": {
            "text/markdown": "For [day 19](https://adventofcode.com/2018/day/19), `puzzle.input` has 37 lines:",
            "text/plain": [
              "<IPython.core.display.Markdown object>"
            ]
          },
          "metadata": {}
        },
        {
          "output_type": "stream",
          "name": "stdout",
          "text": [
            "#ip 3\n",
            "addi 3 16 3\n",
            "seti 1 0 4\n",
            "seti 1 7 2\n",
            "mulr 4 2 1\n",
            "eqrr 1 5 1\n",
            "addr 1 3 3\n",
            "addi 3 1 3\n",
            " ...\n",
            "mulr 1 3 1\n",
            "addr 5 1 5\n",
            "seti 0 0 0\n",
            "seti 0 3 3\n"
          ]
        },
        {
          "output_type": "display_data",
          "data": {
            "text/markdown": "The stored answers are: `{1: '1430', 2: '14266944'}`",
            "text/plain": [
              "<IPython.core.display.Markdown object>"
            ]
          },
          "metadata": {}
        }
      ]
    },
    {
      "cell_type": "code",
      "metadata": {
        "id": "-9n8gbt25J3g"
      },
      "source": [
        "s1 = \"\"\"\n",
        "#ip 0\n",
        "seti 5 0 1\n",
        "seti 6 0 2\n",
        "addi 0 1 0\n",
        "addr 1 2 3\n",
        "setr 1 0 0\n",
        "seti 8 0 4\n",
        "seti 9 0 5\n",
        "\"\"\""
      ],
      "execution_count": 79,
      "outputs": []
    },
    {
      "cell_type": "code",
      "metadata": {
        "id": "aSUPjn7ci13g"
      },
      "source": [
        "if 0:\n",
        "  for i, line in enumerate(puzzle.input.splitlines()[1:17]):\n",
        "    print(f'{i:2} {line}')"
      ],
      "execution_count": 80,
      "outputs": []
    },
    {
      "cell_type": "code",
      "metadata": {
        "id": "Zyj7_I843w1N"
      },
      "source": [
        "# Part 1:\n",
        "# 0 (0, 0, 0, 16, 0, 0)\n",
        "# 1 (0, 0, 0, 17, 0, 2)\n",
        "# 2 (0, 0, 0, 18, 0, 4)\n",
        "# 3 (0, 0, 0, 19, 0, 76)\n",
        "# 4 (0, 0, 0, 20, 0, 836)\n",
        "# 5 (0, 6, 0, 21, 0, 836)\n",
        "# 6 (0, 132, 0, 22, 0, 836)\n",
        "# 7 (0, 145, 0, 23, 0, 836)\n",
        "# 8 (0, 145, 0, 24, 0, 981)\n",
        "# 9 (0, 145, 0, 25, 0, 981)\n",
        "# 10 (0, 145, 0, 0, 0, 981)  # func_ip1(a=0, f=981)\n",
        "# ...\n",
        "# 11 (0, 145, 0, 1, 1, 981)\n",
        "# 12 (0, 145, 1, 2, 1, 981)\n",
        "# 13 (0, 1, 1, 3, 1, 981)\n",
        "# 14 (0, 0, 1, 4, 1, 981)\n",
        "# 15 (0, 0, 1, 5, 1, 981)\n",
        "# 16 (0, 0, 1, 7, 1, 981)\n",
        "# 17 (0, 0, 2, 8, 1, 981)\n",
        "# 18 (0, 0, 2, 9, 1, 981)\n",
        "# 19 (0, 0, 2, 10, 1, 981)\n",
        "# 20 (0, 0, 2, 2, 1, 981)\n",
        "# ...\n",
        "# 7702823 (1430, 1, 982, 256, 982, 981)\n",
        "\n",
        "# Part 2:\n",
        "# 18 (0, 10550400, 0, 0, 0, 10551381)  # func_ip1(a=0, f=10551381)\n",
        "\n",
        "# Registers abcdef  (d=IP)\n",
        "#  1 seti 1 0 4  e = 1\n",
        "#  2 seti 1 7 2  c = 2\n",
        "#  3 mulr 4 2 1  # b = e * c\n",
        "#  4 eqrr 1 5 1\n",
        "#  5 addr 1 3 3  if e * c == f goto 7\n",
        "#  6 addi 3 1 3  goto 8\n",
        "#  7 addr 4 0 0  a += e\n",
        "#  8 addi 2 1 2  c += 1\n",
        "#  9 gtrr 2 5 1\n",
        "# 10 addr 3 1 3  if c > f goto 12\n",
        "# 11 seti 2 6 3  goto 3\n",
        "# 12 addi 4 1 4  e += 1\n",
        "# 13 gtrr 4 5 1\n",
        "# 14 addr 1 3 3  if e > f goto 16\n",
        "# 15 seti 1 3 3  goto 2\n",
        "\n",
        "# def func_ip1(a, f):\n",
        "#   for e in range(1, f + 1):\n",
        "#     for c in range(2, f + 1):\n",
        "#       if e * c == f:\n",
        "#         a += e\n",
        "\n",
        "# def func_equivalent(a, f):\n",
        "#   a += sum(e for e in range(1, f + 1) if f % e == 0)\n",
        "\n",
        "# def func_equivalent2(a, f):\n",
        "#   a += sum(factors(f))"
      ],
      "execution_count": 81,
      "outputs": []
    },
    {
      "cell_type": "code",
      "metadata": {
        "colab": {
          "base_uri": "https://localhost:8080/"
        },
        "id": "mNJbgroO0VOm",
        "outputId": "cab85ced-d2e9-4c1c-cc92-3c36cbe0abc1"
      },
      "source": [
        "def process1(s, part2=False, verbose=False):\n",
        "\n",
        "  def factors(n):\n",
        "    result = set()\n",
        "    for i in range(1, int(n ** 0.5) + 1):\n",
        "      div, mod = divmod(n, i)\n",
        "      if mod == 0:\n",
        "        result |= {i, div}\n",
        "    return result\n",
        "\n",
        "  machine = Machine()\n",
        "  machine.read_instructions(s)\n",
        "  optimize = len(machine.instructions) > 10\n",
        "  if optimize:\n",
        "    check_eq(machine.instructions[4].operation, 'eqrr')\n",
        "    register_f = machine.instructions[4].operands[1]\n",
        "    check_eq(machine.instructions[7].operation, 'addr')\n",
        "    register_a = machine.instructions[7].operands[2]\n",
        "  if part2:\n",
        "    machine.registers[0] = 1\n",
        "  history = []\n",
        "  while 0 <= machine.ip < len(machine.instructions):\n",
        "    if optimize and machine.ip == 1:\n",
        "      # Unoptimized, part1 is slow (~8 s) and part2 is way too slow.\n",
        "      f = machine.registers[register_f]\n",
        "      machine.registers[register_a] += sum(factors(f))\n",
        "      machine.ip = 16\n",
        "    else:\n",
        "      machine.run_instruction()\n",
        "    history.append(tuple(machine.registers))\n",
        "    if len(history) > 10_000_000:\n",
        "      break\n",
        "\n",
        "  if verbose:\n",
        "    for i in range(min(200, len(history))):\n",
        "      print(i, history[i])\n",
        "    if len(history) > 200:\n",
        "      for i in range(0, len(history), 100_000):\n",
        "        print(i, history[i])\n",
        "      for i in range(len(history) - 200, len(history)):\n",
        "        print(i, history[i])\n",
        "\n",
        "  return machine.registers[0]\n",
        "\n",
        "\n",
        "check_eq(process1(s1), 6)\n",
        "puzzle.verify(1, process1)\n",
        "\n",
        "process2 = functools.partial(process1, part2=True)\n",
        "puzzle.verify(2, process2)"
      ],
      "execution_count": 82,
      "outputs": [
        {
          "output_type": "stream",
          "name": "stdout",
          "text": [
            "(Part 1: 0.000 s)\n",
            "(Part 2: 0.001 s)\n"
          ]
        }
      ]
    },
    {
      "cell_type": "markdown",
      "metadata": {
        "id": "6arCTPPQ5J9Q"
      },
      "source": [
        "<a name=\"day20\"></a>\n",
        "## Day 20: Regexp of doors in 2D map"
      ]
    },
    {
      "cell_type": "markdown",
      "metadata": {
        "id": "RpncNRrg5J9Q"
      },
      "source": [
        "- Part 1: What is the largest number of doors you would be required to pass through to reach a room?\n",
        "\n",
        "- Part 2: How many rooms have a shortest path from your current location that pass through at least 1000 doors?"
      ]
    },
    {
      "cell_type": "code",
      "metadata": {
        "id": "PcABc5KJ5J9Q",
        "colab": {
          "base_uri": "https://localhost:8080/",
          "height": 93
        },
        "outputId": "9c290e0f-29af-470a-d753-da801b4ad395"
      },
      "source": [
        "puzzle = advent.puzzle(day=20)"
      ],
      "execution_count": 83,
      "outputs": [
        {
          "output_type": "display_data",
          "data": {
            "text/markdown": "For [day 20](https://adventofcode.com/2018/day/20), `puzzle.input` has a single line of 120 characters:",
            "text/plain": [
              "<IPython.core.display.Markdown object>"
            ]
          },
          "metadata": {}
        },
        {
          "output_type": "stream",
          "name": "stdout",
          "text": [
            "^SWWSWWWNNWSWSESWWWNWNNNNWWWSSSEE(NNWSNESS|)SSWNWSWWNENWNNE(NWWWSWWSEEE(N|SSWWN( ... ))|S)))|SES(WW|S)))|S)))|E)))))|S)$\n"
          ]
        },
        {
          "output_type": "display_data",
          "data": {
            "text/markdown": "The stored answers are: `{1: '3415', 2: '8583'}`",
            "text/plain": [
              "<IPython.core.display.Markdown object>"
            ]
          },
          "metadata": {}
        }
      ]
    },
    {
      "cell_type": "code",
      "metadata": {
        "id": "pUK5SIqT5J9Q",
        "colab": {
          "base_uri": "https://localhost:8080/",
          "height": 788
        },
        "outputId": "bbf1b872-58f8-4aee-bdf4-f47080c0bcfd"
      },
      "source": [
        "# I created a general solution, which can work on inputs that define\n",
        "# passageways with 2D cycles.  However, it appears that all instances of the\n",
        "# puzzle inputs give rise to a simple tree of passageways?\n",
        "# In the case of a tree, can one simply look for the longest expansion of the\n",
        "# regular expression?  No, it appears that the regexp expansions may involve\n",
        "# backtracking along edges of the tree.  My solution is likely overkill for\n",
        "# this simpler case.\n",
        "\n",
        "def process1(s, part2=False, visualize=True):\n",
        "  s, = re.fullmatch(r'\\^([SNEW(|)]+)\\$', s.strip()).groups()\n",
        "\n",
        "  def parse(s):\n",
        "    l = []\n",
        "    while s and s[0] not in '|)':\n",
        "      i = next((i for i, ch in enumerate(s) if ch in '(|)'), len(s))\n",
        "      if i:\n",
        "        l.append(s[:i])\n",
        "        s = s[i:]\n",
        "      else:\n",
        "        check_eq(s[0], '(')\n",
        "        l2 = []\n",
        "        while s[0] != ')':\n",
        "          l3, s = parse(s[1:])\n",
        "          l2.append(l3)\n",
        "          assert s[0] in '|)', s[0]\n",
        "        l.append(l2)\n",
        "        s = s[1:]\n",
        "    return l, s\n",
        "\n",
        "  l, _ = parse(s)\n",
        "\n",
        "  def traverse(l):  # Returns three sets: doors_s, doors_e, yxs.\n",
        "    if not l:\n",
        "      return set(), set(), set()\n",
        "    half = len(l) // 2\n",
        "    if half:\n",
        "      doors_s1, doors_e1, yxs1 = traverse(l[:half])\n",
        "      doors_s2, doors_e2, yxs2 = traverse(l[half:])\n",
        "      return (doors_s1 | {(y + v, x + u) for y, x in yxs1 for v, u in doors_s2},\n",
        "              doors_e1 | {(y + v, x + u) for y, x in yxs1 for v, u in doors_e2},\n",
        "              {(y + v, x + u) for y, x in yxs1 for v, u in yxs2})\n",
        "    elem, = l\n",
        "    if isinstance(elem, str):\n",
        "      doors_s, doors_e = set(), set()\n",
        "      y, x = 0, 0\n",
        "      for ch in elem:\n",
        "        if ch == 'S':\n",
        "          doors_s.add((y, x))\n",
        "          y += 1\n",
        "        elif ch == 'N':\n",
        "          y -= 1\n",
        "          doors_s.add((y, x))\n",
        "        elif ch == 'E':\n",
        "          doors_e.add((y, x))\n",
        "          x += 1\n",
        "        elif ch == 'W':\n",
        "          x -= 1\n",
        "          doors_e.add((y, x))\n",
        "        else:\n",
        "          raise AssertionError(ch)\n",
        "      return doors_s, doors_e, {(y, x)}\n",
        "    else:  # isinstance(elem, list)\n",
        "      # Return the three unions of the respective sets from all child nodes.\n",
        "      return (set().union(*tup) for tup in zip(*map(traverse, elem)))\n",
        "\n",
        "  doors_s, doors_e, _ = traverse(l)\n",
        "\n",
        "  if 0 and visualize:\n",
        "    def symbols_from_doors():\n",
        "      map1 = {(y * 2 + 1, x * 2): '-' for y, x in doors_s}\n",
        "      map2 = {(y * 2, x * 2 + 1): '|' for y, x in doors_e}\n",
        "      return {**map1, **map2, (0, 0): 'X'}\n",
        "    print(hh.string_from_grid(hh.grid_from_indices(\n",
        "        symbols_from_doors(), background='.')))\n",
        "\n",
        "  if visualize:\n",
        "    map1 = {}\n",
        "    for y, x in doors_s:\n",
        "      map1[y * 2, x * 2] = map1[y * 2 + 1, x * 2] = map1[y * 2 + 2, x * 2] = 1\n",
        "    for y, x in doors_e:\n",
        "      map1[y * 2, x * 2] = map1[y * 2, x * 2 + 1] = map1[y * 2, x * 2 + 2] = 1\n",
        "    map1[0, 0] = 2\n",
        "    cmap = {0: (250,) * 3, 1: (0,) * 3, 2: (255, 100, 100)}\n",
        "    image = hh.image_from_yx_map(map1, 0, cmap, pad=1)\n",
        "    media.show_image(image, border=True, height=max(60, image.shape[0] * 2))\n",
        "\n",
        "  yx = 0, 0\n",
        "  distances = {yx: 0}\n",
        "  queue = collections.deque([yx])\n",
        "  while queue:\n",
        "    yx = queue.popleft()\n",
        "    for yx2, present in [((yx[0] + 1, yx[1]), yx in doors_s),\n",
        "                         ((yx[0] - 1, yx[1]), (yx[0] - 1, yx[1]) in doors_s),\n",
        "                         ((yx[0], yx[1] + 1), yx in doors_e),\n",
        "                         ((yx[0], yx[1] - 1), (yx[0], yx[1] - 1) in doors_e)]:\n",
        "      if present and yx2 not in distances:\n",
        "        distances[yx2] = distances[yx] + 1\n",
        "        queue.append(yx2)\n",
        "  if not part2:\n",
        "    return max(distances.values())\n",
        "  return sum(1 for distance in distances.values() if distance >= 1000)\n",
        "\n",
        "\n",
        "check_eq(process1('^WNE$'), 3)\n",
        "check_eq(process1('^ENWWW(NEEE|SSE(EE|N))$'), 10)\n",
        "check_eq(process1('^ENNWSWW(NEWS|)SSSEEN(WNSE|)EE(SWEN|)NNN$'), 18)\n",
        "check_eq(process1('^ESSWWN(E|NNENN(EESS(WNSE|)SSS|WWWSSSSE(SW|NNNE)))$'), 23)\n",
        "check_eq(process1('^WSSEESWWWNW(S|NENNEEEENN(ESSSSW(NWSW|SSEN)|WSWWN(E|WWS(E|SS))))$'), 31)\n",
        "puzzle.verify(1, process1)  # ~920 ms."
      ],
      "execution_count": 84,
      "outputs": [
        {
          "output_type": "display_data",
          "data": {
            "text/html": [
              "<table class=\"show_images\" style=\"border-spacing:0px;\"><tr><td style=\"padding:1px;\"><img width=\"60\" height=\"60\" style=\"border:1px solid black; image-rendering:pixelated; object-fit:cover;\" src=\"data:image/png;base64,iVBORw0KGgoAAAANSUhEUgAAAAUAAAAFCAIAAAACDbGyAAAAJklEQVR4nGP89esXAzJA5v/69YsFTZQJQrGxsbFmZTEwMDCi6QcA374Pmlm++aIAAAAASUVORK5CYII=\"/></td></tr></table>"
            ],
            "text/plain": [
              "<IPython.core.display.HTML object>"
            ]
          },
          "metadata": {}
        },
        {
          "output_type": "display_data",
          "data": {
            "text/html": [
              "<table class=\"show_images\" style=\"border-spacing:0px;\"><tr><td style=\"padding:1px;\"><img width=\"60\" height=\"60\" style=\"border:1px solid black; image-rendering:pixelated; object-fit:cover;\" src=\"data:image/png;base64,iVBORw0KGgoAAAANSUhEUgAAAAkAAAAJCAIAAABv85FHAAAAOklEQVR4nGP89esXAy6AS+7Xr18s+FSQrI+NjY2BgYEJjc+alQVhMDAwMP769YuNjQ1OEmsfIx7/AQAzOydXQIIUpgAAAABJRU5ErkJggg==\"/></td></tr></table>"
            ],
            "text/plain": [
              "<IPython.core.display.HTML object>"
            ]
          },
          "metadata": {}
        },
        {
          "output_type": "display_data",
          "data": {
            "text/html": [
              "<table class=\"show_images\" style=\"border-spacing:0px;\"><tr><td style=\"padding:1px;\"><img width=\"60\" height=\"60\" style=\"border:1px solid black; image-rendering:pixelated; object-fit:cover;\" src=\"data:image/png;base64,iVBORw0KGgoAAAANSUhEUgAAAAsAAAALCAIAAAAmzuBxAAAAUUlEQVR4nIVQOQ7AMAgrEfFj8//JUwYky6JJywDmMkeQfL7FK96Y5JCvdGPNMgBuQ/LY5zKEimau1fiCJABpz1UkW+i6h1Zxpmo43+Ju/P50A0UGMJuvHUuaAAAAAElFTkSuQmCC\"/></td></tr></table>"
            ],
            "text/plain": [
              "<IPython.core.display.HTML object>"
            ]
          },
          "metadata": {}
        },
        {
          "output_type": "display_data",
          "data": {
            "text/html": [
              "<table class=\"show_images\" style=\"border-spacing:0px;\"><tr><td style=\"padding:1px;\"><img width=\"60\" height=\"60\" style=\"border:1px solid black; image-rendering:pixelated; object-fit:cover;\" src=\"data:image/png;base64,iVBORw0KGgoAAAANSUhEUgAAAA0AAAANCAIAAAD9iXMrAAAAXUlEQVR4nI2RwQrAIAxDq3T5WP//lNMOHRIyN5qDtLGGVxwko6POHMk8TgPYDoCImHpXUmfX2WRI6zVDW5/T1CqcT3WtZazPIztL6sw3lidtPuWIj63zZ0fVaP7vDVT3Oda4Vq3VAAAAAElFTkSuQmCC\"/></td></tr></table>"
            ],
            "text/plain": [
              "<IPython.core.display.HTML object>"
            ]
          },
          "metadata": {}
        },
        {
          "output_type": "display_data",
          "data": {
            "text/html": [
              "<table class=\"show_images\" style=\"border-spacing:0px;\"><tr><td style=\"padding:1px;\"><img width=\"60\" height=\"60\" style=\"border:1px solid black; image-rendering:pixelated; object-fit:cover;\" src=\"data:image/png;base64,iVBORw0KGgoAAAANSUhEUgAAAA8AAAAPCAIAAAC0tAIdAAAAcUlEQVR4nJVSMRLAIAhDz+ax/n9Klw7epRyitgyaIAYEC0n7bqvo2U+yCg0T9ndE29gAyDtwai3k3T+jCW0kk+ijsJnVwAEAuHoX9jnbLEnydjhGzxUHj2jsyYH6g3R+fn21/YDSeix0cNVy+cuvP/gALiVYFfJSs3sAAAAASUVORK5CYII=\"/></td></tr></table>"
            ],
            "text/plain": [
              "<IPython.core.display.HTML object>"
            ]
          },
          "metadata": {}
        },
        {
          "output_type": "display_data",
          "data": {
            "text/html": [
              "<table class=\"show_images\" style=\"border-spacing:0px;\"><tr><td style=\"padding:1px;\"><img width=\"402\" height=\"402\" style=\"border:1px solid black; image-rendering:pixelated; object-fit:cover;\" src=\"data:image/png;base64,iVBORw0KGgoAAAANSUhEUgAAAMkAAADJCAIAAAAGpIFSAAAhaklEQVR4nO2dwbIrK65E60ac8Jf2N/Wov7Qm/Qb7tQ9GmUspyueOLoMdZRBSClAisL39133f1z/ln/InSl1bbrVN66cy35J8gof7/rQmMmet39WTz+x3rbzrf20Sr9frXfN6vbb6qmiVrwZ+NNS+q+YqmXi16qw4WUPuo9Qs+7L1xLuq7fqcF/AxQTK17ma8emRnYe28xiXHqOvFkixfdeYWp8idhqnF3K/peLKG6fgnvZ6z2qbt17vKrVPmqhrNDGKzssm7l1OLrnXre3nft4iUOqv8ASSJpFUiseVbWOJRUprpdis3icskIhlKzhYJ3yTsNY3gs7j/O3l9OoNckyBkyfff3/lWjZhpXDII2L8Tfrpw4MD0O1LDsQbGcvXbiDkveAcA8O1LsNsOVDJrVUyOp0afs4J7TvZ718pI8gh2Fs+8OGPH5+yS1z/3JSnJLEj5X070mHXd2cpF7RpzyYAm0blWtlbkyyrpmGwVcL2qDIu5Sre3cK6cj5grq7mNsUjP8/WexPFz7knQssyUO7/VmuDJ2SvfJc44NcETIhf51ruDzDxgnTIfrDUjzVus8EAkTJaDTzInZyg8z26q2luuilC2ggmHU3IS5FWVOzckv2qfdhORoyYd2yqnmrmpHVNnvZXndF4iyd1vtYVG15oNeWLCFaeh+tja2tcWx+smdpklIiWnml1lcuKTJAfZhovdZLPIT2SJjDPdaqO853O+QDMrAXhS5mNttQtFSjIfjIJm01aZI+GSDUnLUrBcoJfEIzHX7i3jJq1VhscfJLeV17qfMM5dz4nJrVKejYXBJDVXGT4NrTJXibDkhJhjfpn3SRPNPK8jMFWgzRql3TP8t78T+OjgphksjSQd7ulzrofnKZFn/GfanmDO9TBabk3GLVwzH3vi3Z0WXalm3PnCpfPMNwDgxjubNqFxHOnKNhp3OWdJW8Bz0MvVtDvGxiXbntByEu8DrpeoqSvxOUvlnFE1n7HXNP6S+rzvGZO5kc/3EJ61PzcLocyvK4NVY6vdd6FGtoJ+ACb7VmHHvgkr50ecyknuZXK+dmNe2WLV7ziS2Y6zLuB4Odo/5ZfU294UyOLuk1iAlVQ9fFIDzdP625w3YUx4zrZWXu6uxi0vWEzb6VXusOFLacuNxv650/Vlm+tshYcMNmyQcTUvvIW6AjZleQmgMoeUrzlZ1eaYAPwNn1l/e152HgFy2YtcShxOkHG9a+VsILE1zUsSH89qcitT6+wFz+xzzO2o7udEBlFrXAwlGn5KcjbhbK9qcwg3DRvHtNmJrJHKNy+enwRX2kjGOT//Mr/Wl5Aj7fOVrNxWl9STy+d8wBFzpo09PWPB3NbZc9Kaz2PFn+sBSXsv38bH9Fa6zYWT+HZNt7+Zq13qYCWZpdTpukhb0rTEwGfkymEMY5o3y9Kuh4rz99pqT21yTYx6Jd0fnvguv8mOjqWhxerptpGB/mTb4q3ZKVz9lRs95BhtCc/Lgrc2k1IjiMlevN24Ghmdrd2ao+RxVmte+BlLl4W0bLHVuBmqvjhbzlCCKufs9WXEhc+zlhBQ2yvJeMLleCz5rWwm6eVak3HOx5+R5KhYp3ym9xNrDecxP6Wev971rku1GMZQnqPIzWWTBISw7mHryfFLGTfOco4kF1Yud6VFFY7Past+7lTW8P76MBtzO4WcNlh/o2vGBCFIOlQus2lzpkstzXb8ZSsHc7XoUB3nqfpzp7UmPGu0ucWlZkuuy1rv4q8SVUXLjOW0JTlvy+Uttzn8csOClxxsSa9wb3ECe02SQ/DezPLsDGcASa8c7ZnOKSp+djVJa+5LIpPIc68Wj9gTZaxz9LitJ9fgYCRR6w7qqxifmDaEwE8Ao613meha5DnOsS8AczKOv3lb5Hm0Y5tH2DR2z2qmMT3lnrw+wXbG5SyfW5z6lSN3+NmvrWb/HISLMOaDqppPi6sMQ2efHUKevCrJGlysO1SJxet/o9f2qmM1tc4yUO+QgPKPdeLWb7JO8/hLdPLzc8lvxTGPRj5/U7ZzSHL2fT6eCa/vvPWuSriEQdTcpda3VwP3590E8Gi+wraayqauiyy3OdtumFf90+X1FVS3yYfkrnKVkQdDV8fl+v3EJCOWknW5rDK1HpaXLHD345DX3QQwu7u3vLibKnfj5Qos/dZlQAUzKC065RLDNs7281vbCnAniwpILpGHESAlnXAS4i2jhPd5YLpl6NvnW270mK3D7bjKS24D6+DpWsT3qtfndsvbvOVl7mIuXKBT1myD1WGWeKRrIYXU/VH2qqvNueBmwVlva8BWrmFros9B1OI4iaPcxYFryrMTXpQ1g6yY2Wvm1ClDVxnHHGCutevyma0VJkV60dbU8f8FgGppxZLg3mq25xEjQnaV5HCu3s1T5TDYTDfJaZIkN6Cz3Mi1hvIuP37XuNnU30+Ewrt7uOVfMdvJTdPlhW3fBKrjg8phjmlchhoCuMzSkXZbvuGmhLanlb+fHddV6aQ+GUenp8fa6XFejFZ828r4E5kpWjfOZ74n+Bmnk9zsfvx/+RqLMjpdPVNa7TXa429zvwXmQJusH2VsFd6lmLKyXQLVSSZpUJhvSWzM9HxKrUV/rzqByzKjLi6/cWrrrp8YcplQVSUXCjh4++8uT7McKZlg2CRbYbeMOAeVYy5Z6XLfq3ZwWeZl7vRd/aX47y7ncJnx5HyQNNUpqezI8hWhw8yQqjm3k/CycAPIRxxmrNE+8/t1vivnu/U0I2G7CSrtYZZvnfn1XT2sgceNdTLOPzR60feqJeMBoNucklo9Ww2buLqY5vOaO/FJpqkWJWzWAxtuReWsXGZ8uEsiIEe7xQleH/JEgiyJb9ea1Ew5jDnyLOJZzxMW/NMM/RyhQ/Wup+9VV3XJKgYcAJrtrjIVySi4YQ25poSrHMMlz4zK2d1shQwtdY6e3RoQs3kWH05psqK57zTyEj2s8wlzT1l8qjnn/sRKjoHZ1OHZJJv3E2VcruXwBOH7Snm+g5nyChSIftfqWHxjps01vmeSXUZInPXaOiV4t5M0okkccN88vhOduZ7nvOK01fpv8eKUMxIkiXdTr11pW/fffYU+kks4Cp3mlkukJPdythyvsEytlBMDPOfux8P6KQeH8jA7m56D/YowTXfZJL5d/Rm7hPvFQWtiiyUTFn8yMrk2xnD27EbAtd7uez6szt3/5ve8qwCfPSVjtbFVOex19Anxt558v9is5NMGrZvjnMM5NuIbx4SkfwrM186+yRpcnxP+mPIZS+bzOsU8lXliJUfrsCXy015PeN3ZfT/vvPUqn+PmWHn3AvP5nT6fa1xlzivMjtDRNeVWpGR4/t3UAsdcflepXM5Otfdw4Lu430rY4mD9gjaW/3P6E4+mCJ8zeoKqliejl+iconpLiv8HsXZr16ZjgmuJxapKyhwwTfv5Ase+lSe2UXOSo/dDGa10llkHyu1PoGHlhZ9Ykd1h9n83n3FVEpEOGUc/a0gsfgv5c3+naJl1WP8TPYn8iEH7/7+1NiVnjXDtVyXX5L228IS4aWCLDpv0cZOZ3gZN30l0GVtSko7J5y9q08t/d0ZrSfjGyZ+t/TOOYZyM8Ft4GInry4yV1Cf6p+OT2Mrt3vV3yJL71ilbrIVPQ8AlwJqhfqmhMi54IflPWnT6HWw5Aq6+7g9OYa10IwAY2nl0p/vDdcoaEoZLrCTxlGBmVviWPON3aM8Y67uan+gH+d/3W3nGsN6B5e9CRu9ALV3aE9kIswOZLE1+V8Dh4ZyvciRwQO0Lrc6R5IZSKoFZ5h3M/j8I1yGfyFpvydN4IvVsrXLI3pVOONl6XPLeeuTcZGHO1qHvtkBhkHk02FbbVAXo81uv8h7cdPEli1Iik/GR3CmzLc4kEuuhRw7hPX/Pw1UmvrcZnuN+iT+ZwQ+xPJupu3VieCrpZFyWkLfmqJLcwmk7a3Wauf6J/kR+Wr8h6f//VsJYbH4VgJNO1bBFuRPj6EwscuwyX4Z5DLS2hOT8cjtgyPpbK+wGq3ByCv5QzSv6jLFq67RXzjdnrPNdyTNtT/DwvJzpyX1s5e33fFz/zcz09tzxxKt8/qJ1oEbt37DC3K2SC3owVDVLMNenpyx5mVG9svla6+W94IUzuFs546czNnIySeQ5PWcIk7U15cgcedL3DP8Zm07nPWG+W35evpYtKF0MJedBXu/Sn7ZARMqId62sHyoll2x5yaYkzOEcHUoMgEcOL18oJEufs73//z827Vy2dx7OWJ1RJlh3NcXa6sw5j6aXN2eXVXVnka0rWnf3Jvf92lrxbCMD+YMEyeuGbxlf2+++tgVCxzEWM1mbB8hYn1phF5w55jMmOc4Ck7zKjYnLXx1Cx17uZA1zceHq1DDyrILd4GlL0JxlM6wnz0tynIyBrSc1UyTTkcl7nT2//9I5MVkubi3DHXGS5YSxnjBWTTX4zJXkf/l51o2qGzfObGD8Q46//MpwvSSbMiqtHURz3kq4hON4ynA5njOeSFAlaM+4/DnapN6VfB/bZPT/DQRjbVN++7JWtpnExohOGzCE4wbJtcCswLvA1oDZWYSTr+Py25yFk/W02nVDBOukud9i209azyKs1kzZKOmVxGXOu7UkLPscG+NM8Jyxsqu/6+dOf0p+voMCfBDSMlS22dutbpNdK4hdAfcAk7E7jq0TbLJjaHdDntAS1Ls5Ff+nWXKyuz7hsl2WuIFL7pzkniiFYQqTGyx52ROi3VpXi26B5trcTd76LFfDaKam9W5ebpdvrRKcebSgw1BgDXCzslVWruL8SU4weJ0nA8xk0xPuGS2FAiwW1lffP37Px0X2KrMpenWf9EiChu22YC41VZDUt8zkbPHmCFuw2wGmXrcIuakdZxnDCRNLtfvn5S+zTt0gSoHLTHaVCUNTli1LyG/aal9Q/n75wvcHk/FxeaEEsGpLktF81kKydLteMk0f58SzM0XSN69JrDCqXKd7nmJI9Ew1/InWKcK8F9jdz4nP9/WWjaBm1XBwVnKVtzoNuX0qCeuEgVxKsNaDNtB/Zj0ZqFBAcnBzvzXlLfecc35iMeetJ/jPmGDKZEnfpFeybzjNiV8JqlZPmm+t9e6+yqXPTmF7iz2KxTY/kOxVfUxOlLJpe3a8VS3W57McX+4b1QpjCFHVka/jo7+fCLcadciSe5cNtzQk/Yf7Gz6XuaWQnIidZKtzA9buOODjT+Xo2kmO+YbZ5RuyBsIJxuT9bL+fCOMSDlm7K7fdwRxM7Saztm6B0dJPlZRsVGfrXZOPFbxkYdnEu4pU4uLN+SLrV1u/1xasZRdJDo2rzDnf8SIw61aTbNbMTJvakI1aRmfAzjvZJFncxbPUw/wNCKHybbf5HTKIv+2cJWnmmPyYgbdn19puXtWLFjNHBTAfSEr9YdYrhSWP1pdsK6mEVfG7ef3rOtdn7lslW+ihrRw5L/S8NUfF1p/ofO5XPqpO20g//d9A5gPZy/GNhOgqnS1npVUVcljru7SyTk/NlIGfNndaPC33sM7WIzm8SS5b+774fuuMyc6eueYJJyX8kTMotyZcfubRmae5fpY54/tbfg6ijbyq2t1w8HOrnCsdcohLl9RXE6/Je52Sy13fynOgbWPc5OxZW53XCdNXtbCb7QqnsZX3SjTk7OXKEwb6E9yW842TYVQJhlqfjDzLJ2i3ev2506qIWWcUGQfrCaJ8k88nwGVyG3Kpud6nAFlePiuSwGTTNv7hwAJPM55LLRdmO6H/CT/lcZ9rSySdY9P658yas1TOFjlzcElm58y7RPLe3k+U0eZi3fkz2qdZg+OGcCVBLuW6XJ++Oy9cTMum7SWzS5UM81TQyeOW7E7JKfsqs2//32kdYjnoUNabYgkrUfUy72rV035bv3pR69dSPZUJtcNfd0woyVKTleHpod6tb95tI8NX5ZvX7J1+PzFcp+BSSC1h3gDLGgzJ3MJJAuc/4Q+WgZtC0MM8dMDxtzqNVuGcmz9eTDMPzg+qnodz0CJ0FvmvQwia//uvf+Ve517k2UyiLdfgMOTjA88f50SJNYx+qaG9od4knQzfDicWmQvXEeAT2V//+c/973+3MB7Wc66zyqw4D24Tq2mwWCmq4lzF9u8nAg7eXHn/vtR4VdB8Qna5VNVzmcF17nA2kyRA0iPIzCBXc5V1/pzwNmKMM8xEnS+Aob+Xl4ahleMmPwOO2FHu+nzO5ZgevXTIE+IEPQ5nkvuCWmDHKcIGwzTzmO7iVTPnK3nrFKHre5bZJDpzJAlyfnaopmM4HQ3wXXxeXnZ4mU9oAYJQeNS9onIywMS1b6tN1ocXNGEkuBsjpyQ/q06XSIs5lZkyQa79SXxMI8lZdBrOx8vrYW4+G59p4OX4WcN0dmRN/3l5mbXc5kZk6wVo3s/brr9Fap5n8Jl0xJeAytkKM9Sk8vZnnanCuufIe9020lY9yZnMgsujv8pzNCd9E4u1nPV9wrWu1xTJc/lEW46QrSSs/MFbGyexAccrCbh2nmqcJVML58HbnExdfXVw87RimDKW4wCnAfySbOpm0+kPT8ptEevh74zppObMJWcx4dcpQrY13Qe+NZ6uTLEl64HH7f3c//+tnwd355bHtJRs6Y1LEqm5NsnEd3fTO3KB2bpaBHkeeVfqWLG2jR1hPxH5dxI9SY1zPonL0UxIzVO7Z9zmrOe8e6YnH7d8TJx8gjlpvZPfT5wqdczB73YB593lnZ8Du289lymyNRlWsAuxkfO34zPOMrca6VR+Q3aVoXB89vGcxCXYAJnnjDWNuSdsOuWDXOcT5FPGOmNcxnaMZOctPifmOcHaVCVd/WYF3JiesJ60upPmVYpjMsZZKx2j53sFo5qOao5QSPNK52dA0PY6s8jMeobqOQez/JS9EszObs6jU64drQH9O2SVVxz31OJygiQm2k8QbDols0r9yWcTgKc3gSRqJYetzOeMbjLJXLgCOG+8YQckl5rZjdF/WsXaao+1nF1eZUAr7lf3SaxEw/py0yZndIVXBz28vNjmddtoAAMPzm3OK7zZrX2rPB+eEv1XGStp3akSa4tnvcrc6szybtoenMBBJXBAzSGczuRmripPzmjMGVWmCsBJUyKpZ7fp2RwMOYTVnXcZ/DYnF4jgKrBVyklatUnJS8W3i4qQIyvyhG9Am7MO+1rLByN5WFLAwe5Z7sib8Lvefg5iVDiCwUSY8Yy2rff+UuN4Q5ggl88ug4Qgkb5zILVuSj1JjsUcXJ9f/pMvgPDjdzFqSejHRfClRp+Zps18Q7sSQx0aNyVXyU/BowMkrinZoHlTcyTKOwNjSyTlskv/HwTXMFclEVybuNcobxixY6tBeuSiqDW9+iKFXe7o+IazLsjkKtO7AiOwdk9/h6ytkS9dYYZLMh7HJaN86zanM8lto8jOMy0YQPCFOZXVrn1bDFuvnJjv+jkI2CbelW4thkveCcvoh7h3XJL0vXC1OV+k5ilrAsINQ6IctCW7AWBYXyb7Q7Wy/w4ZgGjThbYk8VF5YlvNbWSf4XRqV+ujMdlkkpUNfVvknO+6Xq6vrIcVL3lx/55PGPQg4PbspLJmb9IfoI0tPJKUERRu+U3CIlIz7DJS85YbVflNmPNdACZrIIeWvG6HpSaMtYaRJX25xrWG6+krGmqZ+sUjmUgykkSzQ5V4xxanyO/6PR8+ndUzCBhwnHSbm5JQSRKjjoNXiwkb1TGpXmyocl+kdw7JKlPxjMhYapN+MSTQ/5FvXYa33fmCeyWtzpzb42Vfeeaqz4lkUp5ItiMpa+qqTfDAaDzMULcRk5no2zv6XYyaedSmNvpvdWvSBijEhGOydtGM+JIhcUeWbBkuNOSsQ4DJjnUGnXySaX14N91Zp5kH93IWz/KJJIdw3rleDqfDnPTiGsY59THpleAJI3CVj95PPAvQqbZpL8iicniVUWocv8z9Kp/+at/aynzW7hVbfcvfkpkYIaDt55FX5ZS3Enm2lcfuNJLymqkXT9iFNeSan3BYuLamFinf4p2bY04q3LpLPgA8714gUAvcD0HEO+XJ4LZ3cg4PeMSzIPOqTWHFxqdpKNIvgYF5yBmb7oZ5RE4ZIq93fxMrZ945GYct15mz+HSs8poWP+VbeUyATKINlDvNzJr1LgPAyznj1gRtS3vQ5LjTcY/UUBkrH3aJgS9uBP4pPzk0edxwK0cDS+YsxRqcXzke52PeOtU2tZLM10OG+/35rXadSjRuz5atrTMcDVUzlxHbbWJwC1V9BEPwrlzllRZ2exa+1ft90/cPpNpNW8R5ebw+36ETySeMlWCYYn4i/y1emXKnq/8WNrb+/pvmW1VmsH6RzxwjThlrRdv6AnF5JrDWOCTuOckpobvUA9lVwpcSTLILkQOyNR9ZF3/TKGH5vNVpTgZoyri5hqmtnG+mjJtLJn23Z/07ZKxi279vdVpx91Xtu11SfnuWGjiTkOzrov/GT1tcajRaL0CgjqfD7E7ZMP6btlEYtOQtZ+cttn8/0e04Se4Mklsl3JrWhVIV1la59EMk1Tp3eUtKQ25dvnG2FmvAyIAE79zSl0clfq+JTzyu6bX+LsYq+pVIXR/arQFiKyHn5F2Bh7d0jgWhPueSaihcIpJXQrZjPDwFgNxWTZ9da57xJDlQYp315NkMa86xub5TmaRXbiVHPn2WNfrz8m4fzSPmLd+SVtXzU17+/fmE51o2cuffEN5Wn9w8rQ9njJUjTGbEIQQ9+eb2+3XOB7BOHT6QZ9+mscLeTjFM0bqSs+YZhyXIc/bNa5ytd83J/4NYFy/vu27Vg8WqE2Kxxrq710nupqdnw4rNlaTV5dQthwGjg62W12XlVtOMdr6imaumMZRbmT4/b016JaGYj8kZ2hz5t9jRychW8T0fWNEywlxra9tlVJKNQhnJqW2gt7cMsoYd5Dw1OdtKu+AXa3PsuLXekztIV//TS3+vGm44YDLg6khuKNLuXe5XNovyusuhWnttgxXe2PGFn1t/POiyFXbtBJ6bMt4leY5aKnEx+fOwfw4Clrx7KZvcYso5I3nJLOJqXB7jELbI3+uJ14Szzlzb0v/1udskfjnJioSDpAp89Mr3deeY29edTKKntibYzrKEJP9w+h1yrk/s5iN5JnmGZDT+9nvVsK/zrVWNJEDQCvCtm4xRiZwjex1cjshanzBxZaww3wKGTjhYorpN9iaR8Kg61qR8q5ZNr3MJUq6k/lKDGOYooDCZ8qrnIBeBnMZhgDxS1nMuVa0kmVOIxEFylenvVa8yPCWbpSl7bePVDkqNPKl8WxzMfC28DZtjHSnvUCVjuFqUZ4irjBjwjUMiBd6V7ZZFHZ7v0ICvhVhzBWeLZRjVdJrzUUpaGSHr4TFhyTOvz7y4k9+rXp8dY3Eu8iT3ktpYCbxMtrkq4DIS9+z4Y1XyCj4ltjY5ryuAs/FxLO68qHMqxnm6onMmy/uyPEdk7XvGBFPrDs8Z2ufjNtXJ9dNZlpL9/7GBXV/Wrw/MBxViy3+gzVW+zDsNzL5t7nXANNxLtt7dLXlyZnc1nHcmO9Ja6ujt/18+PMG19fWokqiC7jBh+WEN5N0MTY+6OdoqEw6+O7PziRJ2dnf2dDL1pRw98f/lR7lRGDQuIr9ii8mgxQPuvycPmDi5NKkmWhnAX63wSVBmS++XsIAktnpGtiGR7MpJHlP75lnRWWbwpNdZfnPmC8vnvaZoq0WXjfH45B5tf+33fMI8psY0eHhlUS57JZmHtJ6jcnzQWnTy7FQybqGnjmt5u78+98p8BafFrWVnw/VKoiF/TlodHtf3OTM90VN1Pu91xnZ/Yl6It0ARnyOcS8kJMTmPXEtsJaHT8k2LIQxQGfGtL1trnnWF7OsG3HWpMrkv/bwwb32Xb55Hhiu5FbY1xTPVmewSicVEMsfzxC7I0zlRrln57FjNaQjZwpHNVvJsCZRIr1/mHX6pB14m56/q0VXGCjQzn20etTcIt7nhAyKs8uJ3yLgmuedIttGtxp1mw7ux4wQ8uV5qLTox6VGruc6fG/NNss7R9MJsZJ013/V3yMBGu3k7n13E88iG5xfZVOO+dmxZeX0ZerQWx5oVMNzzSc3X4henFkklBN6KH/YoKa9tt/soQExkEiu5zgRJGxUj5FVDgifHltvNn/PWxGJil3jrXe/Ypc1mpG0Hsc2HQKdjKdeRrW96nEWXo8iRaSds8wV4xY38htndtMlejq0BsLsHWEfy4/d8YG4uRezSgNvIp5kZZDkbZjYElaFY6FHtsvkoE5c6DmF4hFBlBNbu0i85C3LMpar9futSwSQBgYGWpcPMLIyn6Qbh8hvYMhzvtmPlPHKhJVnqNjdJ8NLxsewou0O+6yp3u27vzzMGlq+9Ehne+2svp5NtJeUsa0nkp6NR67kmsTLFzL22Vn0v73ZxNiDjpvJqgjv0gbnh1b1DGq6wumWvlS6nAUOSvTbklxlPWbMqdAjXjkmO5QS2OaUxnPJHvjI4whwzJa25fvaRvUgQsqTTyUjO9pBEMvHLYc5Xxbtmv5eXF4Dvv+21pIy8ZAnCSWLT6TwBzVIPewFcu9WzpBsT5jmpzbGdbJUIq0zlMMlqDpgb4Z/y68J5lVcDdby2Ltu0seb2BOfOkixTxWBJjY6HjPMqYw1nwAO14Uw5Q+EhemTL1dPn5a9u9F2vq1vRl4nIVo+UlzKbZDWX60w2u2qiZcetV3J6TcaT7bYvr27uKu9anM93a96n+bnqfGLX6XHYEm1JTYI8l096nY3YmV+JZqlB3MvLfT1x3uUWTrMrSZy53AU6vouj9PVlwjQMvt0QpYxr5TJl5at4ev2Pa5PRZtMX8FayBUy56qzXNApz5Lm2nHXOYv0Jr7hWRsXYvjgX4nfIJGLJDes6TTC9a1jbW6Z1oN7DVfn21CMjGIyG9ZCrATE7FmlZrY2rhIOlOTkvYPR35TQuW9vgktM21fOcz6bsMtX8LYYOo6K1mOA80wbP6ecg1hXtTiIHOYqMG6eHI/Xdeptb49EqcUiq/AGlXYpxQadUBXf3lYlBD4xq6zivhCZinrMXa3MlsfvE4hkHP0d+JsN9pxi+ZbH1S3xeXnaou2yzZgOsbLdFL/2RYiAz9YJvvPg8leRPiRXpRThWfO3JFlt+3Ssdpil7cS+2BUBbu9w3ibMpz53V5Mz9LVvVrpsXxnC259zue9W5M+72JaEQzjla9FfnMPMQIw+ZeNPWxPFSw/66UZJ6Nm2OO2EiXJE8l89U9PuJEiLc6R28a7aKyTXnhOXIXmqJrH1dYPBVp3yXDbTxWK3+gqeyC8+r8xpeXn6067yAkrVEv5/oxigMU1cJAre6H5IZDDwn1F1rkns19xLu0hLamO5WshK8gClub7xkL+e1OCe6kmyRed8nvZJ8KM9jzmSmfb9lN5+FMyTf9f2+77+eaPyn/FOg/B/Yj/z7hUOmQgAAAABJRU5ErkJggg==\"/></td></tr></table>"
            ],
            "text/plain": [
              "<IPython.core.display.HTML object>"
            ]
          },
          "metadata": {}
        },
        {
          "output_type": "stream",
          "name": "stdout",
          "text": [
            "(Part 1: 1.033 s)\n"
          ]
        }
      ]
    },
    {
      "cell_type": "code",
      "metadata": {
        "id": "f8hsReR75J9Q",
        "colab": {
          "base_uri": "https://localhost:8080/"
        },
        "outputId": "99233c42-a60c-4422-bd05-c333a0409168"
      },
      "source": [
        "process2 = functools.partial(process1, part2=True, visualize=False)\n",
        "puzzle.verify(2, process2)  # ~920 ms."
      ],
      "execution_count": 85,
      "outputs": [
        {
          "output_type": "stream",
          "name": "stdout",
          "text": [
            "(Part 2: 0.924 s)\n"
          ]
        }
      ]
    },
    {
      "cell_type": "code",
      "metadata": {
        "id": "_2BGSfFDWYgn"
      },
      "source": [
        "if 0:  # Due to backtracking, one cannot simply look for longest expansion.\n",
        "  def process1(s, part2=False, visualize=True):\n",
        "    s, = re.fullmatch(r'\\^([SNEW(|)]+)\\$', s.strip()).groups()\n",
        "\n",
        "    def max_regex_length(s):\n",
        "      max_len = 0\n",
        "      while s and s[0] not in '|)':\n",
        "        i = next((i for i, ch in enumerate(s) if ch in '(|)'), len(s))\n",
        "        if i:\n",
        "          max_len += i\n",
        "          s = s[i:]\n",
        "        else:\n",
        "          check_eq(s[0], '(')\n",
        "          max_lens = []\n",
        "          while s[0] != ')':\n",
        "            len_child, s = max_regex_length(s[1:])\n",
        "            max_lens.append(len_child)\n",
        "            assert s[0] in '|)', s[0]\n",
        "          max_len += max(max_lens)\n",
        "          s = s[1:]\n",
        "      return max_len, s\n",
        "\n",
        "    max_len, _ = max_regex_length(s)\n",
        "    return max_len\n",
        "\n",
        "  check_eq(process1('^WNE$'), 3)\n",
        "  check_eq(process1('^ENWWW(NEEE|SSE(EE|N))$'), 10)\n",
        "  check_eq(process1('^ENNWSWW(NEWS|)SSSEEN(WNSE|)EE(SWEN|)NNN$'), 18)"
      ],
      "execution_count": 86,
      "outputs": []
    },
    {
      "cell_type": "markdown",
      "metadata": {
        "id": "1ftjkwt05KCH"
      },
      "source": [
        "<a name=\"day21\"></a>\n",
        "## Day 21: Smallest value causing halt"
      ]
    },
    {
      "cell_type": "markdown",
      "metadata": {
        "id": "Nvu7Eh895KCI"
      },
      "source": [
        "- Part 1: What is the lowest non-negative integer value for register 0 that causes the program to halt after executing the fewest instructions?\n",
        "\n",
        "- Part 2: What is the lowest non-negative integer value for register 0 that causes the program to halt after executing the most instructions?"
      ]
    },
    {
      "cell_type": "code",
      "metadata": {
        "id": "7dHyZM4E5KCI",
        "colab": {
          "base_uri": "https://localhost:8080/",
          "height": 302
        },
        "outputId": "8a9e4452-0c25-4c9c-c991-91d81bb52029"
      },
      "source": [
        "puzzle = advent.puzzle(day=21)"
      ],
      "execution_count": 87,
      "outputs": [
        {
          "output_type": "display_data",
          "data": {
            "text/markdown": "For [day 21](https://adventofcode.com/2018/day/21), `puzzle.input` has 32 lines:",
            "text/plain": [
              "<IPython.core.display.Markdown object>"
            ]
          },
          "metadata": {}
        },
        {
          "output_type": "stream",
          "name": "stdout",
          "text": [
            "#ip 1\n",
            "seti 123 0 4\n",
            "bani 4 456 4\n",
            "eqri 4 72 4\n",
            "addr 4 1 1\n",
            "seti 0 0 1\n",
            "seti 0 8 4\n",
            "bori 4 65536 3\n",
            " ...\n",
            "seti 7 5 1\n",
            "eqrr 4 0 5\n",
            "addr 5 1 1\n",
            "seti 5 3 1\n"
          ]
        },
        {
          "output_type": "display_data",
          "data": {
            "text/markdown": "The stored answers are: `{1: '15823996', 2: '10199686'}`",
            "text/plain": [
              "<IPython.core.display.Markdown object>"
            ]
          },
          "metadata": {}
        }
      ]
    },
    {
      "cell_type": "code",
      "metadata": {
        "id": "GrRA_LgDWoCa"
      },
      "source": [
        "if 0:\n",
        "  for i, line in enumerate(puzzle.input.splitlines()[1:]):\n",
        "    print(f'{i:2} {line}')\n",
        "\n",
        "#  0 seti 123 0 4       # e = 123\n",
        "#  1 bani 4 456 4       # e &= 456\n",
        "#  2 eqri 4 72 4\n",
        "#  3 addr 4 1 1         # if e == 72: goto 5\n",
        "#  4 seti 0 0 1         # goto 1\n",
        "#  5 seti 0 8 4         # e = 0\n",
        "# BEGIN\n",
        "#  6 bori 4 65536 3     # d = e | 65536\n",
        "#  7 seti 16098955 8 4  # e = 16098955\n",
        "#  8 bani 3 255 5       # f = d & 255\n",
        "#  9 addr 4 5 4         # e += f\n",
        "# 10 bani 4 16777215 4  # e &= 16777215\n",
        "# 11 muli 4 65899 4     # e *= 65899\n",
        "# 12 bani 4 16777215 4  # e &= 16777215\n",
        "# 13 gtir 256 3 5\n",
        "# 14 addr 5 1 1         # if d < 256: goto 16\n",
        "# 15 addi 1 1 1         # goto 17\n",
        "# 16 seti 27 3 1        # goto 28\n",
        "# 17 seti 0 7 5         # f = 0\n",
        "# 18 addi 5 1 2         # c = f + 1\n",
        "# 19 muli 2 256 2       # c *= 256\n",
        "# 20 gtrr 2 3 2\n",
        "# 21 addr 2 1 1         # if c > d: goto 23\n",
        "# 22 addi 1 1 1         # goto 24\n",
        "# 23 seti 25 1 1        # goto 26\n",
        "# 24 addi 5 1 5         # f += 1\n",
        "# 25 seti 17 6 1        # goto 18\n",
        "# 26 setr 5 4 3         # d = f\n",
        "# 27 seti 7 5 1         # goto 8\n",
        "# 28 eqrr 4 0 5\n",
        "# 29 addr 5 1 1         # if e == a: goto 31 (halt)\n",
        "# 30 seti 5 3 1         # goto 6\n",
        "\n",
        "# def func(a):\n",
        "#   d = 65536\n",
        "#   e = 16098955\n",
        "#   while True:\n",
        "#     f = d & 255\n",
        "#     e += f\n",
        "#     e &= 16777215  # 0xFFFFFF (24-bit)\n",
        "#     e *= 65899\n",
        "#     e &= 16777215\n",
        "#     if d < 256:\n",
        "#       if e == a:\n",
        "#         break  # halt!\n",
        "#       d = e | 65536\n",
        "#       e = 16098955\n",
        "#       continue\n",
        "#     f = 0\n",
        "#     while True:\n",
        "#       c = f + 1\n",
        "#       c *= 256\n",
        "#       if c > d:\n",
        "#         d = f\n",
        "#         break\n",
        "#       f += 1\n",
        "\n",
        "# def func(a):\n",
        "#   d = 65536\n",
        "#   e = 16098955\n",
        "#   while True:\n",
        "#     f = d & 255\n",
        "#     e += f\n",
        "#     e &= 16777215  # 0xFFFFFF (24-bit)\n",
        "#     e *= 65899\n",
        "#     e &= 16777215\n",
        "#     if d < 256:\n",
        "#       if e == a:\n",
        "#         break  # halt!\n",
        "#       d = e | 65536\n",
        "#       e = 16098955\n",
        "#       continue\n",
        "#     d //= 256"
      ],
      "execution_count": 88,
      "outputs": []
    },
    {
      "cell_type": "code",
      "metadata": {
        "id": "cbMrrygHc65D"
      },
      "source": [
        "def test():\n",
        "\n",
        "  def simulate(max_count=10_000_000, verbose=False):\n",
        "    d = 65536\n",
        "    e = 16098955\n",
        "    for count in range(max_count):\n",
        "      e += d & 255\n",
        "      e &= 16777215  # 0xFFFFFF (24-bit)\n",
        "      e *= 65899\n",
        "      e &= 16777215\n",
        "      if verbose:\n",
        "        hh.show(a, d, e)\n",
        "      if d < 256:\n",
        "        yield e\n",
        "        d = e | 65536\n",
        "        e = 16098955\n",
        "        continue\n",
        "      d //= 256\n",
        "    return None\n",
        "\n",
        "  def count_for(a, max_count=10_000_000, verbose=False):\n",
        "    for count, e in enumerate(simulate(verbose=verbose)):\n",
        "      if count >= max_count:\n",
        "        return None\n",
        "      if e == a:\n",
        "        return count + 1\n",
        "\n",
        "  def sweep(max_a, max_count):\n",
        "    for a in range(max_a):\n",
        "      count = count_for(a, max_count=max_count)\n",
        "      if count:\n",
        "        hh.show(a, count)\n",
        "\n",
        "  # sweep(max_a=1_000_000, max_count=1_000)\n",
        "  # sweep(max_a=16_777_216, max_count=10)\n",
        "  # a = 2014420, count = 5\n",
        "  # a = 12063646, count = 8\n",
        "  # a = 15823996, count = 2\n",
        "\n",
        "  for a in [15823996]:\n",
        "    count = count_for(a, verbose=True)\n",
        "    hh.show(count)\n",
        "  # a = 15823996, d = 65536, e = 14559001\n",
        "  # a = 15823996, d = 256, e = 1732723\n",
        "  # a = 15823996, d = 1, e = 15823996\n",
        "  # count = 2\n",
        "  # This makes sense --- it is the simplest solution -- I should have inferred\n",
        "  # this earlier.\n",
        "\n",
        "  def find_last_unique_element():\n",
        "    results = {}\n",
        "    for e in simulate(max_count=20_000_000):\n",
        "      results[e] = 1\n",
        "    print(len(results), list(results)[-5:])\n",
        "\n",
        "  find_last_unique_element()\n",
        "  # 11457 [9486379, 5590365, 182116, 12821901, 10199686]\n",
        "\n",
        "\n",
        "# test()"
      ],
      "execution_count": 89,
      "outputs": []
    },
    {
      "cell_type": "code",
      "metadata": {
        "colab": {
          "base_uri": "https://localhost:8080/"
        },
        "id": "y2YY5O4rlrgU",
        "outputId": "83ee353d-7a07-421a-f579-0a6fee1dfe35"
      },
      "source": [
        "def process1(s, part2=False, verbose=False):\n",
        "  machine = Machine()\n",
        "  machine.read_instructions(s)\n",
        "\n",
        "  def gen_sequence():\n",
        "    machine.registers = [0, 0, 0, 0, 0, 0]\n",
        "    check_eq(machine.instructions[28].operation, 'eqrr')\n",
        "    register_e = machine.instructions[28].operands[0]\n",
        "    check_eq(machine.instructions[17].operation, 'seti')\n",
        "    check_eq(machine.instructions[17].operands[0], 0)\n",
        "    check_eq(machine.instructions[26].operation, 'setr')\n",
        "    register_d = machine.instructions[26].operands[2]\n",
        "    while True:\n",
        "      assert 0 <= machine.ip < len(machine.instructions)\n",
        "      if machine.ip == 28:  # Intercept generated number and disable halting.\n",
        "        # 28 eqrr 4 0 5\n",
        "        # 29 addr 5 1 1         # if e == a: goto 31 (halt)\n",
        "        yield machine.registers[register_e]\n",
        "        machine.ip = 30\n",
        "        continue\n",
        "      if machine.ip == 17:  # Speed up the \"d //= 256\" computation.\n",
        "        # 17 seti 0 7 5         # f = 0\n",
        "        # ...\n",
        "        # 26 setr 5 4 3         # d = f\n",
        "        machine.registers[register_d] //= 256\n",
        "        machine.ip = 27\n",
        "        continue\n",
        "      machine.run_instruction()\n",
        "\n",
        "  if not part2:\n",
        "    return next(gen_sequence())\n",
        "\n",
        "  results = {}\n",
        "  for a in gen_sequence():\n",
        "    if a in results:\n",
        "      print(f'Found {len(results)} numbers before first repetition.')\n",
        "      return list(results)[-1]  # Last number before first repetition.\n",
        "    results[a] = 1\n",
        "\n",
        "\n",
        "puzzle.verify(1, process1)  # ~0 ms.\n",
        "\n",
        "process2 = functools.partial(process1, part2=True)\n",
        "puzzle.verify(2, process2)  # ~610 ms."
      ],
      "execution_count": 90,
      "outputs": [
        {
          "output_type": "stream",
          "name": "stdout",
          "text": [
            "(Part 1: 0.000 s)\n",
            "Found 11457 numbers before first repetition.\n",
            "(Part 2: 0.628 s)\n"
          ]
        }
      ]
    },
    {
      "cell_type": "markdown",
      "metadata": {
        "id": "0pzNTcAF5KG3"
      },
      "source": [
        "<a name=\"day22\"></a>\n",
        "## Day 22: Shortest path with tools"
      ]
    },
    {
      "cell_type": "markdown",
      "metadata": {
        "id": "mx8IYte45KG4"
      },
      "source": [
        "- Part 1: What is the total risk level for the smallest rectangle that includes 0,0 and the target's coordinates?\n",
        "\n",
        "- Part 2: What is the fewest number of minutes you can take to reach the target?"
      ]
    },
    {
      "cell_type": "code",
      "metadata": {
        "id": "Ydb2O0sz5KG4",
        "colab": {
          "base_uri": "https://localhost:8080/",
          "height": 110
        },
        "outputId": "f072f9f1-013f-4df3-a55f-cfba70f564fa"
      },
      "source": [
        "puzzle = advent.puzzle(day=22)"
      ],
      "execution_count": 91,
      "outputs": [
        {
          "output_type": "display_data",
          "data": {
            "text/markdown": "For [day 22](https://adventofcode.com/2018/day/22), `puzzle.input` has 2 lines:",
            "text/plain": [
              "<IPython.core.display.Markdown object>"
            ]
          },
          "metadata": {}
        },
        {
          "output_type": "stream",
          "name": "stdout",
          "text": [
            "depth: 8103\n",
            "target: 9,758\n"
          ]
        },
        {
          "output_type": "display_data",
          "data": {
            "text/markdown": "The stored answers are: `{1: '7743', 2: '1029'}`",
            "text/plain": [
              "<IPython.core.display.Markdown object>"
            ]
          },
          "metadata": {}
        }
      ]
    },
    {
      "cell_type": "code",
      "metadata": {
        "id": "FcHPpDmLv5zf"
      },
      "source": [
        "s1 = \"\"\"\n",
        "depth: 510\n",
        "target: 10,10\n",
        "\"\"\""
      ],
      "execution_count": 92,
      "outputs": []
    },
    {
      "cell_type": "markdown",
      "source": [
        "The approach is to find shortest path over a 3D grid (y, x, item (0..2)), with some padding beyond the target location because the path may lie outside the the tight bounding box.\n",
        "\n",
        "I first try the useful graph library `networkx`, comparing the simple Dijkstra algorithm and the `A*` algorithm.  The `A*` algorithm is actually slower, which makes sense because the search domain is a rather tight box bounding the source and target locations.\n",
        "\n",
        "I obtain faster results using a manual implementation of the Dijkstra algorithm.  This is expected because the `networkx` data structure has overhead due to its many nested `dict` elements."
      ],
      "metadata": {
        "id": "PSEfgpIKPim1"
      }
    },
    {
      "cell_type": "code",
      "source": [
        "# https://www.reddit.com/r/adventofcode/comments/a8i1cy/comment/ecazvbe\n",
        "def process1(s, part2=False, pad=60):  # Using networkx; slower.\n",
        "  rocky, wet, narrow = 0, 1, 2\n",
        "  torch, gear, neither = 0, 1, 2\n",
        "  valid_items = {rocky: (torch, gear), wet: (gear, neither),\n",
        "                 neither: (torch, neither)}\n",
        "  valid_regions = {torch: (rocky, narrow), gear: (rocky, wet),\n",
        "                   neither: (wet, narrow)}\n",
        "\n",
        "  def get_cave():\n",
        "    lines = iter(line.strip() for line in s.strip('\\n').split('\\n'))\n",
        "    depth = int(next(lines)[len('depth: '):])\n",
        "    target = tuple([int(n) for n in next(lines)[len('target: '):].split(',')])\n",
        "    return depth, target\n",
        "\n",
        "  def generate_grid(depth, shape):\n",
        "    # (x, y) -> geologic index, erosion level, risk\n",
        "    grid = {}\n",
        "    for y, x in np.ndindex((shape[1], shape[0])):\n",
        "      if (x, y) in [(0, 0), target]:\n",
        "        geo = 0\n",
        "      elif x == 0:\n",
        "        geo = y * 48271\n",
        "      elif y == 0:\n",
        "        geo = x * 16807\n",
        "      else:\n",
        "        geo = grid[x-1, y][1] * grid[x, y-1][1]\n",
        "      ero = (geo + depth) % 20183\n",
        "      risk = ero % 3\n",
        "      grid[x, y] = (geo, ero, risk)\n",
        "    return grid\n",
        "\n",
        "  def generate_graph(grid, shape):\n",
        "    # Note: Using add_weighted_edges_from() just ends up calling add_edge().\n",
        "    # Note: Using np.array for grid is actually slower.\n",
        "    graph = nx.Graph()\n",
        "    for y, x in np.ndindex((shape[1], shape[0])):\n",
        "      items = valid_items[grid[x, y]]\n",
        "      graph.add_edge((x, y, items[0]), (x, y, items[1]), weight=7)\n",
        "    for y, x in np.ndindex((shape[1] - 1, shape[0] - 1)):\n",
        "      items = set(valid_items[grid[x, y]])\n",
        "      for dx, dy in ((0, 1), (1, 0)):\n",
        "        new_x, new_y = x + dx, y + dy\n",
        "        new_items = valid_items[grid[new_x, new_y]]\n",
        "        for item in items.intersection(new_items):\n",
        "          graph.add_edge((x, y, item), (new_x, new_y, item), weight=1)\n",
        "    return graph\n",
        "\n",
        "  def cost_lower_bound(xyi1, xyi2):\n",
        "    (x1, y1, item1), (x2, y2, item2) = xyi1, xyi2\n",
        "    return abs(x1 - x2) + abs(y1 - y2) + (7 if item1 != item2 else 0)\n",
        "\n",
        "  depth, target = get_cave()\n",
        "  if not part2:\n",
        "    shape = (target[0] + 1, target[1] + 1)\n",
        "    grid = generate_grid(depth, shape)\n",
        "    return sum([v[2] for v in grid.values()])\n",
        "\n",
        "  import networkx as nx\n",
        "  shape = (target[0] + pad, target[1] + pad)\n",
        "  grid = {c: v[2] for c, v in (generate_grid(depth, shape)).items()}\n",
        "  graph = generate_graph(grid, shape)\n",
        "  use_astar = True\n",
        "  if use_astar:\n",
        "    return nx.astar_path_length(\n",
        "        graph, (0, 0, torch), (*target, torch), heuristic=cost_lower_bound)\n",
        "  else:\n",
        "    return nx.dijkstra_path_length(\n",
        "        graph, (0, 0, torch), (*target, torch))\n",
        "\n",
        "\n",
        "check_eq(process1(s1), 114)\n",
        "puzzle.verify(1, process1)\n",
        "\n",
        "import importlib\n",
        "if not importlib.util.find_spec('networkx'):\n",
        "  print('Module networkx is unavailable.')\n",
        "else:\n",
        "  process2 = functools.partial(process1, part2=True)\n",
        "  check_eq(process2(s1), 45)\n",
        "  # puzzle.verify(2, process2)  # ~2.0 s using Dijkstra (~2.7 s using A*)."
      ],
      "metadata": {
        "colab": {
          "base_uri": "https://localhost:8080/"
        },
        "id": "3Lwed6pPdfYy",
        "outputId": "21a86006-7ecd-4f8e-c3cd-1cfe13b2dedf"
      },
      "execution_count": 93,
      "outputs": [
        {
          "output_type": "stream",
          "name": "stdout",
          "text": [
            "(Part 1: 0.014 s)\n"
          ]
        }
      ]
    },
    {
      "cell_type": "code",
      "metadata": {
        "id": "qe7k3uEr5KG4",
        "colab": {
          "base_uri": "https://localhost:8080/",
          "height": 196
        },
        "outputId": "630415da-288c-40da-8e19-284470dfc01c"
      },
      "source": [
        "def process1(s, part2=False, pad=60, visualize=False):  # With numba.\n",
        "  lines = s.strip('\\n').split('\\n')\n",
        "  depth = int(re.fullmatch(r'depth: (\\d+)', lines[0]).group(1))\n",
        "  pattern = r'target: (\\d+),(\\d+)'\n",
        "  target_yx = tuple(map(int, re.fullmatch(pattern, lines[1]).groups()))[::-1]\n",
        "\n",
        "  def construct_grid(shape):\n",
        "    erosion_level = np.empty(shape, dtype=np.int64)\n",
        "    for y, x in np.ndindex(shape):\n",
        "      if y == 0:\n",
        "        geologic_index = x * 16807\n",
        "      elif x == 0:\n",
        "        geologic_index = y * 48271\n",
        "      elif (y, x) == target_yx:\n",
        "        geologic_index = 0\n",
        "      else:\n",
        "        geologic_index = erosion_level[y - 1, x] * erosion_level[y, x - 1]\n",
        "      erosion_level[y, x] = (geologic_index + depth) % 20183\n",
        "    return erosion_level % 3\n",
        "\n",
        "  if not part2:\n",
        "    shape = tuple(np.array(target_yx) + 1)\n",
        "    return construct_grid(shape).sum()\n",
        "\n",
        "  @numba_njit(cache=True)\n",
        "  def dijkstra(grid, target_yx, visualize):\n",
        "    # https://levelup.gitconnected.com/dijkstra-algorithm-in-python-8f0e75e3f16e\n",
        "    TORCH = 1\n",
        "    distances = {}\n",
        "    visited = set([(0, 0, 0) for _ in range(0)])  # Typed empty set.\n",
        "    parents = {(0, 0, 0): (0, 0, 0)}  # Dummy entry for numba typing.\n",
        "    source_tyx = TORCH, 0, 0\n",
        "    target_tyx = TORCH, *target_yx\n",
        "    distances[source_tyx] = 0\n",
        "    pq = [(0, source_tyx)]\n",
        "    tool_change = np.array([[-1, 2, 1], [2, -1, 0], [1, 0, -1]])\n",
        "\n",
        "    while pq:\n",
        "      distance, node = heapq.heappop(pq)\n",
        "      if node in visited:\n",
        "        continue\n",
        "      visited.add(node)\n",
        "      if node == target_tyx:\n",
        "        break\n",
        "\n",
        "      def consider(node2, edge_cost):\n",
        "        if ~(node2 in visited):  # (Workaround for numba bug \"not in\".)\n",
        "          distance2 = distance + edge_cost\n",
        "          if distance2 < distances.get(node2, 10**8):\n",
        "            distances[node2] = distance2\n",
        "            heapq.heappush(pq, (distance2, node2))\n",
        "            if visualize:\n",
        "              parents[node2] = node\n",
        "\n",
        "      tool, y, x = node\n",
        "      if y > 0 and grid[y - 1, x] != tool:\n",
        "        consider((tool, y - 1, x), 1)\n",
        "      if x > 0 and grid[y, x - 1] != tool:\n",
        "        consider((tool, y, x - 1), 1)\n",
        "      if y < grid.shape[0] - 1 and grid[y + 1, x] != tool:\n",
        "        consider((tool, y + 1, x), 1)\n",
        "      if x < grid.shape[1] - 1 and grid[y, x + 1] != tool:\n",
        "        consider((tool, y, x + 1), 1)\n",
        "      consider((tool_change[tool, grid[y, x]], y, x), 7)\n",
        "    else:\n",
        "      assert False\n",
        "\n",
        "    path = [node]\n",
        "    while node in parents:\n",
        "      node = parents[node]\n",
        "      path.append(node)\n",
        "    return distance, path[::-1] if visualize else None\n",
        "\n",
        "  shape = tuple(np.array(target_yx) + pad)\n",
        "  grid = construct_grid(shape)\n",
        "  distance, path = dijkstra(grid, target_yx, visualize)\n",
        "  if visualize:\n",
        "    cmap = {0: (150, 0 , 0), 1: (0, 150, 0), 2: (0, 0, 150)}\n",
        "    image = np.array([cmap[e] for e in grid.ravel()], dtype=np.uint8)\n",
        "    image = image.reshape(*grid.shape, 3)\n",
        "    for node in path:\n",
        "      image[node[1:]] += 105  # Let the path be brighter.\n",
        "    # x_max = (image.sum(2) > 0).max(axis=0).argmin() + 5\n",
        "    image = image.transpose(1, 0, 2)\n",
        "    media.show_image(image, height = image.shape[0] * 2)\n",
        "  return distance\n",
        "\n",
        "\n",
        "check_eq(process1(s1), 114)\n",
        "puzzle.verify(1, process1)  # ~14 ms.\n",
        "\n",
        "process2 = functools.partial(process1, part2=True)\n",
        "check_eq(process2(s1), 45)\n",
        "puzzle.verify(2, process2)  # ~240 ms (~1050 ms without numba)\n",
        "_ = process2(puzzle.input, visualize=True)"
      ],
      "execution_count": 94,
      "outputs": [
        {
          "output_type": "stream",
          "name": "stdout",
          "text": [
            "(Part 1: 0.013 s)\n",
            "(Part 2: 0.271 s)\n"
          ]
        },
        {
          "output_type": "display_data",
          "data": {
            "text/html": [
              "<table class=\"show_images\" style=\"border-spacing:0px;\"><tr><td style=\"padding:1px;\"><img width=\"1636\" height=\"138\" style=\"image-rendering:pixelated; object-fit:cover;\" src=\"data:image/png;base64,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\"/></td></tr></table>"
            ],
            "text/plain": [
              "<IPython.core.display.HTML object>"
            ]
          },
          "metadata": {}
        }
      ]
    },
    {
      "cell_type": "markdown",
      "metadata": {
        "id": "LU16jAJt5KLv"
      },
      "source": [
        "<a name=\"day23\"></a>\n",
        "## Day 23: Position in most octahedra"
      ]
    },
    {
      "cell_type": "markdown",
      "metadata": {
        "id": "QKN0J1FH5KLw"
      },
      "source": [
        "- Part 1: Find the nanobot with the largest signal radius. How many nanobots are in range of its signals?\n",
        "\n",
        "- Part 2: Find the coordinates that are in range of the largest number of nanobots. What is the shortest manhattan distance between any of those points and `0,0,0`?"
      ]
    },
    {
      "cell_type": "code",
      "metadata": {
        "id": "CC8x-lJy5KLw",
        "colab": {
          "base_uri": "https://localhost:8080/",
          "height": 302
        },
        "outputId": "5cad426f-d626-4cb8-e612-302eeba8be44"
      },
      "source": [
        "puzzle = advent.puzzle(day=23)"
      ],
      "execution_count": 95,
      "outputs": [
        {
          "output_type": "display_data",
          "data": {
            "text/markdown": "For [day 23](https://adventofcode.com/2018/day/23), `puzzle.input` has 1000 lines:",
            "text/plain": [
              "<IPython.core.display.Markdown object>"
            ]
          },
          "metadata": {}
        },
        {
          "output_type": "stream",
          "name": "stdout",
          "text": [
            "pos=<17821750,69850551,48570194>, r=59707711\n",
            "pos=<-9331508,90659413,35938523>, r=95038229\n",
            "pos=<23833901,-25701718,28216348>, r=82407742\n",
            "pos=<22578717,-4001237,33580852>, r=67327107\n",
            "pos=<-15164551,39459126,39763570>, r=67792575\n",
            "pos=<15583848,-13445920,16647903>, r=75695712\n",
            "pos=<17429546,42820351,39605202>, r=55571372\n",
            "pos=<25306171,10112187,37105526>, r=54010804\n",
            " ...\n",
            "pos=<47372138,56694644,64140898>, r=73726557\n",
            "pos=<-37628346,45604673,30927256>, r=75274807\n",
            "pos=<9855134,42554936,63900237>, r=63813785\n",
            "pos=<75613424,50145291,41345801>, r=72623408\n"
          ]
        },
        {
          "output_type": "display_data",
          "data": {
            "text/markdown": "The stored answers are: `{1: '599', 2: '94481130'}`",
            "text/plain": [
              "<IPython.core.display.Markdown object>"
            ]
          },
          "metadata": {}
        }
      ]
    },
    {
      "cell_type": "code",
      "metadata": {
        "id": "Zw7l9iUg5KLw"
      },
      "source": [
        "s1 = \"\"\"\n",
        "pos=<0,0,0>, r=4\n",
        "pos=<1,0,0>, r=1\n",
        "pos=<4,0,0>, r=3\n",
        "pos=<0,2,0>, r=1\n",
        "pos=<0,5,0>, r=3\n",
        "pos=<0,0,3>, r=1\n",
        "pos=<1,1,1>, r=1\n",
        "pos=<1,1,2>, r=1\n",
        "pos=<1,3,1>, r=1\n",
        "\"\"\""
      ],
      "execution_count": 96,
      "outputs": []
    },
    {
      "cell_type": "code",
      "metadata": {
        "id": "qGcTgHxj0EIo"
      },
      "source": [
        "s2 = \"\"\"\n",
        "pos=<10,12,12>, r=2\n",
        "pos=<12,14,12>, r=2\n",
        "pos=<16,12,12>, r=4\n",
        "pos=<14,14,14>, r=6\n",
        "pos=<50,50,50>, r=200\n",
        "pos=<10,10,10>, r=5\n",
        "\"\"\""
      ],
      "execution_count": 97,
      "outputs": []
    },
    {
      "cell_type": "code",
      "metadata": {
        "colab": {
          "base_uri": "https://localhost:8080/"
        },
        "id": "udx-jelIf44j",
        "outputId": "8da54a86-b928-4c4d-f00b-c3f02901223a"
      },
      "source": [
        "def process1(s, part2=False, verbose=False):\n",
        "  positions, radii = [], []\n",
        "  for line in s.strip('\\n').split('\\n'):\n",
        "    pattern = r'pos=<([0-9-]+),([0-9-]+),([0-9-]+)>, r=(\\d+)'\n",
        "    x, y, z, r = map(int, re.fullmatch(pattern, line).groups())\n",
        "    positions.append((x, y, z))\n",
        "    radii.append(r)\n",
        "  positions, radii = np.array(positions), np.array(radii)\n",
        "\n",
        "  # With Manhattan distance, the in-range region in dimension D is a cocube\n",
        "  # (e.g., an octahedron for D=3).  To efficiently represent intersections of\n",
        "  # cocubes, we use a polytope (bounded convex polyhedron), defined as the\n",
        "  # intersection of half-spaces (each hyperplane parallel to a cocube face).\n",
        "  # The extent of the polytope is represented by an 2**D-dimensional vector `d`.\n",
        "  # Each tuple coefficient d_i represents a hyperplane of a cocube face.\n",
        "  # For D=3, each of the 8 half-spaces is a linear inequality on (x, y, z):\n",
        "  #  h[0] * x + h[1] * y + h[2] * z <= d_i,\n",
        "  # where face 0 has h = (-1, -1, -1),  face 1 has h = (-1, -1, 1), etc.\n",
        "\n",
        "  hvalues = tuple(itertools.product((-1, 1), repeat=3))  # shape [8, 3]\n",
        "  polytopes = [tuple(np.dot(h, position) + radius for h in hvalues)\n",
        "               for position, radius in zip(positions, radii)]\n",
        "\n",
        "  def num_in_range(position):\n",
        "    return np.count_nonzero(abs(positions - position).sum(axis=1) <= radii)\n",
        "\n",
        "  def point_in_polytope(position, polytope):\n",
        "    return all(np.dot(h, position) <= d for h, d in zip(hvalues, polytope))\n",
        "\n",
        "  def intersect(polytope1, polytope2):\n",
        "    return tuple(np.minimum(polytope1, polytope2))\n",
        "\n",
        "  def is_empty(polytope):\n",
        "    # Note that half-space h[i] is in opposite direction of h[-(i + 1)].\n",
        "    return (polytope[0] < -polytope[7] or polytope[1] < -polytope[6] or\n",
        "            polytope[2] < -polytope[5] or polytope[3] < -polytope[4])\n",
        "\n",
        "  def is_infinite(polytope):\n",
        "    return min(polytope) == math.inf\n",
        "\n",
        "  if not part2:\n",
        "    if 1:  # Faster.\n",
        "      i = radii.argmax()\n",
        "      return np.count_nonzero(\n",
        "          abs(positions - positions[i]).sum(axis=1) <= radii[i])\n",
        "    else:  # Sanity check on polytopes.\n",
        "      polytope = polytopes[radii.argmax()]\n",
        "      return sum(1 for p in positions if point_in_polytope(p, polytope))\n",
        "\n",
        "  # Estimate an initial position with a high count of overlapping octahedra.\n",
        "  good_position = tuple(max(positions, key=num_in_range))\n",
        "\n",
        "  distance_threshold, prune_allowance = 10_000_000, 8  # len(polytopes2) = 529, max_count = 528; 0.4 s\n",
        "\n",
        "  while True:\n",
        "    good_ds = tuple(np.dot(hvalue, good_position) for hvalue in hvalues)\n",
        "    # hh.show(good_position, num_in_range(good_position))\n",
        "    # good_position = (22000266, 38655032, 24842411), num_in_range(good_position) = 831\n",
        "\n",
        "    # Modify a polytope to ignore any half-space whose linear boundary is\n",
        "    # distant from good_position.\n",
        "    def omit_far_halfspaces(polytope, good_ds):\n",
        "      return tuple(d if abs(d - good_d) < distance_threshold else math.inf\n",
        "                  for d, good_d in zip(polytope, good_ds))\n",
        "\n",
        "    polytopes2 = [omit_far_halfspaces(p, good_ds) for p in polytopes]\n",
        "    polytopes2 = [p for p in polytopes2 if not is_infinite(p)]\n",
        "\n",
        "    # Heuristically order the polytopes.\n",
        "    polytopes2 = sorted(polytopes2, key=lambda p: np.abs(p).min())\n",
        "    polytopes2 = list(reversed(polytopes2))\n",
        "\n",
        "    pieces = {}  # polytope -> count_of_original_octahedra\n",
        "    for i, polytope in enumerate(polytopes2):\n",
        "      new_pieces = {}\n",
        "      for piece, count in pieces.items():\n",
        "        piece2 = intersect(polytope, piece)\n",
        "        if is_empty(piece2):\n",
        "          continue\n",
        "        new_pieces[piece2] = max(count + 1,\n",
        "                                pieces.get(piece2, 0),\n",
        "                                new_pieces.get(piece2, 0))\n",
        "      pieces.update(new_pieces)\n",
        "      pieces[polytope] = max(1, pieces.get(polytope, 0))\n",
        "      if prune_allowance:\n",
        "        pieces = {piece: count for piece, count in pieces.items()\n",
        "                  if count > i - prune_allowance}\n",
        "\n",
        "    max_count = max(pieces.values())\n",
        "    max_list = [piece for piece, count in pieces.items() if count == max_count]\n",
        "    best_polytope, = max_list\n",
        "    if len(polytopes2) - max_count > prune_allowance:\n",
        "      print('Warning: pruning too large to guarantee the optimal solution.')\n",
        "\n",
        "    min_distance = math.inf\n",
        "    # for c in set(itertools.product([-1, 0, 1], repeat=3)) - {0, 0, 0}:\n",
        "    # for c in hvalues:\n",
        "    for c in [-np.sign(good_position)]:\n",
        "      c = np.array(c, dtype=np.float64)\n",
        "      A_ub = np.array(hvalues)\n",
        "      b_ub = np.nan_to_num(best_polytope, posinf=10**10)\n",
        "      res = scipy.optimize.linprog(c, A_ub, b_ub, method='simplex')\n",
        "      check_eq(res.success, True)\n",
        "      # Handle the case of results with half-integer coordinates.\n",
        "      upper = tuple(np.floor(np.mod(res.x, 1.0) + 1.499).astype(int))\n",
        "      for delta in np.ndindex(upper):\n",
        "        position = tuple((res.x + delta).astype(int))\n",
        "        in_polytope = point_in_polytope(position, best_polytope)\n",
        "        distance = np.abs(position).sum()\n",
        "        if in_polytope:\n",
        "          min_distance = min(min_distance, distance)\n",
        "          best_position = position\n",
        "    distance_from_good = abs(np.array(best_position) - good_position).sum()\n",
        "    hh.show(best_position, min_distance, distance_from_good, num_in_range(best_position))\n",
        "    # best_position = (26794906, 46607439, 21078785), min_distance = 94481130, distance_from_good = 16510673, num_in_range(best_position) = 977\n",
        "    if distance_from_good <= distance_threshold:\n",
        "      break\n",
        "    good_position = best_position\n",
        "    prune_allowance = 4\n",
        "\n",
        "  return min_distance\n",
        "\n",
        "\n",
        "check_eq(process1(s1), 7)\n",
        "puzzle.verify(1, process1)\n",
        "\n",
        "process2 = functools.partial(process1, part2=True)\n",
        "check_eq(process2(s2), 36)\n",
        "# puzzle.verify(2, process2)  # ~2.0 s."
      ],
      "execution_count": 98,
      "outputs": [
        {
          "output_type": "stream",
          "name": "stdout",
          "text": [
            "(Part 1: 0.032 s)\n"
          ]
        },
        {
          "output_type": "stream",
          "name": "stderr",
          "text": [
            "best_position = (12, 12, 12), min_distance = 36, distance_from_good = 2, num_in_range(best_position) = 5\n"
          ]
        }
      ]
    },
    {
      "cell_type": "code",
      "source": [
        "def process1(s, part2=False):\n",
        "  # Divide-and-conquer using octree decomposition, inspired by\n",
        "  # https://github.com/wimglenn/advent-of-code-wim/blob/master/aoc_wim/aoc2018/q23.py.\n",
        "  pattern = r'pos=<([0-9-]+),([0-9-]+),([0-9-]+)>, r=(\\d+)'\n",
        "  data = np.array([list(map(int, re.fullmatch(pattern, line).groups()))\n",
        "                   for line in s.strip('\\n').split('\\n')])\n",
        "  xs, rs = data[:, :3], data[:, 3]\n",
        "  i = rs.argmax()\n",
        "  if not part2:\n",
        "    return (abs(xs - xs[i]).sum(axis=1) <= rs[i]).sum()\n",
        "\n",
        "  x0 = xs.min(axis=0)\n",
        "  priority_queue = [(0, xs.ptp(axis=0).max(), abs(x0).sum(), *x0)]\n",
        "  while priority_queue:\n",
        "    n_out_of_range, s, d, *x = heapq.heappop(priority_queue)\n",
        "    x = np.array(x)\n",
        "    s //= 2\n",
        "    if not s:\n",
        "      # return d\n",
        "      x0 = x\n",
        "      break\n",
        "    dx = np.array(list(itertools.product([0, 1], repeat=3))) * s\n",
        "    for row in x + dx:  # Consider 8 octree child cells.\n",
        "      # Maximize number in range = minimize number out of range.\n",
        "      lo = np.maximum(row - xs, 0)\n",
        "      hi = np.maximum(xs - row - s + 1, 0)  # (xs - row1);  row1 = row + s - 1\n",
        "      n_out = ((lo + hi).sum(axis=1) > rs).sum()\n",
        "      if n_out < len(rs):\n",
        "        heapq.heappush(priority_queue, (n_out, s, abs(row).sum(), *row))\n",
        "  else:\n",
        "    assert False\n",
        "\n",
        "  # Search around neighborhood of x0.\n",
        "  r = 8\n",
        "  for dx in itertools.product(range(-r, r + 1), repeat=3):\n",
        "    x = x0 + dx\n",
        "    n_out = (abs(xs - x).sum(axis=1) > rs).sum()\n",
        "    n_out_of_range, d = min((n_out_of_range, d), (n_out, abs(x).sum()))\n",
        "\n",
        "  return d\n",
        "\n",
        "check_eq(process1(s1), 7)\n",
        "puzzle.verify(1, process1)\n",
        "\n",
        "process2 = functools.partial(process1, part2=True)\n",
        "check_eq(process2(s2), 36)\n",
        "puzzle.verify(2, process2)"
      ],
      "metadata": {
        "colab": {
          "base_uri": "https://localhost:8080/"
        },
        "id": "TE1riH8ZvyU5",
        "outputId": "cd6c3fd1-2bd9-4016-8dd4-aedfb57f6f4f"
      },
      "execution_count": 99,
      "outputs": [
        {
          "output_type": "stream",
          "name": "stdout",
          "text": [
            "(Part 1: 0.005 s)\n",
            "(Part 2: 0.293 s)\n"
          ]
        }
      ]
    },
    {
      "cell_type": "code",
      "source": [
        "def process1(s, part2=False):\n",
        "  # Divide-and-conquer using octree decomposition, adapted from\n",
        "  # https://github.com/wimglenn/advent-of-code-wim/blob/master/aoc_wim/aoc2018/q23.py.\n",
        "  # Improved to be robust (not assuming cubes with power-of-two dimensions).\n",
        "  pattern = r'pos=<([0-9-]+),([0-9-]+),([0-9-]+)>, r=(\\d+)'\n",
        "  data = np.array([list(map(int, re.fullmatch(pattern, line).groups()))\n",
        "                   for line in s.strip('\\n').split('\\n')])\n",
        "  xs, rs = data[:, :-1], data[:, -1]\n",
        "  if not part2:\n",
        "    i = rs.argmax()\n",
        "    return (abs(xs - xs[i]).sum(axis=1) <= rs[i]).sum()\n",
        "\n",
        "  xl, xh = xs.min(axis=0), xs.max(axis=0)\n",
        "  pq = [(0, (xh - xl).max(), abs(xl).sum(), tuple(xl), tuple(xh))]\n",
        "  while pq:\n",
        "    n_out, s, d, xl, xh = heapq.heappop(pq)\n",
        "    if s == 0:\n",
        "      return d\n",
        "    xm = (np.array(xl) + xh) // 2  # Partition into up to 8 octree child cells.\n",
        "    for child_min_max in itertools.product(\n",
        "        *(((l, m), (m + 1, h)) if m < h else ((l, h),)\n",
        "          for l, m, h in zip(xl, xm, xh))):\n",
        "      xl, xh = np.array(child_min_max).T\n",
        "      n_out = ((np.maximum(xl - xs, 0) + np.maximum(xs - xh, 0)).sum(axis=1)\n",
        "               > rs).sum()  # Maximize num in-range = minimize num out-of-range.\n",
        "      heapq.heappush(\n",
        "          pq, (n_out, (xh - xl).max(), abs(xl).sum(), tuple(xl), tuple(xh)))\n",
        "\n",
        "\n",
        "check_eq(process1(s1), 7)\n",
        "puzzle.verify(1, process1)\n",
        "\n",
        "process2 = functools.partial(process1, part2=True)\n",
        "check_eq(process2(s2), 36)\n",
        "puzzle.verify(2, process2)"
      ],
      "metadata": {
        "colab": {
          "base_uri": "https://localhost:8080/"
        },
        "id": "ym_n0prtcHvg",
        "outputId": "6b2a5565-42f2-4b5f-8d49-4cad3a35264e"
      },
      "execution_count": 100,
      "outputs": [
        {
          "output_type": "stream",
          "name": "stdout",
          "text": [
            "(Part 1: 0.004 s)\n",
            "(Part 2: 0.068 s)\n"
          ]
        }
      ]
    },
    {
      "cell_type": "markdown",
      "metadata": {
        "id": "7SlS9DkM5KQX"
      },
      "source": [
        "<a name=\"day24\"></a>\n",
        "## Day 24: Armies with groups of units"
      ]
    },
    {
      "cell_type": "markdown",
      "metadata": {
        "id": "W2g676U25KQY"
      },
      "source": [
        "- Part 1: How many units would the winning army have?\n",
        "\n",
        "- Part 2: How many units does the immune system have left after getting the smallest boost it needs to win?"
      ]
    },
    {
      "cell_type": "code",
      "metadata": {
        "id": "XlIAnrHK5KQY",
        "colab": {
          "base_uri": "https://localhost:8080/",
          "height": 302
        },
        "outputId": "9fa70b4b-7041-4aa7-ed99-a1a027a74e38"
      },
      "source": [
        "puzzle = advent.puzzle(day=24)"
      ],
      "execution_count": 101,
      "outputs": [
        {
          "output_type": "display_data",
          "data": {
            "text/markdown": "For [day 24](https://adventofcode.com/2018/day/24), `puzzle.input` has 23 lines:",
            "text/plain": [
              "<IPython.core.display.Markdown object>"
            ]
          },
          "metadata": {}
        },
        {
          "output_type": "stream",
          "name": "stdout",
          "text": [
            "Immune System:\n",
            "956 units each with 7120 hit points (weak to bludgeoning, slashing) with an atta ... 71 radiation damage at initiative 7\n",
            "1155 units each with 5643 hit points (weak to bludgeoning; immune to cold) with  ... 42 slashing damage at initiative 15\n",
            "1658 units each with 5507 hit points (weak to cold; immune to bludgeoning, slash ... 32 radiation damage at initiative 3\n",
            "5009 units each with 8078 hit points with an attack that does 14 slashing damage at initiative 8\n",
            "22 units each with 4771 hit points (weak to radiation) with an attack that does 1906 bludgeoning damage at initiative 18\n",
            "115 units each with 9090 hit points (immune to slashing; weak to bludgeoning) wi ... 72 slashing damage at initiative 17\n",
            "1062 units each with 11023 hit points (immune to cold, radiation; weak to bludge ... oes 93 fire damage at initiative 19\n",
            " ...\n",
            "3143 units each with 53472 hit points (immune to cold; weak to fire) with an att ... 30 slashing damage at initiative 16\n",
            "451 units each with 28782 hit points with an attack that does 127 slashing damage at initiative 14\n",
            "1688 units each with 24907 hit points (weak to fire) with an attack that does 28 fire damage at initiative 5\n",
            "1193 units each with 10139 hit points (weak to fire; immune to radiation, slashi ... bludgeoning damage at initiative 20\n"
          ]
        },
        {
          "output_type": "display_data",
          "data": {
            "text/markdown": "The stored answers are: `{1: '15392', 2: '1092'}`",
            "text/plain": [
              "<IPython.core.display.Markdown object>"
            ]
          },
          "metadata": {}
        }
      ]
    },
    {
      "cell_type": "code",
      "metadata": {
        "id": "C33eVuFV5KQY"
      },
      "source": [
        "s1 = \"\"\"\n",
        "Immune System:\n",
        "17 units each with 5390 hit points (weak to radiation, bludgeoning) with an attack that does 4507 fire damage at initiative 2\n",
        "989 units each with 1274 hit points (immune to fire; weak to bludgeoning, slashing) with an attack that does 25 slashing damage at initiative 3\n",
        "\n",
        "Infection:\n",
        "801 units each with 4706 hit points (weak to radiation) with an attack that does 116 bludgeoning damage at initiative 1\n",
        "4485 units each with 2961 hit points (immune to radiation; weak to fire, cold) with an attack that does 12 slashing damage at initiative 4\n",
        "\"\"\""
      ],
      "execution_count": 102,
      "outputs": []
    },
    {
      "cell_type": "code",
      "metadata": {
        "id": "r0_sfwOR5KQY",
        "colab": {
          "base_uri": "https://localhost:8080/"
        },
        "outputId": "b2dc37bd-c4c4-4c1f-9d8c-6589b0b2146d"
      },
      "source": [
        "def simulate_immune_fight(s, verbose=False, boost=0, immune_must_win=False):\n",
        "\n",
        "  @dataclasses.dataclass\n",
        "  class Group:\n",
        "    army: 'Army'\n",
        "    id: int\n",
        "    units: int\n",
        "    hit_points: int  # (per_unit)\n",
        "    attack_damage: int  # (per unit)\n",
        "    attack_type: str\n",
        "    initiative: int  # Higher initiative attacks first and wins ties.\n",
        "    attributes: Dict[str, Set]  # ['immune'] and ['weak']\n",
        "    target: 'Group'\n",
        "    targeted: bool\n",
        "\n",
        "    def __init__(self, army, id, line):\n",
        "      self.army = army\n",
        "      self.id = id\n",
        "      pattern = (r'(\\d+) units each with (\\d+) hit points( \\(.*\\))? with'\n",
        "                 r' an attack that does (\\d+) (.*) damage at initiative (\\d+)')\n",
        "      (units, hit_points, attributes, attack_damage, attack_type,\n",
        "       initiative) = re.fullmatch(pattern, line).groups()\n",
        "      (self.units, self.hit_points, self.attack_damage, self.attack_type,\n",
        "       self.initiative) = (int(units), int(hit_points), int(attack_damage),\n",
        "                           attack_type, int(initiative))\n",
        "      self.attributes = {'immune': set(), 'weak': set()}\n",
        "      if attributes:\n",
        "        for attribute in attributes[2:-1].split('; '):\n",
        "          t, ss = attribute.split(' to ')\n",
        "          for s in ss.split(', '):\n",
        "            self.attributes[t].add(s)\n",
        "      if boost and army.name == 'Immune System':\n",
        "        self.attack_damage += boost\n",
        "\n",
        "    def effective_power(self):\n",
        "      return self.units * self.attack_damage\n",
        "\n",
        "    def selection_order(self):\n",
        "      return (-self.effective_power(), -self.initiative)\n",
        "\n",
        "  @dataclasses.dataclass\n",
        "  class Army:\n",
        "    name: str\n",
        "    groups: List[Group]\n",
        "\n",
        "    def __init__(self, s):\n",
        "      lines = s.split('\\n')\n",
        "      self.name = lines[0][:-1]\n",
        "      self.groups = [Group(self, i + 1, line)\n",
        "                     for i, line in enumerate(lines[1:])]\n",
        "\n",
        "  armies = [Army(s_army) for s_army in s.strip('\\n').split('\\n\\n')]\n",
        "\n",
        "  def get_opponent(army):\n",
        "    return next(army2 for army2 in armies if army2 != army)\n",
        "\n",
        "  def compute_damage(group, target):\n",
        "    assert group.army != target.army\n",
        "    damage = group.effective_power()\n",
        "    if group.attack_type in target.attributes['immune']:\n",
        "      damage = 0\n",
        "    if group.attack_type in target.attributes['weak']:\n",
        "      damage *= 2\n",
        "    return damage\n",
        "\n",
        "  while True:\n",
        "    if verbose:\n",
        "      for army in armies:\n",
        "        print(f'{army.name}:')\n",
        "        for group in army.groups:\n",
        "          print(f'Group {group.id} contains {group.units} units')\n",
        "      print()\n",
        "\n",
        "    if any(not army.groups for army in armies):\n",
        "      break\n",
        "\n",
        "    # Target selection.\n",
        "    for army in armies:\n",
        "      for group in army.groups:\n",
        "        group.targeted = False\n",
        "    for army in armies:\n",
        "      opponent = get_opponent(army)\n",
        "      for group in sorted(army.groups, key=lambda g: g.selection_order()):\n",
        "        target = max(opponent.groups, key=lambda g: (\n",
        "            not g.targeted, compute_damage(group, g),\n",
        "            g.effective_power(), g.initiative))\n",
        "        damage = compute_damage(group, target)\n",
        "        if target.targeted or damage == 0:\n",
        "          group.target = None\n",
        "        else:\n",
        "          group.target = target\n",
        "          target.targeted = True\n",
        "          if verbose and target:\n",
        "            print(f'{army.name} group {group.id} would deal defending'\n",
        "                  f' group {target.id} {damage} damage')\n",
        "    if verbose:\n",
        "      print()\n",
        "\n",
        "    # Attacking.\n",
        "    total_killed = 0\n",
        "    for group in sorted((group for army in armies for group in army.groups),\n",
        "                        key=lambda g: -g.initiative):\n",
        "      if group.units == 0 or not group.target or group.target.units == 0:\n",
        "        continue\n",
        "      target = group.target\n",
        "      damage = compute_damage(group, target)\n",
        "      units_killed = min(damage // target.hit_points, target.units)\n",
        "      if verbose:\n",
        "        print(f'{group.army.name} group {group.id} attacks defending'\n",
        "              f' group {target.id}, killing {units_killed} units')\n",
        "      target.units -= units_killed\n",
        "      total_killed += units_killed\n",
        "    if verbose:\n",
        "      print()\n",
        "    if total_killed == 0:\n",
        "      return None  # The fight is a draw.\n",
        "\n",
        "    # Remove empty groups.\n",
        "    for army in armies:\n",
        "      army.groups = [group for group in army.groups if group.units > 0]\n",
        "\n",
        "  army = next(army for army in armies if army.groups)\n",
        "  if immune_must_win and army.name != 'Immune System':\n",
        "    return None\n",
        "  return sum(group.units for group in army.groups)\n",
        "\n",
        "\n",
        "process1 = simulate_immune_fight\n",
        "\n",
        "check_eq(process1(s1), 5216)\n",
        "puzzle.verify(1, process1)  # ~100 ms."
      ],
      "execution_count": 103,
      "outputs": [
        {
          "output_type": "stream",
          "name": "stdout",
          "text": [
            "(Part 1: 0.119 s)\n"
          ]
        }
      ]
    },
    {
      "cell_type": "code",
      "metadata": {
        "id": "g8XSf_lY5KQY",
        "colab": {
          "base_uri": "https://localhost:8080/"
        },
        "outputId": "e3477073-13be-45a2-dc2c-0d29dd62910e"
      },
      "source": [
        "def process2(s):\n",
        "\n",
        "  def boost_result(boost):\n",
        "    return simulate_immune_fight(s, boost=boost, immune_must_win=True)\n",
        "\n",
        "  def binary_search(func, lower, upper):\n",
        "    \"\"\"Returns lowest x for which bool(func(x)) is True.\"\"\"\n",
        "    if 0:\n",
        "      check_eq(func(lower), None)\n",
        "      check_eq(func(upper) is not None, True)\n",
        "    while lower + 1 < upper:\n",
        "      mid = (lower + upper) // 2\n",
        "      value = func(mid)\n",
        "      if value:\n",
        "        upper = mid\n",
        "      else:\n",
        "        lower = mid\n",
        "    return upper\n",
        "\n",
        "  boost = binary_search(boost_result, lower=0, upper=2_000)\n",
        "  print(f'Found solution with boost={boost}')\n",
        "  return boost_result(boost)\n",
        "\n",
        "\n",
        "check_eq(simulate_immune_fight(s1, boost=1570), 51)\n",
        "check_eq(process2(s1), 51)\n",
        "\n",
        "puzzle.verify(2, process2)  # ~1.3 s."
      ],
      "execution_count": 104,
      "outputs": [
        {
          "output_type": "stream",
          "name": "stdout",
          "text": [
            "Found solution with boost=1570\n",
            "Found solution with boost=46\n",
            "(Part 2: 1.292 s)\n"
          ]
        }
      ]
    },
    {
      "cell_type": "markdown",
      "metadata": {
        "id": "3tq1SsLc5KVg"
      },
      "source": [
        "<a name=\"day25\"></a>\n",
        "## Day 25: Clustering nearby 4D points"
      ]
    },
    {
      "cell_type": "markdown",
      "metadata": {
        "id": "qrN-2etk5KVg"
      },
      "source": [
        "- Part 1: Given a set of 4D points, what is the number of clusters of points when edges connect points with Manhattan distance 3 or less?\n",
        "\n",
        "- Part 2: No second part on day 25."
      ]
    },
    {
      "cell_type": "code",
      "metadata": {
        "id": "Z49_CWT05KVg",
        "colab": {
          "base_uri": "https://localhost:8080/",
          "height": 302
        },
        "outputId": "fb6d2dc2-5ab3-4778-d586-fd3b69dfc4e4"
      },
      "source": [
        "puzzle = advent.puzzle(day=25)"
      ],
      "execution_count": 105,
      "outputs": [
        {
          "output_type": "display_data",
          "data": {
            "text/markdown": "For [day 25](https://adventofcode.com/2018/day/25), `puzzle.input` has 1441 lines:",
            "text/plain": [
              "<IPython.core.display.Markdown object>"
            ]
          },
          "metadata": {}
        },
        {
          "output_type": "stream",
          "name": "stdout",
          "text": [
            "4,-5,0,-4\n",
            "0,3,-3,2\n",
            "-6,5,-7,4\n",
            "6,-3,-1,-3\n",
            "-5,4,0,-6\n",
            "8,-6,-7,7\n",
            "0,-7,6,5\n",
            "-5,-6,4,0\n",
            " ...\n",
            "2,1,-7,-7\n",
            "-7,-8,5,1\n",
            "2,-1,-3,1\n",
            "0,-6,-3,-3\n"
          ]
        },
        {
          "output_type": "display_data",
          "data": {
            "text/markdown": "The stored answers are: `{1: '359', 2: ''}`",
            "text/plain": [
              "<IPython.core.display.Markdown object>"
            ]
          },
          "metadata": {}
        }
      ]
    },
    {
      "cell_type": "code",
      "metadata": {
        "id": "qAY8Wey45KVg"
      },
      "source": [
        "s1 = \"\"\"\n",
        " 0,0,0,0\n",
        " 3,0,0,0\n",
        " 0,3,0,0\n",
        " 0,0,3,0\n",
        " 0,0,0,3\n",
        " 0,0,0,6\n",
        " 9,0,0,0\n",
        "12,0,0,0\n",
        "\"\"\"\n",
        "\n",
        "s2 = \"\"\"\n",
        "-1,2,2,0\n",
        "0,0,2,-2\n",
        "0,0,0,-2\n",
        "-1,2,0,0\n",
        "-2,-2,-2,2\n",
        "3,0,2,-1\n",
        "-1,3,2,2\n",
        "-1,0,-1,0\n",
        "0,2,1,-2\n",
        "3,0,0,0\n",
        "\"\"\"\n",
        "\n",
        "s3 = \"\"\"\n",
        "1,-1,0,1\n",
        "2,0,-1,0\n",
        "3,2,-1,0\n",
        "0,0,3,1\n",
        "0,0,-1,-1\n",
        "2,3,-2,0\n",
        "-2,2,0,0\n",
        "2,-2,0,-1\n",
        "1,-1,0,-1\n",
        "3,2,0,2\n",
        "\"\"\"\n",
        "\n",
        "s4 = \"\"\"\n",
        "1,-1,-1,-2\n",
        "-2,-2,0,1\n",
        "0,2,1,3\n",
        "-2,3,-2,1\n",
        "0,2,3,-2\n",
        "-1,-1,1,-2\n",
        "0,-2,-1,0\n",
        "-2,2,3,-1\n",
        "1,2,2,0\n",
        "-1,-2,0,-2\n",
        "\"\"\""
      ],
      "execution_count": 106,
      "outputs": []
    },
    {
      "cell_type": "code",
      "metadata": {
        "id": "nh-viPPq5KVg"
      },
      "source": [
        "class UnionFind:\n",
        "  \"\"\"Union-find is an efficient technique for tracking equivalence classes as\n",
        "  pairs of elements are incrementally unified into the same class.\n",
        "  The implementation uses path compression but without weight-balancing, so the\n",
        "  worst case time complexity is O(nlogn), but the average case is O(n).\n",
        "  \"\"\"\n",
        "\n",
        "  def __init__(self):\n",
        "    self._rep = {}\n",
        "\n",
        "  def unify(self, a: Any, b: Any) -> None:\n",
        "    \"\"\"Merge the equivalence class of b into that of a.\"\"\"\n",
        "    rep_a, rep_b = self.get_rep(a), self.get_rep(b)\n",
        "    self._rep[rep_b] = rep_a\n",
        "\n",
        "  def same(self, a: Any, b: Any) -> bool:\n",
        "    \"\"\"Returns whether a and b are in the same equivalence class.\"\"\"\n",
        "    return self.get_rep(a) == self.get_rep(b)\n",
        "\n",
        "  def get_rep(self, a: Any) -> Any:\n",
        "    \"\"\"Returns a representative for the class of a; valid until next unify().\"\"\"\n",
        "    if a not in self._rep:\n",
        "      return a\n",
        "    parents = []\n",
        "    while True:\n",
        "      parent = self._rep.setdefault(a, a)\n",
        "      if parent == a:\n",
        "        break\n",
        "      parents.append(a)\n",
        "      a = parent\n",
        "    for p in parents:\n",
        "      self._rep[p] = a\n",
        "    return a\n",
        "\n",
        "\n",
        "def test_union_find():\n",
        "  union_find = UnionFind()\n",
        "  check_eq(union_find.same(12, 12), True)\n",
        "  check_eq(union_find.same(12, 23), False)\n",
        "  check_eq(union_find.same(12, 35), False)\n",
        "  check_eq(union_find.same(23, 35), False)\n",
        "  union_find.unify(12, 23)\n",
        "  check_eq(union_find.same(12, 12), True)\n",
        "  check_eq(union_find.same(12, 23), True)\n",
        "  check_eq(union_find.same(12, 35), False)\n",
        "  check_eq(union_find.same(23, 35), False)\n",
        "  union_find.unify(23, 35)\n",
        "  check_eq(union_find.same(12, 12), True)\n",
        "  check_eq(union_find.same(12, 23), True)\n",
        "  check_eq(union_find.same(12, 35), True)\n",
        "  check_eq(union_find.same(23, 35), True)\n",
        "\n",
        "test_union_find()"
      ],
      "execution_count": 107,
      "outputs": []
    },
    {
      "cell_type": "code",
      "metadata": {
        "colab": {
          "base_uri": "https://localhost:8080/"
        },
        "id": "A7ZSK3XMFvjv",
        "outputId": "fe4cce83-ce16-4805-e072-ba7419542e5e"
      },
      "source": [
        "def process1(s):  # Slower version.\n",
        "  points = [tuple(map(int, l.split(','))) for l in s.strip('\\n').split('\\n')]\n",
        "\n",
        "  union_find = UnionFind()\n",
        "  num_edges = 0\n",
        "  for i in range(len(points)):\n",
        "    for j in range(i + 1, len(points)):\n",
        "      p, q = points[i], points[j]\n",
        "      if (abs(p[0] - q[0]) + abs(p[1] - q[1]) +\n",
        "          abs(p[2] - q[2]) + abs(p[3] - q[3])) <= 3:\n",
        "        num_edges += 1\n",
        "        union_find.unify(i, j)\n",
        "\n",
        "  print(f'Graph has {len(points)} vertices and {num_edges} edges.')\n",
        "  cluster_reps = {union_find.get_rep(i) for i in range(len(points))}\n",
        "  return len(cluster_reps)\n",
        "\n",
        "check_eq(process1(s1), 2)\n",
        "check_eq(process1(s2), 4)\n",
        "check_eq(process1(s3), 3)\n",
        "check_eq(process1(s4), 8)\n",
        "puzzle.verify(1, process1)  # ~660 ms."
      ],
      "execution_count": 108,
      "outputs": [
        {
          "output_type": "stream",
          "name": "stdout",
          "text": [
            "Graph has 8 vertices and 6 edges.\n",
            "Graph has 10 vertices and 7 edges.\n",
            "Graph has 10 vertices and 7 edges.\n",
            "Graph has 10 vertices and 2 edges.\n",
            "Graph has 1441 vertices and 1447 edges.\n",
            "(Part 1: 0.743 s)\n"
          ]
        }
      ]
    },
    {
      "cell_type": "code",
      "source": [
        "def process1(s):  # Faster version, using numpy to identify the graph edges.\n",
        "  points = [[int(t) for t in l.split(',')] for l in s.strip('\\n').split('\\n')]\n",
        "  points = np.array(points)\n",
        "  union_find = UnionFind()\n",
        "  edges = abs(points[None] - points.reshape(-1, 1, 4)).sum(axis=-1) <= 3\n",
        "  for i, j in np.argwhere(edges):\n",
        "    union_find.unify(i, j)\n",
        "  return len({union_find.get_rep(i) for i in range(len(points))})\n",
        "\n",
        "check_eq(process1(s1), 2)\n",
        "check_eq(process1(s2), 4)\n",
        "check_eq(process1(s3), 3)\n",
        "check_eq(process1(s4), 8)\n",
        "puzzle.verify(1, process1)  # ~93 ms."
      ],
      "metadata": {
        "colab": {
          "base_uri": "https://localhost:8080/"
        },
        "id": "8kq0rJmhoHSr",
        "outputId": "c486826f-dc46-4c23-b520-a499df276446"
      },
      "execution_count": 109,
      "outputs": [
        {
          "output_type": "stream",
          "name": "stdout",
          "text": [
            "(Part 1: 0.118 s)\n"
          ]
        }
      ]
    },
    {
      "cell_type": "code",
      "metadata": {
        "id": "84L2KE3Q5KVg",
        "colab": {
          "base_uri": "https://localhost:8080/"
        },
        "outputId": "29347850-55db-4b8d-8160-294ce1bddcbe"
      },
      "source": [
        "puzzle.verify(2, lambda s: '')  # (No \"Part 2\" on last day.)\n",
        "# (aocd does not allow a blank answer; the answer is not submitted)"
      ],
      "execution_count": 110,
      "outputs": [
        {
          "output_type": "stream",
          "name": "stdout",
          "text": [
            "(Part 2: 0.000 s)\n"
          ]
        }
      ]
    },
    {
      "cell_type": "markdown",
      "metadata": {
        "id": "If8mZUwzx1Id"
      },
      "source": [
        "<a name=\"timings\"></a>\n",
        "## Timings"
      ]
    },
    {
      "cell_type": "code",
      "metadata": {
        "id": "aTzBo92e5pb3",
        "colab": {
          "base_uri": "https://localhost:8080/"
        },
        "outputId": "d346ca4e-b8ec-491f-acf4-73b81620da1e"
      },
      "source": [
        "advent.show_times()"
      ],
      "execution_count": 209,
      "outputs": [
        {
          "output_type": "stream",
          "name": "stdout",
          "text": [
            "day_1    part_1: 0.000   part_2: 0.037\n",
            "day_2    part_1: 0.002   part_2: 0.006\n",
            "day_3    part_1: 0.018   part_2: 0.022\n",
            "day_4    part_1: 0.007   part_2: 0.012\n",
            "day_5    part_1: 0.020   part_2: 0.044\n",
            "day_6    part_1: 0.131   part_2: 0.067\n",
            "day_7    part_1: 0.000   part_2: 0.004\n",
            "day_8    part_1: 0.011   part_2: 0.010\n",
            "day_9    part_1: 0.011   part_2: 0.062\n",
            "day_10   part_1: 0.003   part_2: 0.004\n",
            "day_11   part_1: 0.006   part_2: 0.112\n",
            "day_12   part_1: 0.004   part_2: 0.092\n",
            "day_13   part_1: 0.034   part_2: 0.663\n",
            "day_14   part_1: 0.031   part_2: 0.180\n",
            "day_15   part_1: 0.224   part_2: 0.690\n",
            "day_16   part_1: 0.019   part_2: 0.027\n",
            "day_17   part_1: 0.124   part_2: 0.121\n",
            "day_18   part_1: 0.010   part_2: 0.704\n",
            "day_19   part_1: 0.000   part_2: 0.001\n",
            "day_20   part_1: 1.033   part_2: 0.924\n",
            "day_21   part_1: 0.000   part_2: 0.628\n",
            "day_22   part_1: 0.013   part_2: 0.271\n",
            "day_23   part_1: 0.004   part_2: 0.068\n",
            "day_24   part_1: 0.119   part_2: 1.292\n",
            "day_25   part_1: 0.118   part_2: 0.000\n",
            "Total time:  7.984 s\n"
          ]
        }
      ]
    },
    {
      "cell_type": "code",
      "metadata": {
        "id": "NZuIFHku84A6"
      },
      "source": [
        "if 0:  # Compute min execution times over several calls.\n",
        "  advent.show_times(recompute=True, repeat=3)"
      ],
      "execution_count": 112,
      "outputs": []
    },
    {
      "cell_type": "code",
      "metadata": {
        "id": "0nio3urkmwZF"
      },
      "source": [
        "if 0:  # Look for unwanted pollution of namespace.\n",
        "  print(textwrap.fill(' '.join(var for var, value in globals().items() if (\n",
        "      not var.startswith('_') and not repr(value).startswith(\n",
        "          ('<module', '<class', 'typing.', 'functools.partial('))))))"
      ],
      "execution_count": 113,
      "outputs": []
    },
    {
      "cell_type": "code",
      "metadata": {
        "id": "4TwDqJdtG0fy"
      },
      "source": [
        "if 0:  # Save puzzle inputs and answers to a ZIP file for downloading.\n",
        "  # Create a new zip file, quietly (-q) and ignoring relative paths (-j).\n",
        "  !zip -q -j - ~/.config/aocd/'{PROFILE.replace(\"_\", \" \")}'/*.txt >/content/data.zip"
      ],
      "execution_count": 114,
      "outputs": []
    },
    {
      "cell_type": "markdown",
      "metadata": {
        "id": "GtTzv1y282IP"
      },
      "source": [
        "# End"
      ]
    }
  ]
}